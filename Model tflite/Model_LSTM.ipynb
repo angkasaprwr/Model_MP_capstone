{
 "cells": [
  {
   "cell_type": "code",
   "execution_count": 1,
   "metadata": {
    "colab": {
     "base_uri": "https://localhost:8080/"
    },
    "executionInfo": {
     "elapsed": 2488,
     "status": "ok",
     "timestamp": 1749089877629,
     "user": {
      "displayName": "Agit Saputra",
      "userId": "06617746144594588797"
     },
     "user_tz": -420
    },
    "id": "tFEm9VxaasB2",
    "outputId": "905551be-f17e-448b-f582-d464bc00f752"
   },
   "outputs": [],
   "source": [
    "#from google.colab import drive\n",
    "#drive.mount('/content/drive')"
   ]
  },
  {
   "cell_type": "code",
   "execution_count": 2,
   "metadata": {
    "colab": {
     "base_uri": "https://localhost:8080/"
    },
    "executionInfo": {
     "elapsed": 3787,
     "status": "ok",
     "timestamp": 1749089884763,
     "user": {
      "displayName": "Agit Saputra",
      "userId": "06617746144594588797"
     },
     "user_tz": -420
    },
    "id": "4H4Sg4mbas7t",
    "outputId": "831b4637-782d-457b-db98-d788f498d1b9"
   },
   "outputs": [
    {
     "name": "stdout",
     "output_type": "stream",
     "text": [
      "Requirement already satisfied: mediapipe==0.10.8 in d:\\semester 6\\program\\python310\\lib\\site-packages (0.10.8)\n",
      "Requirement already satisfied: protobuf==3.20.3 in d:\\semester 6\\program\\python310\\lib\\site-packages (3.20.3)\n",
      "Requirement already satisfied: numpy==1.26.4 in d:\\semester 6\\program\\python310\\lib\\site-packages (1.26.4)\n",
      "Requirement already satisfied: absl-py in d:\\semester 6\\program\\python310\\lib\\site-packages (from mediapipe==0.10.8) (2.1.0)\n",
      "Requirement already satisfied: attrs>=19.1.0 in d:\\semester 6\\program\\python310\\lib\\site-packages (from mediapipe==0.10.8) (25.3.0)\n",
      "Requirement already satisfied: flatbuffers>=2.0 in d:\\semester 6\\program\\python310\\lib\\site-packages (from mediapipe==0.10.8) (25.2.10)\n",
      "Requirement already satisfied: matplotlib in d:\\semester 6\\program\\python310\\lib\\site-packages (from mediapipe==0.10.8) (3.10.1)\n",
      "Requirement already satisfied: opencv-contrib-python in d:\\semester 6\\program\\python310\\lib\\site-packages (from mediapipe==0.10.8) (4.11.0.86)\n",
      "Requirement already satisfied: sounddevice>=0.4.4 in d:\\semester 6\\program\\python310\\lib\\site-packages (from mediapipe==0.10.8) (0.5.1)\n",
      "Requirement already satisfied: CFFI>=1.0 in d:\\semester 6\\program\\python310\\lib\\site-packages (from sounddevice>=0.4.4->mediapipe==0.10.8) (1.17.1)\n",
      "Requirement already satisfied: pycparser in d:\\semester 6\\program\\python310\\lib\\site-packages (from CFFI>=1.0->sounddevice>=0.4.4->mediapipe==0.10.8) (2.22)\n",
      "Requirement already satisfied: contourpy>=1.0.1 in d:\\semester 6\\program\\python310\\lib\\site-packages (from matplotlib->mediapipe==0.10.8) (1.3.1)\n",
      "Requirement already satisfied: cycler>=0.10 in d:\\semester 6\\program\\python310\\lib\\site-packages (from matplotlib->mediapipe==0.10.8) (0.12.1)\n",
      "Requirement already satisfied: fonttools>=4.22.0 in d:\\semester 6\\program\\python310\\lib\\site-packages (from matplotlib->mediapipe==0.10.8) (4.56.0)\n",
      "Requirement already satisfied: kiwisolver>=1.3.1 in d:\\semester 6\\program\\python310\\lib\\site-packages (from matplotlib->mediapipe==0.10.8) (1.4.8)\n",
      "Requirement already satisfied: packaging>=20.0 in d:\\semester 6\\program\\python310\\lib\\site-packages (from matplotlib->mediapipe==0.10.8) (24.2)\n",
      "Requirement already satisfied: pillow>=8 in d:\\semester 6\\program\\python310\\lib\\site-packages (from matplotlib->mediapipe==0.10.8) (11.1.0)\n",
      "Requirement already satisfied: pyparsing>=2.3.1 in d:\\semester 6\\program\\python310\\lib\\site-packages (from matplotlib->mediapipe==0.10.8) (3.2.1)\n",
      "Requirement already satisfied: python-dateutil>=2.7 in d:\\semester 6\\program\\python310\\lib\\site-packages (from matplotlib->mediapipe==0.10.8) (2.9.0.post0)\n",
      "Requirement already satisfied: six>=1.5 in d:\\semester 6\\program\\python310\\lib\\site-packages (from python-dateutil>=2.7->matplotlib->mediapipe==0.10.8) (1.17.0)\n",
      "Note: you may need to restart the kernel to use updated packages.\n"
     ]
    }
   ],
   "source": [
    "# Install versi yang kompatibel di Colab\n",
    "%pip install mediapipe==0.10.8 protobuf==3.20.3 numpy==1.26.4"
   ]
  },
  {
   "cell_type": "code",
   "execution_count": 3,
   "metadata": {
    "executionInfo": {
     "elapsed": 5123,
     "status": "ok",
     "timestamp": 1749089926745,
     "user": {
      "displayName": "Agit Saputra",
      "userId": "06617746144594588797"
     },
     "user_tz": -420
    },
    "id": "39VxGnX3iBx2"
   },
   "outputs": [],
   "source": [
    "import os\n",
    "import cv2\n",
    "import numpy as np\n",
    "import pandas as pd\n",
    "import mediapipe as mp\n",
    "from tqdm import tqdm\n",
    "\n",
    "DATASET_PATH = 'D:\\Semester 6\\PEMROGRAMAN SISTEM CERDAS 2\\capstone_mp_model\\data'  # Ganti sesuai foldermu\n",
    "MAX_FRAMES = 30"
   ]
  },
  {
   "cell_type": "code",
   "execution_count": 4,
   "metadata": {
    "executionInfo": {
     "elapsed": 4,
     "status": "ok",
     "timestamp": 1749089938678,
     "user": {
      "displayName": "Agit Saputra",
      "userId": "06617746144594588797"
     },
     "user_tz": -420
    },
    "id": "J8Qq94mF4ijF"
   },
   "outputs": [],
   "source": [
    "mp_pose = mp.solutions.pose\n",
    "\n",
    "def extract_keypoints_from_video(video_path, max_frames=MAX_FRAMES):\n",
    "    cap = cv2.VideoCapture(video_path)\n",
    "    pose = mp_pose.Pose()\n",
    "    sequence = []\n",
    "\n",
    "    while cap.isOpened() and len(sequence) < max_frames:\n",
    "        ret, frame = cap.read()\n",
    "        if not ret:\n",
    "            break\n",
    "\n",
    "        image = cv2.cvtColor(frame, cv2.COLOR_BGR2RGB)\n",
    "        results = pose.process(image)\n",
    "\n",
    "        if results.pose_landmarks:\n",
    "            keypoints = []\n",
    "            for lm in results.pose_landmarks.landmark:\n",
    "                keypoints.extend([lm.x, lm.y])  # Tambah lm.z jika butuh 3D\n",
    "            sequence.append(keypoints)\n",
    "\n",
    "    cap.release()\n",
    "    pose.close()\n",
    "\n",
    "    if len(sequence) == max_frames:\n",
    "        return np.array(sequence).flatten()\n",
    "    return None"
   ]
  },
  {
   "cell_type": "code",
   "execution_count": 5,
   "metadata": {
    "colab": {
     "base_uri": "https://localhost:8080/"
    },
    "executionInfo": {
     "elapsed": 116002,
     "status": "ok",
     "timestamp": 1749090101186,
     "user": {
      "displayName": "Agit Saputra",
      "userId": "06617746144594588797"
     },
     "user_tz": -420
    },
    "id": "OcxlEUv44mtJ",
    "outputId": "7e5a9171-42e8-4889-8ef6-870756011fd0"
   },
   "outputs": [
    {
     "name": "stderr",
     "output_type": "stream",
     "text": [
      "Proses kelas 'Ankle Circles': 100%|██████████| 1/1 [00:01<00:00,  1.56s/it]\n",
      "Proses kelas 'Arm Circles': 100%|██████████| 2/2 [00:05<00:00,  2.51s/it]\n",
      "Proses kelas 'Breathing Exercise': 100%|██████████| 3/3 [00:04<00:00,  1.60s/it]\n",
      "Proses kelas 'Calf Raises': 100%|██████████| 2/2 [00:03<00:00,  1.75s/it]\n",
      "Proses kelas 'Forward Bend': 100%|██████████| 2/2 [00:12<00:00,  6.16s/it]\n",
      "Proses kelas 'Hip Circles': 100%|██████████| 2/2 [00:03<00:00,  1.65s/it]\n",
      "Proses kelas 'Jumping Jacks': 100%|██████████| 2/2 [00:05<00:00,  2.99s/it]\n",
      "Proses kelas 'Knee Lifts': 100%|██████████| 1/1 [00:01<00:00,  1.46s/it]\n",
      "Proses kelas 'Lunges': 100%|██████████| 1/1 [00:01<00:00,  1.55s/it]\n",
      "Proses kelas 'Neck Stretch': 100%|██████████| 2/2 [00:03<00:00,  1.71s/it]\n",
      "Proses kelas 'Shoulder Rolls': 100%|██████████| 1/1 [00:01<00:00,  1.49s/it]\n",
      "Proses kelas 'Side Stretch': 100%|██████████| 1/1 [00:14<00:00, 14.61s/it]\n",
      "Proses kelas 'Squats': 100%|██████████| 1/1 [00:01<00:00,  1.45s/it]\n",
      "Proses kelas 'Torso Twist': 100%|██████████| 1/1 [00:02<00:00,  2.36s/it]\n",
      "Proses kelas 'Wrist Stretch': 100%|██████████| 1/1 [00:01<00:00,  1.44s/it]\n"
     ]
    },
    {
     "name": "stdout",
     "output_type": "stream",
     "text": [
      "pose_dataset.csv berhasil disimpan\n"
     ]
    }
   ],
   "source": [
    "all_data = []\n",
    "all_labels = []\n",
    "\n",
    "class_names = sorted(os.listdir(DATASET_PATH))\n",
    "\n",
    "for label in class_names:\n",
    "    class_path = os.path.join(DATASET_PATH, label)\n",
    "    if os.path.isdir(class_path):\n",
    "        for video_file in tqdm(os.listdir(class_path), desc=f\"Proses kelas '{label}'\"):\n",
    "            if video_file.endswith(('.mp4', '.avi', '.mov')):\n",
    "                video_path = os.path.join(class_path, video_file)\n",
    "                features = extract_keypoints_from_video(video_path)\n",
    "                if features is not None:\n",
    "                    all_data.append(features)\n",
    "                    all_labels.append(label)\n",
    "\n",
    "# Simpan CSV\n",
    "df = pd.DataFrame(all_data)\n",
    "df[\"label\"] = all_labels\n",
    "df.to_csv(\"D:\\Semester 6\\PEMROGRAMAN SISTEM CERDAS 2\\capstone_mp_model\\Model tflite\\pose_dataset.csv\", index=False)\n",
    "print(\"pose_dataset.csv berhasil disimpan\")"
   ]
  },
  {
   "cell_type": "code",
   "execution_count": 6,
   "metadata": {
    "colab": {
     "base_uri": "https://localhost:8080/",
     "height": 1000
    },
    "executionInfo": {
     "elapsed": 11718,
     "status": "ok",
     "timestamp": 1749090192104,
     "user": {
      "displayName": "Agit Saputra",
      "userId": "06617746144594588797"
     },
     "user_tz": -420
    },
    "id": "WuuCjTlh4yAF",
    "outputId": "ff8c55b3-f508-4ce9-a820-9483a624e399"
   },
   "outputs": [
    {
     "name": "stderr",
     "output_type": "stream",
     "text": [
      "d:\\Semester 6\\program\\Python310\\lib\\site-packages\\keras\\src\\layers\\rnn\\rnn.py:199: UserWarning: Do not pass an `input_shape`/`input_dim` argument to a layer. When using Sequential models, prefer using an `Input(shape)` object as the first layer in the model instead.\n",
      "  super().__init__(**kwargs)\n"
     ]
    },
    {
     "data": {
      "text/html": [
       "<pre style=\"white-space:pre;overflow-x:auto;line-height:normal;font-family:Menlo,'DejaVu Sans Mono',consolas,'Courier New',monospace\"><span style=\"font-weight: bold\">Model: \"sequential\"</span>\n",
       "</pre>\n"
      ],
      "text/plain": [
       "\u001b[1mModel: \"sequential\"\u001b[0m\n"
      ]
     },
     "metadata": {},
     "output_type": "display_data"
    },
    {
     "data": {
      "text/html": [
       "<pre style=\"white-space:pre;overflow-x:auto;line-height:normal;font-family:Menlo,'DejaVu Sans Mono',consolas,'Courier New',monospace\">┏━━━━━━━━━━━━━━━━━━━━━━━━━━━━━━━━━┳━━━━━━━━━━━━━━━━━━━━━━━━┳━━━━━━━━━━━━━━━┓\n",
       "┃<span style=\"font-weight: bold\"> Layer (type)                    </span>┃<span style=\"font-weight: bold\"> Output Shape           </span>┃<span style=\"font-weight: bold\">       Param # </span>┃\n",
       "┡━━━━━━━━━━━━━━━━━━━━━━━━━━━━━━━━━╇━━━━━━━━━━━━━━━━━━━━━━━━╇━━━━━━━━━━━━━━━┩\n",
       "│ lstm (<span style=\"color: #0087ff; text-decoration-color: #0087ff\">LSTM</span>)                     │ (<span style=\"color: #00d7ff; text-decoration-color: #00d7ff\">None</span>, <span style=\"color: #00af00; text-decoration-color: #00af00\">64</span>)             │        <span style=\"color: #00af00; text-decoration-color: #00af00\">33,536</span> │\n",
       "├─────────────────────────────────┼────────────────────────┼───────────────┤\n",
       "│ dropout (<span style=\"color: #0087ff; text-decoration-color: #0087ff\">Dropout</span>)               │ (<span style=\"color: #00d7ff; text-decoration-color: #00d7ff\">None</span>, <span style=\"color: #00af00; text-decoration-color: #00af00\">64</span>)             │             <span style=\"color: #00af00; text-decoration-color: #00af00\">0</span> │\n",
       "├─────────────────────────────────┼────────────────────────┼───────────────┤\n",
       "│ dense (<span style=\"color: #0087ff; text-decoration-color: #0087ff\">Dense</span>)                   │ (<span style=\"color: #00d7ff; text-decoration-color: #00d7ff\">None</span>, <span style=\"color: #00af00; text-decoration-color: #00af00\">64</span>)             │         <span style=\"color: #00af00; text-decoration-color: #00af00\">4,160</span> │\n",
       "├─────────────────────────────────┼────────────────────────┼───────────────┤\n",
       "│ dense_1 (<span style=\"color: #0087ff; text-decoration-color: #0087ff\">Dense</span>)                 │ (<span style=\"color: #00d7ff; text-decoration-color: #00d7ff\">None</span>, <span style=\"color: #00af00; text-decoration-color: #00af00\">15</span>)             │           <span style=\"color: #00af00; text-decoration-color: #00af00\">975</span> │\n",
       "└─────────────────────────────────┴────────────────────────┴───────────────┘\n",
       "</pre>\n"
      ],
      "text/plain": [
       "┏━━━━━━━━━━━━━━━━━━━━━━━━━━━━━━━━━┳━━━━━━━━━━━━━━━━━━━━━━━━┳━━━━━━━━━━━━━━━┓\n",
       "┃\u001b[1m \u001b[0m\u001b[1mLayer (type)                   \u001b[0m\u001b[1m \u001b[0m┃\u001b[1m \u001b[0m\u001b[1mOutput Shape          \u001b[0m\u001b[1m \u001b[0m┃\u001b[1m \u001b[0m\u001b[1m      Param #\u001b[0m\u001b[1m \u001b[0m┃\n",
       "┡━━━━━━━━━━━━━━━━━━━━━━━━━━━━━━━━━╇━━━━━━━━━━━━━━━━━━━━━━━━╇━━━━━━━━━━━━━━━┩\n",
       "│ lstm (\u001b[38;5;33mLSTM\u001b[0m)                     │ (\u001b[38;5;45mNone\u001b[0m, \u001b[38;5;34m64\u001b[0m)             │        \u001b[38;5;34m33,536\u001b[0m │\n",
       "├─────────────────────────────────┼────────────────────────┼───────────────┤\n",
       "│ dropout (\u001b[38;5;33mDropout\u001b[0m)               │ (\u001b[38;5;45mNone\u001b[0m, \u001b[38;5;34m64\u001b[0m)             │             \u001b[38;5;34m0\u001b[0m │\n",
       "├─────────────────────────────────┼────────────────────────┼───────────────┤\n",
       "│ dense (\u001b[38;5;33mDense\u001b[0m)                   │ (\u001b[38;5;45mNone\u001b[0m, \u001b[38;5;34m64\u001b[0m)             │         \u001b[38;5;34m4,160\u001b[0m │\n",
       "├─────────────────────────────────┼────────────────────────┼───────────────┤\n",
       "│ dense_1 (\u001b[38;5;33mDense\u001b[0m)                 │ (\u001b[38;5;45mNone\u001b[0m, \u001b[38;5;34m15\u001b[0m)             │           \u001b[38;5;34m975\u001b[0m │\n",
       "└─────────────────────────────────┴────────────────────────┴───────────────┘\n"
      ]
     },
     "metadata": {},
     "output_type": "display_data"
    },
    {
     "data": {
      "text/html": [
       "<pre style=\"white-space:pre;overflow-x:auto;line-height:normal;font-family:Menlo,'DejaVu Sans Mono',consolas,'Courier New',monospace\"><span style=\"font-weight: bold\"> Total params: </span><span style=\"color: #00af00; text-decoration-color: #00af00\">38,671</span> (151.06 KB)\n",
       "</pre>\n"
      ],
      "text/plain": [
       "\u001b[1m Total params: \u001b[0m\u001b[38;5;34m38,671\u001b[0m (151.06 KB)\n"
      ]
     },
     "metadata": {},
     "output_type": "display_data"
    },
    {
     "data": {
      "text/html": [
       "<pre style=\"white-space:pre;overflow-x:auto;line-height:normal;font-family:Menlo,'DejaVu Sans Mono',consolas,'Courier New',monospace\"><span style=\"font-weight: bold\"> Trainable params: </span><span style=\"color: #00af00; text-decoration-color: #00af00\">38,671</span> (151.06 KB)\n",
       "</pre>\n"
      ],
      "text/plain": [
       "\u001b[1m Trainable params: \u001b[0m\u001b[38;5;34m38,671\u001b[0m (151.06 KB)\n"
      ]
     },
     "metadata": {},
     "output_type": "display_data"
    },
    {
     "data": {
      "text/html": [
       "<pre style=\"white-space:pre;overflow-x:auto;line-height:normal;font-family:Menlo,'DejaVu Sans Mono',consolas,'Courier New',monospace\"><span style=\"font-weight: bold\"> Non-trainable params: </span><span style=\"color: #00af00; text-decoration-color: #00af00\">0</span> (0.00 B)\n",
       "</pre>\n"
      ],
      "text/plain": [
       "\u001b[1m Non-trainable params: \u001b[0m\u001b[38;5;34m0\u001b[0m (0.00 B)\n"
      ]
     },
     "metadata": {},
     "output_type": "display_data"
    },
    {
     "name": "stdout",
     "output_type": "stream",
     "text": [
      "Epoch 1/50\n",
      "\u001b[1m2/2\u001b[0m \u001b[32m━━━━━━━━━━━━━━━━━━━━\u001b[0m\u001b[37m\u001b[0m \u001b[1m3s\u001b[0m 480ms/step - accuracy: 0.1157 - loss: 2.6839 - val_accuracy: 0.0000e+00 - val_loss: 2.9569\n",
      "Epoch 2/50\n",
      "\u001b[1m2/2\u001b[0m \u001b[32m━━━━━━━━━━━━━━━━━━━━\u001b[0m\u001b[37m\u001b[0m \u001b[1m0s\u001b[0m 93ms/step - accuracy: 0.1157 - loss: 2.5945 - val_accuracy: 0.0000e+00 - val_loss: 3.0599\n",
      "Epoch 3/50\n",
      "\u001b[1m2/2\u001b[0m \u001b[32m━━━━━━━━━━━━━━━━━━━━\u001b[0m\u001b[37m\u001b[0m \u001b[1m0s\u001b[0m 94ms/step - accuracy: 0.1736 - loss: 2.6513 - val_accuracy: 0.0000e+00 - val_loss: 3.1724\n",
      "Epoch 4/50\n",
      "\u001b[1m2/2\u001b[0m \u001b[32m━━━━━━━━━━━━━━━━━━━━\u001b[0m\u001b[37m\u001b[0m \u001b[1m0s\u001b[0m 104ms/step - accuracy: 0.0741 - loss: 2.5763 - val_accuracy: 0.0000e+00 - val_loss: 3.3051\n",
      "Epoch 5/50\n",
      "\u001b[1m2/2\u001b[0m \u001b[32m━━━━━━━━━━━━━━━━━━━━\u001b[0m\u001b[37m\u001b[0m \u001b[1m0s\u001b[0m 93ms/step - accuracy: 0.2315 - loss: 2.5046 - val_accuracy: 0.0000e+00 - val_loss: 3.4402\n",
      "Epoch 6/50\n",
      "\u001b[1m2/2\u001b[0m \u001b[32m━━━━━━━━━━━━━━━━━━━━\u001b[0m\u001b[37m\u001b[0m \u001b[1m0s\u001b[0m 91ms/step - accuracy: 0.2685 - loss: 2.4642 - val_accuracy: 0.0000e+00 - val_loss: 3.5475\n",
      "Epoch 7/50\n",
      "\u001b[1m2/2\u001b[0m \u001b[32m━━━━━━━━━━━━━━━━━━━━\u001b[0m\u001b[37m\u001b[0m \u001b[1m0s\u001b[0m 95ms/step - accuracy: 0.0579 - loss: 2.5410 - val_accuracy: 0.0000e+00 - val_loss: 3.6225\n",
      "Epoch 8/50\n",
      "\u001b[1m2/2\u001b[0m \u001b[32m━━━━━━━━━━━━━━━━━━━━\u001b[0m\u001b[37m\u001b[0m \u001b[1m0s\u001b[0m 90ms/step - accuracy: 0.2894 - loss: 2.4758 - val_accuracy: 0.0000e+00 - val_loss: 3.6655\n",
      "Epoch 9/50\n",
      "\u001b[1m2/2\u001b[0m \u001b[32m━━━━━━━━━━━━━━━━━━━━\u001b[0m\u001b[37m\u001b[0m \u001b[1m0s\u001b[0m 88ms/step - accuracy: 0.2106 - loss: 2.5187 - val_accuracy: 0.0000e+00 - val_loss: 3.7065\n",
      "Epoch 10/50\n",
      "\u001b[1m2/2\u001b[0m \u001b[32m━━━━━━━━━━━━━━━━━━━━\u001b[0m\u001b[37m\u001b[0m \u001b[1m0s\u001b[0m 89ms/step - accuracy: 0.1528 - loss: 2.5112 - val_accuracy: 0.0000e+00 - val_loss: 3.7606\n",
      "Epoch 11/50\n",
      "\u001b[1m2/2\u001b[0m \u001b[32m━━━━━━━━━━━━━━━━━━━━\u001b[0m\u001b[37m\u001b[0m \u001b[1m0s\u001b[0m 88ms/step - accuracy: 0.1157 - loss: 2.5029 - val_accuracy: 0.0000e+00 - val_loss: 3.8107\n",
      "Epoch 12/50\n",
      "\u001b[1m2/2\u001b[0m \u001b[32m━━━━━━━━━━━━━━━━━━━━\u001b[0m\u001b[37m\u001b[0m \u001b[1m0s\u001b[0m 94ms/step - accuracy: 0.2106 - loss: 2.4217 - val_accuracy: 0.0000e+00 - val_loss: 3.8376\n",
      "Epoch 13/50\n",
      "\u001b[1m2/2\u001b[0m \u001b[32m━━━━━━━━━━━━━━━━━━━━\u001b[0m\u001b[37m\u001b[0m \u001b[1m0s\u001b[0m 95ms/step - accuracy: 0.2106 - loss: 2.3581 - val_accuracy: 0.0000e+00 - val_loss: 3.8555\n",
      "Epoch 14/50\n",
      "\u001b[1m2/2\u001b[0m \u001b[32m━━━━━━━━━━━━━━━━━━━━\u001b[0m\u001b[37m\u001b[0m \u001b[1m0s\u001b[0m 90ms/step - accuracy: 0.1528 - loss: 2.4460 - val_accuracy: 0.0000e+00 - val_loss: 3.8803\n",
      "Epoch 15/50\n",
      "\u001b[1m2/2\u001b[0m \u001b[32m━━━━━━━━━━━━━━━━━━━━\u001b[0m\u001b[37m\u001b[0m \u001b[1m0s\u001b[0m 91ms/step - accuracy: 0.2106 - loss: 2.4150 - val_accuracy: 0.0000e+00 - val_loss: 3.9043\n",
      "Epoch 16/50\n",
      "\u001b[1m2/2\u001b[0m \u001b[32m━━━━━━━━━━━━━━━━━━━━\u001b[0m\u001b[37m\u001b[0m \u001b[1m0s\u001b[0m 93ms/step - accuracy: 0.2894 - loss: 2.3156 - val_accuracy: 0.0000e+00 - val_loss: 3.8940\n",
      "Epoch 17/50\n",
      "\u001b[1m2/2\u001b[0m \u001b[32m━━━━━━━━━━━━━━━━━━━━\u001b[0m\u001b[37m\u001b[0m \u001b[1m0s\u001b[0m 90ms/step - accuracy: 0.2894 - loss: 2.2459 - val_accuracy: 0.0000e+00 - val_loss: 3.8563\n",
      "Epoch 18/50\n",
      "\u001b[1m2/2\u001b[0m \u001b[32m━━━━━━━━━━━━━━━━━━━━\u001b[0m\u001b[37m\u001b[0m \u001b[1m0s\u001b[0m 96ms/step - accuracy: 0.3264 - loss: 2.3367 - val_accuracy: 0.0000e+00 - val_loss: 3.7892\n",
      "Epoch 19/50\n",
      "\u001b[1m2/2\u001b[0m \u001b[32m━━━━━━━━━━━━━━━━━━━━\u001b[0m\u001b[37m\u001b[0m \u001b[1m0s\u001b[0m 92ms/step - accuracy: 0.2685 - loss: 2.2348 - val_accuracy: 0.0000e+00 - val_loss: 3.7281\n",
      "Epoch 20/50\n",
      "\u001b[1m2/2\u001b[0m \u001b[32m━━━━━━━━━━━━━━━━━━━━\u001b[0m\u001b[37m\u001b[0m \u001b[1m0s\u001b[0m 90ms/step - accuracy: 0.2106 - loss: 2.3433 - val_accuracy: 0.0000e+00 - val_loss: 3.6952\n",
      "Epoch 21/50\n",
      "\u001b[1m2/2\u001b[0m \u001b[32m━━━━━━━━━━━━━━━━━━━━\u001b[0m\u001b[37m\u001b[0m \u001b[1m0s\u001b[0m 97ms/step - accuracy: 0.1157 - loss: 2.4112 - val_accuracy: 0.0000e+00 - val_loss: 3.6953\n",
      "Epoch 22/50\n",
      "\u001b[1m2/2\u001b[0m \u001b[32m━━━━━━━━━━━━━━━━━━━━\u001b[0m\u001b[37m\u001b[0m \u001b[1m0s\u001b[0m 88ms/step - accuracy: 0.2685 - loss: 2.3587 - val_accuracy: 0.0000e+00 - val_loss: 3.7373\n",
      "Epoch 23/50\n",
      "\u001b[1m2/2\u001b[0m \u001b[32m━━━━━━━━━━━━━━━━━━━━\u001b[0m\u001b[37m\u001b[0m \u001b[1m0s\u001b[0m 89ms/step - accuracy: 0.2106 - loss: 2.3834 - val_accuracy: 0.0000e+00 - val_loss: 3.8329\n",
      "Epoch 24/50\n",
      "\u001b[1m2/2\u001b[0m \u001b[32m━━━━━━━━━━━━━━━━━━━━\u001b[0m\u001b[37m\u001b[0m \u001b[1m0s\u001b[0m 88ms/step - accuracy: 0.2894 - loss: 2.2660 - val_accuracy: 0.0000e+00 - val_loss: 3.9535\n",
      "Epoch 25/50\n",
      "\u001b[1m2/2\u001b[0m \u001b[32m━━━━━━━━━━━━━━━━━━━━\u001b[0m\u001b[37m\u001b[0m \u001b[1m0s\u001b[0m 89ms/step - accuracy: 0.1898 - loss: 2.3306 - val_accuracy: 0.0000e+00 - val_loss: 4.1152\n",
      "Epoch 26/50\n",
      "\u001b[1m2/2\u001b[0m \u001b[32m━━━━━━━━━━━━━━━━━━━━\u001b[0m\u001b[37m\u001b[0m \u001b[1m0s\u001b[0m 90ms/step - accuracy: 0.2315 - loss: 2.2862 - val_accuracy: 0.0000e+00 - val_loss: 4.2509\n",
      "Epoch 27/50\n",
      "\u001b[1m2/2\u001b[0m \u001b[32m━━━━━━━━━━━━━━━━━━━━\u001b[0m\u001b[37m\u001b[0m \u001b[1m0s\u001b[0m 93ms/step - accuracy: 0.1736 - loss: 2.2125 - val_accuracy: 0.0000e+00 - val_loss: 4.2704\n",
      "Epoch 28/50\n",
      "\u001b[1m2/2\u001b[0m \u001b[32m━━━━━━━━━━━━━━━━━━━━\u001b[0m\u001b[37m\u001b[0m \u001b[1m0s\u001b[0m 100ms/step - accuracy: 0.2315 - loss: 2.1781 - val_accuracy: 0.0000e+00 - val_loss: 4.2015\n",
      "Epoch 29/50\n",
      "\u001b[1m2/2\u001b[0m \u001b[32m━━━━━━━━━━━━━━━━━━━━\u001b[0m\u001b[37m\u001b[0m \u001b[1m0s\u001b[0m 90ms/step - accuracy: 0.3264 - loss: 2.1477 - val_accuracy: 0.0000e+00 - val_loss: 4.1174\n",
      "Epoch 30/50\n",
      "\u001b[1m2/2\u001b[0m \u001b[32m━━━━━━━━━━━━━━━━━━━━\u001b[0m\u001b[37m\u001b[0m \u001b[1m0s\u001b[0m 95ms/step - accuracy: 0.2106 - loss: 2.1598 - val_accuracy: 0.0000e+00 - val_loss: 4.0182\n",
      "Epoch 31/50\n",
      "\u001b[1m2/2\u001b[0m \u001b[32m━━━━━━━━━━━━━━━━━━━━\u001b[0m\u001b[37m\u001b[0m \u001b[1m0s\u001b[0m 93ms/step - accuracy: 0.2106 - loss: 2.2427 - val_accuracy: 0.2000 - val_loss: 3.9787\n",
      "Epoch 32/50\n",
      "\u001b[1m2/2\u001b[0m \u001b[32m━━━━━━━━━━━━━━━━━━━━\u001b[0m\u001b[37m\u001b[0m \u001b[1m0s\u001b[0m 91ms/step - accuracy: 0.2894 - loss: 2.1692 - val_accuracy: 0.2000 - val_loss: 4.0727\n",
      "Epoch 33/50\n",
      "\u001b[1m2/2\u001b[0m \u001b[32m━━━━━━━━━━━━━━━━━━━━\u001b[0m\u001b[37m\u001b[0m \u001b[1m0s\u001b[0m 89ms/step - accuracy: 0.2477 - loss: 2.2280 - val_accuracy: 0.0000e+00 - val_loss: 4.2660\n",
      "Epoch 34/50\n",
      "\u001b[1m2/2\u001b[0m \u001b[32m━━━━━━━━━━━━━━━━━━━━\u001b[0m\u001b[37m\u001b[0m \u001b[1m0s\u001b[0m 93ms/step - accuracy: 0.4421 - loss: 2.0255 - val_accuracy: 0.0000e+00 - val_loss: 4.4306\n",
      "Epoch 35/50\n",
      "\u001b[1m2/2\u001b[0m \u001b[32m━━━━━━━━━━━━━━━━━━━━\u001b[0m\u001b[37m\u001b[0m \u001b[1m0s\u001b[0m 91ms/step - accuracy: 0.2685 - loss: 2.1095 - val_accuracy: 0.0000e+00 - val_loss: 4.5634\n",
      "Epoch 36/50\n",
      "\u001b[1m2/2\u001b[0m \u001b[32m━━━━━━━━━━━━━━━━━━━━\u001b[0m\u001b[37m\u001b[0m \u001b[1m0s\u001b[0m 88ms/step - accuracy: 0.2894 - loss: 2.0678 - val_accuracy: 0.0000e+00 - val_loss: 4.6797\n",
      "Epoch 37/50\n",
      "\u001b[1m2/2\u001b[0m \u001b[32m━━━━━━━━━━━━━━━━━━━━\u001b[0m\u001b[37m\u001b[0m \u001b[1m0s\u001b[0m 90ms/step - accuracy: 0.2894 - loss: 2.0999 - val_accuracy: 0.0000e+00 - val_loss: 4.7186\n",
      "Epoch 38/50\n",
      "\u001b[1m2/2\u001b[0m \u001b[32m━━━━━━━━━━━━━━━━━━━━\u001b[0m\u001b[37m\u001b[0m \u001b[1m0s\u001b[0m 114ms/step - accuracy: 0.2315 - loss: 2.1728 - val_accuracy: 0.0000e+00 - val_loss: 4.7182\n",
      "Epoch 39/50\n",
      "\u001b[1m2/2\u001b[0m \u001b[32m━━━━━━━━━━━━━━━━━━━━\u001b[0m\u001b[37m\u001b[0m \u001b[1m0s\u001b[0m 94ms/step - accuracy: 0.5000 - loss: 1.9421 - val_accuracy: 0.0000e+00 - val_loss: 4.6832\n",
      "Epoch 40/50\n",
      "\u001b[1m2/2\u001b[0m \u001b[32m━━━━━━━━━━━━━━━━━━━━\u001b[0m\u001b[37m\u001b[0m \u001b[1m0s\u001b[0m 95ms/step - accuracy: 0.3264 - loss: 1.9539 - val_accuracy: 0.0000e+00 - val_loss: 4.6569\n",
      "Epoch 41/50\n",
      "\u001b[1m2/2\u001b[0m \u001b[32m━━━━━━━━━━━━━━━━━━━━\u001b[0m\u001b[37m\u001b[0m \u001b[1m0s\u001b[0m 89ms/step - accuracy: 0.2685 - loss: 2.0976 - val_accuracy: 0.2000 - val_loss: 4.6471\n",
      "Epoch 42/50\n",
      "\u001b[1m2/2\u001b[0m \u001b[32m━━━━━━━━━━━━━━━━━━━━\u001b[0m\u001b[37m\u001b[0m \u001b[1m0s\u001b[0m 102ms/step - accuracy: 0.5000 - loss: 1.9225 - val_accuracy: 0.0000e+00 - val_loss: 4.6448\n",
      "Epoch 43/50\n",
      "\u001b[1m2/2\u001b[0m \u001b[32m━━━━━━━━━━━━━━━━━━━━\u001b[0m\u001b[37m\u001b[0m \u001b[1m0s\u001b[0m 91ms/step - accuracy: 0.4630 - loss: 1.8523 - val_accuracy: 0.0000e+00 - val_loss: 4.5971\n",
      "Epoch 44/50\n",
      "\u001b[1m2/2\u001b[0m \u001b[32m━━━━━━━━━━━━━━━━━━━━\u001b[0m\u001b[37m\u001b[0m \u001b[1m0s\u001b[0m 88ms/step - accuracy: 0.3472 - loss: 1.8929 - val_accuracy: 0.2000 - val_loss: 4.5771\n",
      "Epoch 45/50\n",
      "\u001b[1m2/2\u001b[0m \u001b[32m━━━━━━━━━━━━━━━━━━━━\u001b[0m\u001b[37m\u001b[0m \u001b[1m0s\u001b[0m 93ms/step - accuracy: 0.3264 - loss: 1.7779 - val_accuracy: 0.2000 - val_loss: 4.6584\n",
      "Epoch 46/50\n",
      "\u001b[1m2/2\u001b[0m \u001b[32m━━━━━━━━━━━━━━━━━━━━\u001b[0m\u001b[37m\u001b[0m \u001b[1m0s\u001b[0m 92ms/step - accuracy: 0.4421 - loss: 1.8002 - val_accuracy: 0.2000 - val_loss: 4.7366\n",
      "Epoch 47/50\n",
      "\u001b[1m2/2\u001b[0m \u001b[32m━━━━━━━━━━━━━━━━━━━━\u001b[0m\u001b[37m\u001b[0m \u001b[1m0s\u001b[0m 91ms/step - accuracy: 0.2685 - loss: 1.8676 - val_accuracy: 0.2000 - val_loss: 4.8579\n",
      "Epoch 48/50\n",
      "\u001b[1m2/2\u001b[0m \u001b[32m━━━━━━━━━━━━━━━━━━━━\u001b[0m\u001b[37m\u001b[0m \u001b[1m0s\u001b[0m 95ms/step - accuracy: 0.3472 - loss: 1.8403 - val_accuracy: 0.2000 - val_loss: 4.9083\n",
      "Epoch 49/50\n",
      "\u001b[1m2/2\u001b[0m \u001b[32m━━━━━━━━━━━━━━━━━━━━\u001b[0m\u001b[37m\u001b[0m \u001b[1m0s\u001b[0m 90ms/step - accuracy: 0.3843 - loss: 1.8726 - val_accuracy: 0.2000 - val_loss: 4.8462\n",
      "Epoch 50/50\n",
      "\u001b[1m2/2\u001b[0m \u001b[32m━━━━━━━━━━━━━━━━━━━━\u001b[0m\u001b[37m\u001b[0m \u001b[1m0s\u001b[0m 137ms/step - accuracy: 0.3264 - loss: 1.9889 - val_accuracy: 0.2000 - val_loss: 4.6215\n"
     ]
    },
    {
     "data": {
      "text/plain": [
       "<keras.src.callbacks.history.History at 0x161c8697d60>"
      ]
     },
     "execution_count": 6,
     "metadata": {},
     "output_type": "execute_result"
    }
   ],
   "source": [
    "from sklearn.model_selection import train_test_split\n",
    "from sklearn.preprocessing import LabelEncoder\n",
    "from tensorflow.keras.utils import to_categorical\n",
    "from tensorflow.keras.models import Sequential\n",
    "from tensorflow.keras.layers import LSTM, Dense, Dropout\n",
    "\n",
    "# Load CSV\n",
    "df = pd.read_csv(\"D:\\Semester 6\\PEMROGRAMAN SISTEM CERDAS 2\\capstone_mp_model\\Model tflite\\pose_dataset.csv\")\n",
    "\n",
    "X = df.drop(\"label\", axis=1).values\n",
    "y = df[\"label\"]\n",
    "\n",
    "# Encode label\n",
    "le = LabelEncoder()\n",
    "y_encoded = le.fit_transform(y)\n",
    "y_cat = to_categorical(y_encoded)\n",
    "\n",
    "# Reshape input\n",
    "X = X.reshape((X.shape[0], MAX_FRAMES, -1)).astype(\"float32\")\n",
    "\n",
    "# Split\n",
    "X_train, X_test, y_train, y_test = train_test_split(X, y_cat, test_size=0.2, random_state=42)\n",
    "\n",
    "# Buat model\n",
    "model = Sequential()\n",
    "model.add(LSTM(64, input_shape=(MAX_FRAMES, X.shape[2])))\n",
    "model.add(Dropout(0.3))\n",
    "model.add(Dense(64, activation='relu'))\n",
    "model.add(Dense(y_cat.shape[1], activation='softmax'))\n",
    "\n",
    "model.compile(loss='categorical_crossentropy', optimizer='adam', metrics=['accuracy'])\n",
    "model.summary()\n",
    "\n",
    "# Training\n",
    "model.fit(X_train, y_train, epochs=50, batch_size=16, validation_data=(X_test, y_test))\n"
   ]
  },
  {
   "cell_type": "code",
   "execution_count": 7,
   "metadata": {
    "colab": {
     "base_uri": "https://localhost:8080/"
    },
    "executionInfo": {
     "elapsed": 114,
     "status": "ok",
     "timestamp": 1749090224125,
     "user": {
      "displayName": "Agit Saputra",
      "userId": "06617746144594588797"
     },
     "user_tz": -420
    },
    "id": "nUAWR9lJ5aJx",
    "outputId": "7aeac0bf-18c7-46fc-e05a-3a471b4a1ec4"
   },
   "outputs": [
    {
     "name": "stderr",
     "output_type": "stream",
     "text": [
      "WARNING:absl:You are saving your model as an HDF5 file via `model.save()` or `keras.saving.save_model(model)`. This file format is considered legacy. We recommend using instead the native Keras format, e.g. `model.save('my_model.keras')` or `keras.saving.save_model(model, 'my_model.keras')`. \n"
     ]
    }
   ],
   "source": [
    "# Simpan model H5\n",
    "model.save(\"D:\\Semester 6\\PEMROGRAMAN SISTEM CERDAS 2\\capstone_mp_model\\Model tflite\\pose_lstm_model.h5\")"
   ]
  },
  {
   "cell_type": "code",
   "execution_count": 8,
   "metadata": {
    "colab": {
     "base_uri": "https://localhost:8080/"
    },
    "executionInfo": {
     "elapsed": 2695,
     "status": "ok",
     "timestamp": 1749090339272,
     "user": {
      "displayName": "Agit Saputra",
      "userId": "06617746144594588797"
     },
     "user_tz": -420
    },
    "id": "lbtkU-Yc5sYX",
    "outputId": "b8e97b07-23bd-4f98-c5ef-2e546dff92d4"
   },
   "outputs": [
    {
     "name": "stdout",
     "output_type": "stream",
     "text": [
      "INFO:tensorflow:Assets written to: C:\\Users\\skymo\\AppData\\Local\\Temp\\tmpklyfzqr4\\assets\n"
     ]
    },
    {
     "name": "stderr",
     "output_type": "stream",
     "text": [
      "INFO:tensorflow:Assets written to: C:\\Users\\skymo\\AppData\\Local\\Temp\\tmpklyfzqr4\\assets\n"
     ]
    },
    {
     "name": "stdout",
     "output_type": "stream",
     "text": [
      "Saved artifact at 'C:\\Users\\skymo\\AppData\\Local\\Temp\\tmpklyfzqr4'. The following endpoints are available:\n",
      "\n",
      "* Endpoint 'serve'\n",
      "  args_0 (POSITIONAL_ONLY): TensorSpec(shape=(None, 30, 66), dtype=tf.float32, name='keras_tensor')\n",
      "Output Type:\n",
      "  TensorSpec(shape=(None, 15), dtype=tf.float32, name=None)\n",
      "Captures:\n",
      "  1519495196768: TensorSpec(shape=(), dtype=tf.resource, name=None)\n",
      "  1519495199584: TensorSpec(shape=(), dtype=tf.resource, name=None)\n",
      "  1519495199760: TensorSpec(shape=(), dtype=tf.resource, name=None)\n",
      "  1519486216928: TensorSpec(shape=(), dtype=tf.resource, name=None)\n",
      "  1519486217632: TensorSpec(shape=(), dtype=tf.resource, name=None)\n",
      "  1519486221856: TensorSpec(shape=(), dtype=tf.resource, name=None)\n",
      "  1519485930128: TensorSpec(shape=(), dtype=tf.resource, name=None)\n",
      "✅ Berhasil dikonversi ke TFLite dengan SELECT_TF_OPS.\n"
     ]
    }
   ],
   "source": [
    "import tensorflow as tf\n",
    "\n",
    "converter = tf.lite.TFLiteConverter.from_keras_model(model)\n",
    "converter.experimental_enable_resource_variables = True\n",
    "\n",
    "# Gunakan ops tambahan\n",
    "converter.target_spec.supported_ops = [\n",
    "    tf.lite.OpsSet.TFLITE_BUILTINS,     # Untuk operasi standar\n",
    "    tf.lite.OpsSet.SELECT_TF_OPS        # Untuk operasi TensorFlow yang belum didukung penuh TFLite\n",
    "]\n",
    "\n",
    "# Jangan turunkan TensorList ops (biarkan dalam bentuk aslinya)\n",
    "converter._experimental_lower_tensor_list_ops = False\n",
    "\n",
    "tflite_model = converter.convert()\n",
    "\n",
    "with open(\"D:\\Semester 6\\PEMROGRAMAN SISTEM CERDAS 2\\capstone_mp_model\\Model tflite\\pose_lstm_model.tflite\", \"wb\") as f:\n",
    "    f.write(tflite_model)\n",
    "\n",
    "print(\"✅ Berhasil dikonversi ke TFLite dengan SELECT_TF_OPS.\")"
   ]
  },
  {
   "cell_type": "code",
   "execution_count": null,
   "metadata": {
    "id": "Mj04Kwk050eH"
   },
   "outputs": [],
   "source": []
  }
 ],
 "metadata": {
  "colab": {
   "authorship_tag": "ABX9TyM5KqX/t703wzZQOsXp4Yfp",
   "provenance": []
  },
  "kernelspec": {
   "display_name": "Python 3",
   "name": "python3"
  },
  "language_info": {
   "codemirror_mode": {
    "name": "ipython",
    "version": 3
   },
   "file_extension": ".py",
   "mimetype": "text/x-python",
   "name": "python",
   "nbconvert_exporter": "python",
   "pygments_lexer": "ipython3",
   "version": "3.10.0"
  }
 },
 "nbformat": 4,
 "nbformat_minor": 0
}
