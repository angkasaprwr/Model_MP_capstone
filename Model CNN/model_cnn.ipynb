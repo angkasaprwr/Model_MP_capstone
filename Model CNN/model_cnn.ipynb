{
 "cells": [
  {
   "cell_type": "code",
   "execution_count": 8,
   "metadata": {
    "colab": {
     "base_uri": "https://localhost:8080/"
    },
    "executionInfo": {
     "elapsed": 19336,
     "status": "ok",
     "timestamp": 1750782482227,
     "user": {
      "displayName": "Agit Saputra",
      "userId": "06617746144594588797"
     },
     "user_tz": -420
    },
    "id": "d_d7Y4vZV5ie",
    "outputId": "229cf469-fc58-4429-a050-266b54a5fc23"
   },
   "outputs": [],
   "source": [
    "# Turunkan numpy dulu\n",
    "#%pip install numpy==1.25.2"
   ]
  },
  {
   "cell_type": "code",
   "execution_count": 9,
   "metadata": {},
   "outputs": [
    {
     "name": "stdout",
     "output_type": "stream",
     "text": [
      "Requirement already satisfied: mediapipe==0.10.8 in d:\\semester 6\\program\\python310\\lib\\site-packages (0.10.8)\n",
      "Requirement already satisfied: protobuf==3.20.3 in d:\\semester 6\\program\\python310\\lib\\site-packages (3.20.3)\n",
      "Requirement already satisfied: numpy==1.26.4 in d:\\semester 6\\program\\python310\\lib\\site-packages (1.26.4)\n",
      "Requirement already satisfied: absl-py in d:\\semester 6\\program\\python310\\lib\\site-packages (from mediapipe==0.10.8) (2.1.0)\n",
      "Requirement already satisfied: attrs>=19.1.0 in d:\\semester 6\\program\\python310\\lib\\site-packages (from mediapipe==0.10.8) (25.3.0)\n",
      "Requirement already satisfied: flatbuffers>=2.0 in d:\\semester 6\\program\\python310\\lib\\site-packages (from mediapipe==0.10.8) (25.2.10)\n",
      "Requirement already satisfied: matplotlib in d:\\semester 6\\program\\python310\\lib\\site-packages (from mediapipe==0.10.8) (3.10.1)\n",
      "Requirement already satisfied: opencv-contrib-python in d:\\semester 6\\program\\python310\\lib\\site-packages (from mediapipe==0.10.8) (4.11.0.86)\n",
      "Requirement already satisfied: sounddevice>=0.4.4 in d:\\semester 6\\program\\python310\\lib\\site-packages (from mediapipe==0.10.8) (0.5.1)\n",
      "Requirement already satisfied: CFFI>=1.0 in d:\\semester 6\\program\\python310\\lib\\site-packages (from sounddevice>=0.4.4->mediapipe==0.10.8) (1.17.1)\n",
      "Requirement already satisfied: pycparser in d:\\semester 6\\program\\python310\\lib\\site-packages (from CFFI>=1.0->sounddevice>=0.4.4->mediapipe==0.10.8) (2.22)\n",
      "Requirement already satisfied: contourpy>=1.0.1 in d:\\semester 6\\program\\python310\\lib\\site-packages (from matplotlib->mediapipe==0.10.8) (1.3.1)\n",
      "Requirement already satisfied: cycler>=0.10 in d:\\semester 6\\program\\python310\\lib\\site-packages (from matplotlib->mediapipe==0.10.8) (0.12.1)\n",
      "Requirement already satisfied: fonttools>=4.22.0 in d:\\semester 6\\program\\python310\\lib\\site-packages (from matplotlib->mediapipe==0.10.8) (4.56.0)\n",
      "Requirement already satisfied: kiwisolver>=1.3.1 in d:\\semester 6\\program\\python310\\lib\\site-packages (from matplotlib->mediapipe==0.10.8) (1.4.8)\n",
      "Requirement already satisfied: packaging>=20.0 in d:\\semester 6\\program\\python310\\lib\\site-packages (from matplotlib->mediapipe==0.10.8) (24.2)\n",
      "Requirement already satisfied: pillow>=8 in d:\\semester 6\\program\\python310\\lib\\site-packages (from matplotlib->mediapipe==0.10.8) (11.1.0)\n",
      "Requirement already satisfied: pyparsing>=2.3.1 in d:\\semester 6\\program\\python310\\lib\\site-packages (from matplotlib->mediapipe==0.10.8) (3.2.1)\n",
      "Requirement already satisfied: python-dateutil>=2.7 in d:\\semester 6\\program\\python310\\lib\\site-packages (from matplotlib->mediapipe==0.10.8) (2.9.0.post0)\n",
      "Requirement already satisfied: six>=1.5 in d:\\semester 6\\program\\python310\\lib\\site-packages (from python-dateutil>=2.7->matplotlib->mediapipe==0.10.8) (1.17.0)\n",
      "Note: you may need to restart the kernel to use updated packages.\n"
     ]
    }
   ],
   "source": [
    "# Baru install mediapipe setelah numpy kompatibel\n",
    "%pip install mediapipe==0.10.8 protobuf==3.20.3 numpy==1.26.4"
   ]
  },
  {
   "cell_type": "code",
   "execution_count": 10,
   "metadata": {},
   "outputs": [
    {
     "name": "stdout",
     "output_type": "stream",
     "text": [
      "Note: you may need to restart the kernel to use updated packages.\n"
     ]
    },
    {
     "name": "stderr",
     "output_type": "stream",
     "text": [
      "ERROR: unknown command \"tensorflow\"\n",
      "\n"
     ]
    }
   ],
   "source": [
    "%pip tensorflow "
   ]
  },
  {
   "cell_type": "code",
   "execution_count": 11,
   "metadata": {},
   "outputs": [
    {
     "name": "stdout",
     "output_type": "stream",
     "text": [
      "Requirement already satisfied: seaborn in d:\\semester 6\\program\\python310\\lib\\site-packages (0.13.2)\n",
      "Requirement already satisfied: numpy!=1.24.0,>=1.20 in d:\\semester 6\\program\\python310\\lib\\site-packages (from seaborn) (1.26.4)\n",
      "Requirement already satisfied: pandas>=1.2 in d:\\semester 6\\program\\python310\\lib\\site-packages (from seaborn) (2.3.1)\n",
      "Requirement already satisfied: matplotlib!=3.6.1,>=3.4 in d:\\semester 6\\program\\python310\\lib\\site-packages (from seaborn) (3.10.1)\n",
      "Requirement already satisfied: contourpy>=1.0.1 in d:\\semester 6\\program\\python310\\lib\\site-packages (from matplotlib!=3.6.1,>=3.4->seaborn) (1.3.1)\n",
      "Requirement already satisfied: cycler>=0.10 in d:\\semester 6\\program\\python310\\lib\\site-packages (from matplotlib!=3.6.1,>=3.4->seaborn) (0.12.1)\n",
      "Requirement already satisfied: fonttools>=4.22.0 in d:\\semester 6\\program\\python310\\lib\\site-packages (from matplotlib!=3.6.1,>=3.4->seaborn) (4.56.0)\n",
      "Requirement already satisfied: kiwisolver>=1.3.1 in d:\\semester 6\\program\\python310\\lib\\site-packages (from matplotlib!=3.6.1,>=3.4->seaborn) (1.4.8)\n",
      "Requirement already satisfied: packaging>=20.0 in d:\\semester 6\\program\\python310\\lib\\site-packages (from matplotlib!=3.6.1,>=3.4->seaborn) (24.2)\n",
      "Requirement already satisfied: pillow>=8 in d:\\semester 6\\program\\python310\\lib\\site-packages (from matplotlib!=3.6.1,>=3.4->seaborn) (11.1.0)\n",
      "Requirement already satisfied: pyparsing>=2.3.1 in d:\\semester 6\\program\\python310\\lib\\site-packages (from matplotlib!=3.6.1,>=3.4->seaborn) (3.2.1)\n",
      "Requirement already satisfied: python-dateutil>=2.7 in d:\\semester 6\\program\\python310\\lib\\site-packages (from matplotlib!=3.6.1,>=3.4->seaborn) (2.9.0.post0)\n",
      "Requirement already satisfied: pytz>=2020.1 in d:\\semester 6\\program\\python310\\lib\\site-packages (from pandas>=1.2->seaborn) (2025.2)\n",
      "Requirement already satisfied: tzdata>=2022.7 in d:\\semester 6\\program\\python310\\lib\\site-packages (from pandas>=1.2->seaborn) (2025.2)\n",
      "Requirement already satisfied: six>=1.5 in d:\\semester 6\\program\\python310\\lib\\site-packages (from python-dateutil>=2.7->matplotlib!=3.6.1,>=3.4->seaborn) (1.17.0)\n",
      "Note: you may need to restart the kernel to use updated packages.\n"
     ]
    }
   ],
   "source": [
    "%pip install seaborn"
   ]
  },
  {
   "cell_type": "code",
   "execution_count": 12,
   "metadata": {
    "executionInfo": {
     "elapsed": 1347225,
     "status": "ok",
     "timestamp": 1750783888510,
     "user": {
      "displayName": "Agit Saputra",
      "userId": "06617746144594588797"
     },
     "user_tz": -420
    },
    "id": "OfeZp42HrurI"
   },
   "outputs": [],
   "source": [
    "import os, cv2\n",
    "import mediapipe as mp\n",
    "import numpy as np\n",
    "\n",
    "mp_pose = mp.solutions.pose\n",
    "pose = mp_pose.Pose(static_image_mode=False)\n",
    "\n",
    "DATA_DIR = \"D:\\Semester 6\\PEMROGRAMAN SISTEM CERDAS 2\\capstone_mp_model\\data\"\n",
    "keypoints, labels = [], []\n",
    "\n",
    "class_names = sorted([d for d in os.listdir(DATA_DIR) if os.path.isdir(os.path.join(DATA_DIR, d))])\n",
    "\n",
    "for idx, class_name in enumerate(class_names):\n",
    "    folder = os.path.join(DATA_DIR, class_name)\n",
    "    for file in os.listdir(folder):\n",
    "        if not file.endswith(\".mp4\"):\n",
    "            continue\n",
    "        cap = cv2.VideoCapture(os.path.join(folder, file))\n",
    "        while cap.isOpened():\n",
    "            ret, frame = cap.read()\n",
    "            if not ret:\n",
    "                break\n",
    "            frame = cv2.resize(frame, (224, 224))\n",
    "            rgb = cv2.cvtColor(frame, cv2.COLOR_BGR2RGB)\n",
    "            results = pose.process(rgb)\n",
    "            if results.pose_landmarks:\n",
    "                lm = results.pose_landmarks.landmark\n",
    "                keypoints.append([p.x for p in lm] + [p.y for p in lm])\n",
    "                labels.append(idx)\n",
    "        cap.release()\n",
    "\n",
    "X = np.array(keypoints)\n",
    "y = np.array(labels)\n"
   ]
  },
  {
   "cell_type": "code",
   "execution_count": 13,
   "metadata": {
    "executionInfo": {
     "elapsed": 377,
     "status": "ok",
     "timestamp": 1750783915855,
     "user": {
      "displayName": "Agit Saputra",
      "userId": "06617746144594588797"
     },
     "user_tz": -420
    },
    "id": "0Uk5ia4QuM5h"
   },
   "outputs": [],
   "source": [
    "from sklearn.model_selection import train_test_split\n",
    "\n",
    "# Ubah (66,) menjadi (11, 6, 1) agar bisa masuk CNN\n",
    "X = X.reshape(-1, 11, 6, 1)  # 33 keypoints * 2 = 66\n",
    "X_train, X_test, y_train, y_test = train_test_split(X, y, test_size=0.2, random_state=42)\n"
   ]
  },
  {
   "cell_type": "code",
   "execution_count": 14,
   "metadata": {
    "colab": {
     "base_uri": "https://localhost:8080/"
    },
    "executionInfo": {
     "elapsed": 572679,
     "status": "ok",
     "timestamp": 1750784542637,
     "user": {
      "displayName": "Agit Saputra",
      "userId": "06617746144594588797"
     },
     "user_tz": -420
    },
    "id": "zXodmV86uXdj",
    "outputId": "cb32ca62-6b27-419a-c355-887de2ed8947"
   },
   "outputs": [
    {
     "name": "stdout",
     "output_type": "stream",
     "text": [
      "Epoch 1/100\n",
      "\u001b[1m6/6\u001b[0m \u001b[32m━━━━━━━━━━━━━━━━━━━━\u001b[0m\u001b[37m\u001b[0m \u001b[1m2s\u001b[0m 68ms/step - accuracy: 0.0564 - loss: 2.6978 - val_accuracy: 0.1000 - val_loss: 2.6774\n",
      "Epoch 2/100\n",
      "\u001b[1m6/6\u001b[0m \u001b[32m━━━━━━━━━━━━━━━━━━━━\u001b[0m\u001b[37m\u001b[0m \u001b[1m0s\u001b[0m 21ms/step - accuracy: 0.0982 - loss: 2.6232 - val_accuracy: 0.1000 - val_loss: 2.6187\n",
      "Epoch 3/100\n",
      "\u001b[1m6/6\u001b[0m \u001b[32m━━━━━━━━━━━━━━━━━━━━\u001b[0m\u001b[37m\u001b[0m \u001b[1m0s\u001b[0m 23ms/step - accuracy: 0.1061 - loss: 2.5643 - val_accuracy: 0.1000 - val_loss: 2.6771\n",
      "Epoch 4/100\n",
      "\u001b[1m6/6\u001b[0m \u001b[32m━━━━━━━━━━━━━━━━━━━━\u001b[0m\u001b[37m\u001b[0m \u001b[1m0s\u001b[0m 21ms/step - accuracy: 0.1302 - loss: 2.5268 - val_accuracy: 0.1000 - val_loss: 2.6645\n",
      "Epoch 5/100\n",
      "\u001b[1m6/6\u001b[0m \u001b[32m━━━━━━━━━━━━━━━━━━━━\u001b[0m\u001b[37m\u001b[0m \u001b[1m0s\u001b[0m 21ms/step - accuracy: 0.2061 - loss: 2.5271 - val_accuracy: 0.1000 - val_loss: 2.6079\n",
      "Epoch 6/100\n",
      "\u001b[1m6/6\u001b[0m \u001b[32m━━━━━━━━━━━━━━━━━━━━\u001b[0m\u001b[37m\u001b[0m \u001b[1m0s\u001b[0m 21ms/step - accuracy: 0.1438 - loss: 2.5117 - val_accuracy: 0.1000 - val_loss: 2.5598\n",
      "Epoch 7/100\n",
      "\u001b[1m6/6\u001b[0m \u001b[32m━━━━━━━━━━━━━━━━━━━━\u001b[0m\u001b[37m\u001b[0m \u001b[1m0s\u001b[0m 21ms/step - accuracy: 0.2053 - loss: 2.4599 - val_accuracy: 0.2000 - val_loss: 2.6090\n",
      "Epoch 8/100\n",
      "\u001b[1m6/6\u001b[0m \u001b[32m━━━━━━━━━━━━━━━━━━━━\u001b[0m\u001b[37m\u001b[0m \u001b[1m0s\u001b[0m 21ms/step - accuracy: 0.2667 - loss: 2.4708 - val_accuracy: 0.2000 - val_loss: 2.5870\n",
      "Epoch 9/100\n",
      "\u001b[1m6/6\u001b[0m \u001b[32m━━━━━━━━━━━━━━━━━━━━\u001b[0m\u001b[37m\u001b[0m \u001b[1m0s\u001b[0m 21ms/step - accuracy: 0.2334 - loss: 2.4265 - val_accuracy: 0.1000 - val_loss: 2.5986\n",
      "Epoch 10/100\n",
      "\u001b[1m6/6\u001b[0m \u001b[32m━━━━━━━━━━━━━━━━━━━━\u001b[0m\u001b[37m\u001b[0m \u001b[1m0s\u001b[0m 21ms/step - accuracy: 0.3367 - loss: 2.3429 - val_accuracy: 0.2000 - val_loss: 2.6176\n",
      "Epoch 11/100\n",
      "\u001b[1m6/6\u001b[0m \u001b[32m━━━━━━━━━━━━━━━━━━━━\u001b[0m\u001b[37m\u001b[0m \u001b[1m0s\u001b[0m 21ms/step - accuracy: 0.2972 - loss: 2.2735 - val_accuracy: 0.3000 - val_loss: 2.5710\n",
      "Epoch 12/100\n",
      "\u001b[1m6/6\u001b[0m \u001b[32m━━━━━━━━━━━━━━━━━━━━\u001b[0m\u001b[37m\u001b[0m \u001b[1m0s\u001b[0m 23ms/step - accuracy: 0.4048 - loss: 2.2539 - val_accuracy: 0.2000 - val_loss: 2.5654\n",
      "Epoch 13/100\n",
      "\u001b[1m6/6\u001b[0m \u001b[32m━━━━━━━━━━━━━━━━━━━━\u001b[0m\u001b[37m\u001b[0m \u001b[1m0s\u001b[0m 21ms/step - accuracy: 0.4558 - loss: 2.1428 - val_accuracy: 0.2000 - val_loss: 2.5915\n",
      "Epoch 14/100\n",
      "\u001b[1m6/6\u001b[0m \u001b[32m━━━━━━━━━━━━━━━━━━━━\u001b[0m\u001b[37m\u001b[0m \u001b[1m0s\u001b[0m 21ms/step - accuracy: 0.3835 - loss: 2.0680 - val_accuracy: 0.2000 - val_loss: 2.4897\n",
      "Epoch 15/100\n",
      "\u001b[1m6/6\u001b[0m \u001b[32m━━━━━━━━━━━━━━━━━━━━\u001b[0m\u001b[37m\u001b[0m \u001b[1m0s\u001b[0m 21ms/step - accuracy: 0.4924 - loss: 2.0199 - val_accuracy: 0.2000 - val_loss: 2.5716\n",
      "Epoch 16/100\n",
      "\u001b[1m6/6\u001b[0m \u001b[32m━━━━━━━━━━━━━━━━━━━━\u001b[0m\u001b[37m\u001b[0m \u001b[1m0s\u001b[0m 21ms/step - accuracy: 0.4698 - loss: 1.8901 - val_accuracy: 0.2000 - val_loss: 2.6085\n",
      "Epoch 17/100\n",
      "\u001b[1m6/6\u001b[0m \u001b[32m━━━━━━━━━━━━━━━━━━━━\u001b[0m\u001b[37m\u001b[0m \u001b[1m0s\u001b[0m 21ms/step - accuracy: 0.5253 - loss: 1.7718 - val_accuracy: 0.2000 - val_loss: 2.4656\n",
      "Epoch 18/100\n",
      "\u001b[1m6/6\u001b[0m \u001b[32m━━━━━━━━━━━━━━━━━━━━\u001b[0m\u001b[37m\u001b[0m \u001b[1m0s\u001b[0m 21ms/step - accuracy: 0.5978 - loss: 1.8124 - val_accuracy: 0.4000 - val_loss: 2.6340\n",
      "Epoch 19/100\n",
      "\u001b[1m6/6\u001b[0m \u001b[32m━━━━━━━━━━━━━━━━━━━━\u001b[0m\u001b[37m\u001b[0m \u001b[1m0s\u001b[0m 21ms/step - accuracy: 0.6231 - loss: 1.5600 - val_accuracy: 0.3000 - val_loss: 2.6521\n",
      "Epoch 20/100\n",
      "\u001b[1m6/6\u001b[0m \u001b[32m━━━━━━━━━━━━━━━━━━━━\u001b[0m\u001b[37m\u001b[0m \u001b[1m0s\u001b[0m 22ms/step - accuracy: 0.6181 - loss: 1.5437 - val_accuracy: 0.2000 - val_loss: 2.6496\n",
      "Epoch 21/100\n",
      "\u001b[1m6/6\u001b[0m \u001b[32m━━━━━━━━━━━━━━━━━━━━\u001b[0m\u001b[37m\u001b[0m \u001b[1m0s\u001b[0m 22ms/step - accuracy: 0.7944 - loss: 1.3343 - val_accuracy: 0.3000 - val_loss: 2.5740\n",
      "Epoch 22/100\n",
      "\u001b[1m6/6\u001b[0m \u001b[32m━━━━━━━━━━━━━━━━━━━━\u001b[0m\u001b[37m\u001b[0m \u001b[1m0s\u001b[0m 21ms/step - accuracy: 0.7759 - loss: 1.2969 - val_accuracy: 0.2000 - val_loss: 2.7524\n",
      "Epoch 23/100\n",
      "\u001b[1m6/6\u001b[0m \u001b[32m━━━━━━━━━━━━━━━━━━━━\u001b[0m\u001b[37m\u001b[0m \u001b[1m0s\u001b[0m 22ms/step - accuracy: 0.7500 - loss: 1.1234 - val_accuracy: 0.3000 - val_loss: 2.7084\n",
      "Epoch 24/100\n",
      "\u001b[1m6/6\u001b[0m \u001b[32m━━━━━━━━━━━━━━━━━━━━\u001b[0m\u001b[37m\u001b[0m \u001b[1m0s\u001b[0m 20ms/step - accuracy: 0.6593 - loss: 1.1144 - val_accuracy: 0.3000 - val_loss: 2.8003\n",
      "Epoch 25/100\n",
      "\u001b[1m6/6\u001b[0m \u001b[32m━━━━━━━━━━━━━━━━━━━━\u001b[0m\u001b[37m\u001b[0m \u001b[1m0s\u001b[0m 20ms/step - accuracy: 0.8223 - loss: 1.0390 - val_accuracy: 0.0000e+00 - val_loss: 2.8407\n",
      "Epoch 26/100\n",
      "\u001b[1m6/6\u001b[0m \u001b[32m━━━━━━━━━━━━━━━━━━━━\u001b[0m\u001b[37m\u001b[0m \u001b[1m0s\u001b[0m 20ms/step - accuracy: 0.9068 - loss: 0.8451 - val_accuracy: 0.3000 - val_loss: 2.7372\n",
      "Epoch 27/100\n",
      "\u001b[1m6/6\u001b[0m \u001b[32m━━━━━━━━━━━━━━━━━━━━\u001b[0m\u001b[37m\u001b[0m \u001b[1m0s\u001b[0m 21ms/step - accuracy: 0.8994 - loss: 0.7730 - val_accuracy: 0.3000 - val_loss: 2.9470\n",
      "Epoch 28/100\n",
      "\u001b[1m6/6\u001b[0m \u001b[32m━━━━━━━━━━━━━━━━━━━━\u001b[0m\u001b[37m\u001b[0m \u001b[1m0s\u001b[0m 20ms/step - accuracy: 0.9435 - loss: 0.6539 - val_accuracy: 0.3000 - val_loss: 2.8984\n",
      "Epoch 29/100\n",
      "\u001b[1m6/6\u001b[0m \u001b[32m━━━━━━━━━━━━━━━━━━━━\u001b[0m\u001b[37m\u001b[0m \u001b[1m0s\u001b[0m 21ms/step - accuracy: 0.9001 - loss: 0.5993 - val_accuracy: 0.2000 - val_loss: 2.9644\n",
      "Epoch 30/100\n",
      "\u001b[1m6/6\u001b[0m \u001b[32m━━━━━━━━━━━━━━━━━━━━\u001b[0m\u001b[37m\u001b[0m \u001b[1m0s\u001b[0m 21ms/step - accuracy: 0.9743 - loss: 0.4815 - val_accuracy: 0.1000 - val_loss: 3.1979\n",
      "Epoch 31/100\n",
      "\u001b[1m6/6\u001b[0m \u001b[32m━━━━━━━━━━━━━━━━━━━━\u001b[0m\u001b[37m\u001b[0m \u001b[1m0s\u001b[0m 20ms/step - accuracy: 0.9896 - loss: 0.4500 - val_accuracy: 0.2000 - val_loss: 3.0661\n",
      "Epoch 32/100\n",
      "\u001b[1m6/6\u001b[0m \u001b[32m━━━━━━━━━━━━━━━━━━━━\u001b[0m\u001b[37m\u001b[0m \u001b[1m0s\u001b[0m 22ms/step - accuracy: 0.9856 - loss: 0.3688 - val_accuracy: 0.3000 - val_loss: 3.0270\n",
      "Epoch 33/100\n",
      "\u001b[1m6/6\u001b[0m \u001b[32m━━━━━━━━━━━━━━━━━━━━\u001b[0m\u001b[37m\u001b[0m \u001b[1m0s\u001b[0m 20ms/step - accuracy: 0.9764 - loss: 0.3396 - val_accuracy: 0.1000 - val_loss: 3.2972\n",
      "Epoch 34/100\n",
      "\u001b[1m6/6\u001b[0m \u001b[32m━━━━━━━━━━━━━━━━━━━━\u001b[0m\u001b[37m\u001b[0m \u001b[1m0s\u001b[0m 21ms/step - accuracy: 1.0000 - loss: 0.2788 - val_accuracy: 0.3000 - val_loss: 3.4271\n",
      "Epoch 35/100\n",
      "\u001b[1m6/6\u001b[0m \u001b[32m━━━━━━━━━━━━━━━━━━━━\u001b[0m\u001b[37m\u001b[0m \u001b[1m0s\u001b[0m 21ms/step - accuracy: 1.0000 - loss: 0.2323 - val_accuracy: 0.2000 - val_loss: 3.2118\n",
      "Epoch 36/100\n",
      "\u001b[1m6/6\u001b[0m \u001b[32m━━━━━━━━━━━━━━━━━━━━\u001b[0m\u001b[37m\u001b[0m \u001b[1m0s\u001b[0m 21ms/step - accuracy: 0.9950 - loss: 0.1999 - val_accuracy: 0.2000 - val_loss: 3.3990\n",
      "Epoch 37/100\n",
      "\u001b[1m6/6\u001b[0m \u001b[32m━━━━━━━━━━━━━━━━━━━━\u001b[0m\u001b[37m\u001b[0m \u001b[1m0s\u001b[0m 20ms/step - accuracy: 1.0000 - loss: 0.1918 - val_accuracy: 0.1000 - val_loss: 3.7053\n",
      "Epoch 38/100\n",
      "\u001b[1m6/6\u001b[0m \u001b[32m━━━━━━━━━━━━━━━━━━━━\u001b[0m\u001b[37m\u001b[0m \u001b[1m0s\u001b[0m 20ms/step - accuracy: 1.0000 - loss: 0.1827 - val_accuracy: 0.2000 - val_loss: 3.3340\n",
      "Epoch 39/100\n",
      "\u001b[1m6/6\u001b[0m \u001b[32m━━━━━━━━━━━━━━━━━━━━\u001b[0m\u001b[37m\u001b[0m \u001b[1m0s\u001b[0m 20ms/step - accuracy: 1.0000 - loss: 0.1480 - val_accuracy: 0.2000 - val_loss: 3.3902\n",
      "Epoch 40/100\n",
      "\u001b[1m6/6\u001b[0m \u001b[32m━━━━━━━━━━━━━━━━━━━━\u001b[0m\u001b[37m\u001b[0m \u001b[1m0s\u001b[0m 20ms/step - accuracy: 1.0000 - loss: 0.1227 - val_accuracy: 0.1000 - val_loss: 3.7197\n",
      "Epoch 41/100\n",
      "\u001b[1m6/6\u001b[0m \u001b[32m━━━━━━━━━━━━━━━━━━━━\u001b[0m\u001b[37m\u001b[0m \u001b[1m0s\u001b[0m 21ms/step - accuracy: 1.0000 - loss: 0.1081 - val_accuracy: 0.2000 - val_loss: 3.6652\n",
      "Epoch 42/100\n",
      "\u001b[1m6/6\u001b[0m \u001b[32m━━━━━━━━━━━━━━━━━━━━\u001b[0m\u001b[37m\u001b[0m \u001b[1m0s\u001b[0m 21ms/step - accuracy: 1.0000 - loss: 0.0905 - val_accuracy: 0.2000 - val_loss: 3.6730\n",
      "Epoch 43/100\n",
      "\u001b[1m6/6\u001b[0m \u001b[32m━━━━━━━━━━━━━━━━━━━━\u001b[0m\u001b[37m\u001b[0m \u001b[1m0s\u001b[0m 20ms/step - accuracy: 1.0000 - loss: 0.0905 - val_accuracy: 0.1000 - val_loss: 3.7139\n",
      "Epoch 44/100\n",
      "\u001b[1m6/6\u001b[0m \u001b[32m━━━━━━━━━━━━━━━━━━━━\u001b[0m\u001b[37m\u001b[0m \u001b[1m0s\u001b[0m 21ms/step - accuracy: 1.0000 - loss: 0.0743 - val_accuracy: 0.2000 - val_loss: 3.6937\n",
      "Epoch 45/100\n",
      "\u001b[1m6/6\u001b[0m \u001b[32m━━━━━━━━━━━━━━━━━━━━\u001b[0m\u001b[37m\u001b[0m \u001b[1m0s\u001b[0m 21ms/step - accuracy: 1.0000 - loss: 0.0694 - val_accuracy: 0.2000 - val_loss: 3.7667\n",
      "Epoch 46/100\n",
      "\u001b[1m6/6\u001b[0m \u001b[32m━━━━━━━━━━━━━━━━━━━━\u001b[0m\u001b[37m\u001b[0m \u001b[1m0s\u001b[0m 21ms/step - accuracy: 1.0000 - loss: 0.0610 - val_accuracy: 0.1000 - val_loss: 3.9188\n",
      "Epoch 47/100\n",
      "\u001b[1m6/6\u001b[0m \u001b[32m━━━━━━━━━━━━━━━━━━━━\u001b[0m\u001b[37m\u001b[0m \u001b[1m0s\u001b[0m 21ms/step - accuracy: 1.0000 - loss: 0.0546 - val_accuracy: 0.2000 - val_loss: 3.7588\n",
      "Epoch 48/100\n",
      "\u001b[1m6/6\u001b[0m \u001b[32m━━━━━━━━━━━━━━━━━━━━\u001b[0m\u001b[37m\u001b[0m \u001b[1m0s\u001b[0m 22ms/step - accuracy: 1.0000 - loss: 0.0567 - val_accuracy: 0.2000 - val_loss: 3.7558\n",
      "Epoch 49/100\n",
      "\u001b[1m6/6\u001b[0m \u001b[32m━━━━━━━━━━━━━━━━━━━━\u001b[0m\u001b[37m\u001b[0m \u001b[1m0s\u001b[0m 21ms/step - accuracy: 1.0000 - loss: 0.0508 - val_accuracy: 0.2000 - val_loss: 3.9055\n",
      "Epoch 50/100\n",
      "\u001b[1m6/6\u001b[0m \u001b[32m━━━━━━━━━━━━━━━━━━━━\u001b[0m\u001b[37m\u001b[0m \u001b[1m0s\u001b[0m 21ms/step - accuracy: 1.0000 - loss: 0.0453 - val_accuracy: 0.2000 - val_loss: 3.9241\n",
      "Epoch 51/100\n",
      "\u001b[1m6/6\u001b[0m \u001b[32m━━━━━━━━━━━━━━━━━━━━\u001b[0m\u001b[37m\u001b[0m \u001b[1m0s\u001b[0m 21ms/step - accuracy: 1.0000 - loss: 0.0410 - val_accuracy: 0.2000 - val_loss: 3.8619\n",
      "Epoch 52/100\n",
      "\u001b[1m6/6\u001b[0m \u001b[32m━━━━━━━━━━━━━━━━━━━━\u001b[0m\u001b[37m\u001b[0m \u001b[1m0s\u001b[0m 21ms/step - accuracy: 1.0000 - loss: 0.0379 - val_accuracy: 0.2000 - val_loss: 4.0036\n",
      "Epoch 53/100\n",
      "\u001b[1m6/6\u001b[0m \u001b[32m━━━━━━━━━━━━━━━━━━━━\u001b[0m\u001b[37m\u001b[0m \u001b[1m0s\u001b[0m 22ms/step - accuracy: 1.0000 - loss: 0.0351 - val_accuracy: 0.2000 - val_loss: 4.0831\n",
      "Epoch 54/100\n",
      "\u001b[1m6/6\u001b[0m \u001b[32m━━━━━━━━━━━━━━━━━━━━\u001b[0m\u001b[37m\u001b[0m \u001b[1m0s\u001b[0m 21ms/step - accuracy: 1.0000 - loss: 0.0349 - val_accuracy: 0.2000 - val_loss: 3.9765\n",
      "Epoch 55/100\n",
      "\u001b[1m6/6\u001b[0m \u001b[32m━━━━━━━━━━━━━━━━━━━━\u001b[0m\u001b[37m\u001b[0m \u001b[1m0s\u001b[0m 24ms/step - accuracy: 1.0000 - loss: 0.0300 - val_accuracy: 0.2000 - val_loss: 3.9227\n",
      "Epoch 56/100\n",
      "\u001b[1m6/6\u001b[0m \u001b[32m━━━━━━━━━━━━━━━━━━━━\u001b[0m\u001b[37m\u001b[0m \u001b[1m0s\u001b[0m 22ms/step - accuracy: 1.0000 - loss: 0.0309 - val_accuracy: 0.2000 - val_loss: 4.1174\n",
      "Epoch 57/100\n",
      "\u001b[1m6/6\u001b[0m \u001b[32m━━━━━━━━━━━━━━━━━━━━\u001b[0m\u001b[37m\u001b[0m \u001b[1m0s\u001b[0m 21ms/step - accuracy: 1.0000 - loss: 0.0278 - val_accuracy: 0.2000 - val_loss: 4.1322\n",
      "Epoch 58/100\n",
      "\u001b[1m6/6\u001b[0m \u001b[32m━━━━━━━━━━━━━━━━━━━━\u001b[0m\u001b[37m\u001b[0m \u001b[1m0s\u001b[0m 21ms/step - accuracy: 1.0000 - loss: 0.0261 - val_accuracy: 0.2000 - val_loss: 4.0425\n",
      "Epoch 59/100\n",
      "\u001b[1m6/6\u001b[0m \u001b[32m━━━━━━━━━━━━━━━━━━━━\u001b[0m\u001b[37m\u001b[0m \u001b[1m0s\u001b[0m 21ms/step - accuracy: 1.0000 - loss: 0.0267 - val_accuracy: 0.2000 - val_loss: 4.0867\n",
      "Epoch 60/100\n",
      "\u001b[1m6/6\u001b[0m \u001b[32m━━━━━━━━━━━━━━━━━━━━\u001b[0m\u001b[37m\u001b[0m \u001b[1m0s\u001b[0m 20ms/step - accuracy: 1.0000 - loss: 0.0234 - val_accuracy: 0.2000 - val_loss: 4.1694\n",
      "Epoch 61/100\n",
      "\u001b[1m6/6\u001b[0m \u001b[32m━━━━━━━━━━━━━━━━━━━━\u001b[0m\u001b[37m\u001b[0m \u001b[1m0s\u001b[0m 21ms/step - accuracy: 1.0000 - loss: 0.0221 - val_accuracy: 0.2000 - val_loss: 4.2045\n",
      "Epoch 62/100\n",
      "\u001b[1m6/6\u001b[0m \u001b[32m━━━━━━━━━━━━━━━━━━━━\u001b[0m\u001b[37m\u001b[0m \u001b[1m0s\u001b[0m 44ms/step - accuracy: 1.0000 - loss: 0.0215 - val_accuracy: 0.2000 - val_loss: 4.1180\n",
      "Epoch 63/100\n",
      "\u001b[1m6/6\u001b[0m \u001b[32m━━━━━━━━━━━━━━━━━━━━\u001b[0m\u001b[37m\u001b[0m \u001b[1m0s\u001b[0m 20ms/step - accuracy: 1.0000 - loss: 0.0211 - val_accuracy: 0.2000 - val_loss: 4.1141\n",
      "Epoch 64/100\n",
      "\u001b[1m6/6\u001b[0m \u001b[32m━━━━━━━━━━━━━━━━━━━━\u001b[0m\u001b[37m\u001b[0m \u001b[1m0s\u001b[0m 20ms/step - accuracy: 1.0000 - loss: 0.0197 - val_accuracy: 0.2000 - val_loss: 4.2233\n",
      "Epoch 65/100\n",
      "\u001b[1m6/6\u001b[0m \u001b[32m━━━━━━━━━━━━━━━━━━━━\u001b[0m\u001b[37m\u001b[0m \u001b[1m0s\u001b[0m 21ms/step - accuracy: 1.0000 - loss: 0.0189 - val_accuracy: 0.2000 - val_loss: 4.2444\n",
      "Epoch 66/100\n",
      "\u001b[1m6/6\u001b[0m \u001b[32m━━━━━━━━━━━━━━━━━━━━\u001b[0m\u001b[37m\u001b[0m \u001b[1m0s\u001b[0m 20ms/step - accuracy: 1.0000 - loss: 0.0184 - val_accuracy: 0.2000 - val_loss: 4.2632\n",
      "Epoch 67/100\n",
      "\u001b[1m6/6\u001b[0m \u001b[32m━━━━━━━━━━━━━━━━━━━━\u001b[0m\u001b[37m\u001b[0m \u001b[1m0s\u001b[0m 21ms/step - accuracy: 1.0000 - loss: 0.0173 - val_accuracy: 0.2000 - val_loss: 4.2182\n",
      "Epoch 68/100\n",
      "\u001b[1m6/6\u001b[0m \u001b[32m━━━━━━━━━━━━━━━━━━━━\u001b[0m\u001b[37m\u001b[0m \u001b[1m0s\u001b[0m 21ms/step - accuracy: 1.0000 - loss: 0.0163 - val_accuracy: 0.2000 - val_loss: 4.2402\n",
      "Epoch 69/100\n",
      "\u001b[1m6/6\u001b[0m \u001b[32m━━━━━━━━━━━━━━━━━━━━\u001b[0m\u001b[37m\u001b[0m \u001b[1m0s\u001b[0m 20ms/step - accuracy: 1.0000 - loss: 0.0154 - val_accuracy: 0.2000 - val_loss: 4.3081\n",
      "Epoch 70/100\n",
      "\u001b[1m6/6\u001b[0m \u001b[32m━━━━━━━━━━━━━━━━━━━━\u001b[0m\u001b[37m\u001b[0m \u001b[1m0s\u001b[0m 21ms/step - accuracy: 1.0000 - loss: 0.0152 - val_accuracy: 0.2000 - val_loss: 4.3670\n",
      "Epoch 71/100\n",
      "\u001b[1m6/6\u001b[0m \u001b[32m━━━━━━━━━━━━━━━━━━━━\u001b[0m\u001b[37m\u001b[0m \u001b[1m0s\u001b[0m 20ms/step - accuracy: 1.0000 - loss: 0.0154 - val_accuracy: 0.2000 - val_loss: 4.3315\n",
      "Epoch 72/100\n",
      "\u001b[1m6/6\u001b[0m \u001b[32m━━━━━━━━━━━━━━━━━━━━\u001b[0m\u001b[37m\u001b[0m \u001b[1m0s\u001b[0m 20ms/step - accuracy: 1.0000 - loss: 0.0141 - val_accuracy: 0.2000 - val_loss: 4.3240\n",
      "Epoch 73/100\n",
      "\u001b[1m6/6\u001b[0m \u001b[32m━━━━━━━━━━━━━━━━━━━━\u001b[0m\u001b[37m\u001b[0m \u001b[1m0s\u001b[0m 21ms/step - accuracy: 1.0000 - loss: 0.0130 - val_accuracy: 0.2000 - val_loss: 4.2859\n",
      "Epoch 74/100\n",
      "\u001b[1m6/6\u001b[0m \u001b[32m━━━━━━━━━━━━━━━━━━━━\u001b[0m\u001b[37m\u001b[0m \u001b[1m0s\u001b[0m 21ms/step - accuracy: 1.0000 - loss: 0.0128 - val_accuracy: 0.2000 - val_loss: 4.3852\n",
      "Epoch 75/100\n",
      "\u001b[1m6/6\u001b[0m \u001b[32m━━━━━━━━━━━━━━━━━━━━\u001b[0m\u001b[37m\u001b[0m \u001b[1m0s\u001b[0m 20ms/step - accuracy: 1.0000 - loss: 0.0124 - val_accuracy: 0.2000 - val_loss: 4.4123\n",
      "Epoch 76/100\n",
      "\u001b[1m6/6\u001b[0m \u001b[32m━━━━━━━━━━━━━━━━━━━━\u001b[0m\u001b[37m\u001b[0m \u001b[1m0s\u001b[0m 22ms/step - accuracy: 1.0000 - loss: 0.0120 - val_accuracy: 0.2000 - val_loss: 4.3938\n",
      "Epoch 77/100\n",
      "\u001b[1m6/6\u001b[0m \u001b[32m━━━━━━━━━━━━━━━━━━━━\u001b[0m\u001b[37m\u001b[0m \u001b[1m0s\u001b[0m 21ms/step - accuracy: 1.0000 - loss: 0.0119 - val_accuracy: 0.2000 - val_loss: 4.3869\n",
      "Epoch 78/100\n",
      "\u001b[1m6/6\u001b[0m \u001b[32m━━━━━━━━━━━━━━━━━━━━\u001b[0m\u001b[37m\u001b[0m \u001b[1m0s\u001b[0m 21ms/step - accuracy: 1.0000 - loss: 0.0119 - val_accuracy: 0.2000 - val_loss: 4.4305\n",
      "Epoch 79/100\n",
      "\u001b[1m6/6\u001b[0m \u001b[32m━━━━━━━━━━━━━━━━━━━━\u001b[0m\u001b[37m\u001b[0m \u001b[1m0s\u001b[0m 20ms/step - accuracy: 1.0000 - loss: 0.0109 - val_accuracy: 0.2000 - val_loss: 4.4156\n",
      "Epoch 80/100\n",
      "\u001b[1m6/6\u001b[0m \u001b[32m━━━━━━━━━━━━━━━━━━━━\u001b[0m\u001b[37m\u001b[0m \u001b[1m0s\u001b[0m 21ms/step - accuracy: 1.0000 - loss: 0.0116 - val_accuracy: 0.2000 - val_loss: 4.4673\n",
      "Epoch 81/100\n",
      "\u001b[1m6/6\u001b[0m \u001b[32m━━━━━━━━━━━━━━━━━━━━\u001b[0m\u001b[37m\u001b[0m \u001b[1m0s\u001b[0m 22ms/step - accuracy: 1.0000 - loss: 0.0104 - val_accuracy: 0.2000 - val_loss: 4.4374\n",
      "Epoch 82/100\n",
      "\u001b[1m6/6\u001b[0m \u001b[32m━━━━━━━━━━━━━━━━━━━━\u001b[0m\u001b[37m\u001b[0m \u001b[1m0s\u001b[0m 21ms/step - accuracy: 1.0000 - loss: 0.0101 - val_accuracy: 0.2000 - val_loss: 4.4795\n",
      "Epoch 83/100\n",
      "\u001b[1m6/6\u001b[0m \u001b[32m━━━━━━━━━━━━━━━━━━━━\u001b[0m\u001b[37m\u001b[0m \u001b[1m0s\u001b[0m 21ms/step - accuracy: 1.0000 - loss: 0.0096 - val_accuracy: 0.2000 - val_loss: 4.4666\n",
      "Epoch 84/100\n",
      "\u001b[1m6/6\u001b[0m \u001b[32m━━━━━━━━━━━━━━━━━━━━\u001b[0m\u001b[37m\u001b[0m \u001b[1m0s\u001b[0m 21ms/step - accuracy: 1.0000 - loss: 0.0094 - val_accuracy: 0.2000 - val_loss: 4.4975\n",
      "Epoch 85/100\n",
      "\u001b[1m6/6\u001b[0m \u001b[32m━━━━━━━━━━━━━━━━━━━━\u001b[0m\u001b[37m\u001b[0m \u001b[1m0s\u001b[0m 23ms/step - accuracy: 1.0000 - loss: 0.0090 - val_accuracy: 0.2000 - val_loss: 4.4968\n",
      "Epoch 86/100\n",
      "\u001b[1m6/6\u001b[0m \u001b[32m━━━━━━━━━━━━━━━━━━━━\u001b[0m\u001b[37m\u001b[0m \u001b[1m0s\u001b[0m 22ms/step - accuracy: 1.0000 - loss: 0.0089 - val_accuracy: 0.2000 - val_loss: 4.5220\n",
      "Epoch 87/100\n",
      "\u001b[1m6/6\u001b[0m \u001b[32m━━━━━━━━━━━━━━━━━━━━\u001b[0m\u001b[37m\u001b[0m \u001b[1m0s\u001b[0m 20ms/step - accuracy: 1.0000 - loss: 0.0093 - val_accuracy: 0.2000 - val_loss: 4.5263\n",
      "Epoch 88/100\n",
      "\u001b[1m6/6\u001b[0m \u001b[32m━━━━━━━━━━━━━━━━━━━━\u001b[0m\u001b[37m\u001b[0m \u001b[1m0s\u001b[0m 21ms/step - accuracy: 1.0000 - loss: 0.0082 - val_accuracy: 0.2000 - val_loss: 4.5284\n",
      "Epoch 89/100\n",
      "\u001b[1m6/6\u001b[0m \u001b[32m━━━━━━━━━━━━━━━━━━━━\u001b[0m\u001b[37m\u001b[0m \u001b[1m0s\u001b[0m 25ms/step - accuracy: 1.0000 - loss: 0.0079 - val_accuracy: 0.2000 - val_loss: 4.5477\n",
      "Epoch 90/100\n",
      "\u001b[1m6/6\u001b[0m \u001b[32m━━━━━━━━━━━━━━━━━━━━\u001b[0m\u001b[37m\u001b[0m \u001b[1m0s\u001b[0m 21ms/step - accuracy: 1.0000 - loss: 0.0077 - val_accuracy: 0.2000 - val_loss: 4.5649\n",
      "Epoch 91/100\n",
      "\u001b[1m6/6\u001b[0m \u001b[32m━━━━━━━━━━━━━━━━━━━━\u001b[0m\u001b[37m\u001b[0m \u001b[1m0s\u001b[0m 21ms/step - accuracy: 1.0000 - loss: 0.0080 - val_accuracy: 0.2000 - val_loss: 4.6112\n",
      "Epoch 92/100\n",
      "\u001b[1m6/6\u001b[0m \u001b[32m━━━━━━━━━━━━━━━━━━━━\u001b[0m\u001b[37m\u001b[0m \u001b[1m0s\u001b[0m 20ms/step - accuracy: 1.0000 - loss: 0.0072 - val_accuracy: 0.2000 - val_loss: 4.6038\n",
      "Epoch 93/100\n",
      "\u001b[1m6/6\u001b[0m \u001b[32m━━━━━━━━━━━━━━━━━━━━\u001b[0m\u001b[37m\u001b[0m \u001b[1m0s\u001b[0m 21ms/step - accuracy: 1.0000 - loss: 0.0077 - val_accuracy: 0.2000 - val_loss: 4.5666\n",
      "Epoch 94/100\n",
      "\u001b[1m6/6\u001b[0m \u001b[32m━━━━━━━━━━━━━━━━━━━━\u001b[0m\u001b[37m\u001b[0m \u001b[1m0s\u001b[0m 21ms/step - accuracy: 1.0000 - loss: 0.0068 - val_accuracy: 0.2000 - val_loss: 4.5612\n",
      "Epoch 95/100\n",
      "\u001b[1m6/6\u001b[0m \u001b[32m━━━━━━━━━━━━━━━━━━━━\u001b[0m\u001b[37m\u001b[0m \u001b[1m0s\u001b[0m 20ms/step - accuracy: 1.0000 - loss: 0.0067 - val_accuracy: 0.2000 - val_loss: 4.5948\n",
      "Epoch 96/100\n",
      "\u001b[1m6/6\u001b[0m \u001b[32m━━━━━━━━━━━━━━━━━━━━\u001b[0m\u001b[37m\u001b[0m \u001b[1m0s\u001b[0m 20ms/step - accuracy: 1.0000 - loss: 0.0066 - val_accuracy: 0.2000 - val_loss: 4.6583\n",
      "Epoch 97/100\n",
      "\u001b[1m6/6\u001b[0m \u001b[32m━━━━━━━━━━━━━━━━━━━━\u001b[0m\u001b[37m\u001b[0m \u001b[1m0s\u001b[0m 20ms/step - accuracy: 1.0000 - loss: 0.0063 - val_accuracy: 0.2000 - val_loss: 4.6586\n",
      "Epoch 98/100\n",
      "\u001b[1m6/6\u001b[0m \u001b[32m━━━━━━━━━━━━━━━━━━━━\u001b[0m\u001b[37m\u001b[0m \u001b[1m0s\u001b[0m 20ms/step - accuracy: 1.0000 - loss: 0.0062 - val_accuracy: 0.2000 - val_loss: 4.6635\n",
      "Epoch 99/100\n",
      "\u001b[1m6/6\u001b[0m \u001b[32m━━━━━━━━━━━━━━━━━━━━\u001b[0m\u001b[37m\u001b[0m \u001b[1m0s\u001b[0m 23ms/step - accuracy: 1.0000 - loss: 0.0058 - val_accuracy: 0.2000 - val_loss: 4.6278\n",
      "Epoch 100/100\n",
      "\u001b[1m6/6\u001b[0m \u001b[32m━━━━━━━━━━━━━━━━━━━━\u001b[0m\u001b[37m\u001b[0m \u001b[1m0s\u001b[0m 21ms/step - accuracy: 1.0000 - loss: 0.0062 - val_accuracy: 0.2000 - val_loss: 4.6763\n"
     ]
    },
    {
     "name": "stderr",
     "output_type": "stream",
     "text": [
      "WARNING:absl:You are saving your model as an HDF5 file via `model.save()` or `keras.saving.save_model(model)`. This file format is considered legacy. We recommend using instead the native Keras format, e.g. `model.save('my_model.keras')` or `keras.saving.save_model(model, 'my_model.keras')`. \n"
     ]
    },
    {
     "name": "stdout",
     "output_type": "stream",
     "text": [
      "✅ Model berhasil disimpan.\n"
     ]
    }
   ],
   "source": [
    "import tensorflow as tf\n",
    "from tensorflow.keras import layers, models\n",
    "import numpy as np\n",
    "\n",
    "# Daftar nama kelas sesuai dataset\n",
    "class_names = [\n",
    "    \"Neck Stretch\", \"Shoulder Rolls\", \"Arm Circles\", \"Side Stretch\", \"Torso Twist\",\n",
    "    \"Hip Circles\", \"Forward Bend\", \"Knee Lifts\", \"Lunges\", \"Squats\",\n",
    "    \"Calf Raises\", \"Jumping Jacks\", \"Ankle Circles\", \"Wrist Stretch\", \"Breathing Exercise\"\n",
    "]\n",
    "num_classes = len(class_names)  # = 15\n",
    "\n",
    "# Misalnya dataset (dummy) dimuat dari file .csv atau preprocessing sebelumnya\n",
    "# Contoh dummy (hapus & ganti dengan dataset aslimu)\n",
    "X_train = np.random.rand(100, 66)  # 100 sampel, 66 fitur (33 keypoint * 2 (x, y))\n",
    "y_train = np.random.randint(0, num_classes, size=(100,))\n",
    "\n",
    "# Reshape ke format gambar kecil (11x6x1)\n",
    "X_train = X_train.reshape(-1, 11, 6, 1)\n",
    "\n",
    "# Model CNN\n",
    "def build_cnn_pose_model(input_shape=(11, 6, 1), num_classes=15):\n",
    "    model = models.Sequential([\n",
    "        layers.Conv2D(32, (3, 3), activation='relu', padding='same', input_shape=input_shape),\n",
    "        layers.MaxPooling2D(2, 2),\n",
    "        layers.Conv2D(64, (3, 3), activation='relu', padding='same'),\n",
    "        layers.Flatten(),\n",
    "        layers.Dense(128, activation='relu'),\n",
    "        layers.Dense(num_classes, activation='softmax')\n",
    "    ])\n",
    "    return model\n",
    "\n",
    "model = build_cnn_pose_model()\n",
    "model.compile(optimizer='adam', loss='sparse_categorical_crossentropy', metrics=['accuracy'])\n",
    "\n",
    "# Latih model\n",
    "model.fit(X_train, y_train, epochs=100, batch_size=16, validation_split=0.1)\n",
    "\n",
    "# Simpan model (gunakan raw string agar tidak error path)\n",
    "model.save(\"D:\\Semester 6\\PEMROGRAMAN SISTEM CERDAS 2\\capstone_mp_model\\model2\\pose_cnn_model.h5\")\n",
    "print(\"✅ Model berhasil disimpan.\")\n"
   ]
  },
  {
   "cell_type": "code",
   "execution_count": 15,
   "metadata": {
    "colab": {
     "base_uri": "https://localhost:8080/",
     "height": 822
    },
    "executionInfo": {
     "elapsed": 3846,
     "status": "ok",
     "timestamp": 1750784551858,
     "user": {
      "displayName": "Agit Saputra",
      "userId": "06617746144594588797"
     },
     "user_tz": -420
    },
    "id": "Urr3Huzsubic",
    "outputId": "048778f4-82fa-4e61-9133-4fbf73955533"
   },
   "outputs": [
    {
     "name": "stdout",
     "output_type": "stream",
     "text": [
      "\u001b[1m342/342\u001b[0m \u001b[32m━━━━━━━━━━━━━━━━━━━━\u001b[0m\u001b[37m\u001b[0m \u001b[1m1s\u001b[0m 4ms/step\n"
     ]
    },
    {
     "data": {
      "image/png": "[encoded data removed]",
      "text/plain": [
       "<Figure size 640x480 with 2 Axes>"
      ]
     },
     "metadata": {},
     "output_type": "display_data"
    },
    {
     "name": "stdout",
     "output_type": "stream",
     "text": [
      "                    precision    recall  f1-score   support\n",
      "\n",
      "      Neck Stretch       0.00      0.00      0.00      1562\n",
      "    Shoulder Rolls       0.00      0.00      0.00       556\n",
      "       Arm Circles       0.00      0.00      0.00       710\n",
      "      Side Stretch       0.01      0.02      0.01       849\n",
      "       Torso Twist       0.00      0.00      0.00       895\n",
      "       Hip Circles       0.10      0.00      0.00      1611\n",
      "      Forward Bend       0.00      0.00      0.00       315\n",
      "        Knee Lifts       0.00      0.00      0.00       352\n",
      "            Lunges       0.00      0.00      0.00       465\n",
      "            Squats       0.00      0.00      0.00      2584\n",
      "       Calf Raises       0.00      0.00      0.00       148\n",
      "     Jumping Jacks       0.00      0.00      0.00       260\n",
      "     Ankle Circles       0.00      0.00      0.00        57\n",
      "     Wrist Stretch       0.00      0.00      0.00       374\n",
      "Breathing Exercise       0.02      0.96      0.04       175\n",
      "\n",
      "          accuracy                           0.02     10913\n",
      "         macro avg       0.01      0.07      0.00     10913\n",
      "      weighted avg       0.02      0.02      0.00     10913\n",
      "\n"
     ]
    },
    {
     "name": "stderr",
     "output_type": "stream",
     "text": [
      "d:\\Semester 6\\program\\Python310\\lib\\site-packages\\sklearn\\metrics\\_classification.py:1706: UndefinedMetricWarning: Precision is ill-defined and being set to 0.0 in labels with no predicted samples. Use `zero_division` parameter to control this behavior.\n",
      "  _warn_prf(average, modifier, f\"{metric.capitalize()} is\", result.shape[0])\n",
      "d:\\Semester 6\\program\\Python310\\lib\\site-packages\\sklearn\\metrics\\_classification.py:1706: UndefinedMetricWarning: Precision is ill-defined and being set to 0.0 in labels with no predicted samples. Use `zero_division` parameter to control this behavior.\n",
      "  _warn_prf(average, modifier, f\"{metric.capitalize()} is\", result.shape[0])\n",
      "d:\\Semester 6\\program\\Python310\\lib\\site-packages\\sklearn\\metrics\\_classification.py:1706: UndefinedMetricWarning: Precision is ill-defined and being set to 0.0 in labels with no predicted samples. Use `zero_division` parameter to control this behavior.\n",
      "  _warn_prf(average, modifier, f\"{metric.capitalize()} is\", result.shape[0])\n"
     ]
    }
   ],
   "source": [
    "from sklearn.metrics import confusion_matrix, classification_report\n",
    "import seaborn as sns\n",
    "import matplotlib.pyplot as plt\n",
    "import numpy as np\n",
    "\n",
    "y_pred = model.predict(X_test)\n",
    "y_pred_class = np.argmax(y_pred, axis=1)\n",
    "\n",
    "cm = confusion_matrix(y_test, y_pred_class)\n",
    "sns.heatmap(cm, annot=True, fmt='d', xticklabels=class_names, yticklabels=class_names)\n",
    "plt.xlabel(\"Predicted\")\n",
    "plt.ylabel(\"Actual\")\n",
    "plt.title(\"Confusion Matrix\")\n",
    "plt.show()\n",
    "\n",
    "print(classification_report(y_test, y_pred_class, target_names=class_names))\n"
   ]
  },
  {
   "cell_type": "code",
   "execution_count": 16,
   "metadata": {
    "colab": {
     "base_uri": "https://localhost:8080/"
    },
    "executionInfo": {
     "elapsed": 1568,
     "status": "ok",
     "timestamp": 1748065551842,
     "user": {
      "displayName": "Agit Saputra",
      "userId": "06617746144594588797"
     },
     "user_tz": -420
    },
    "id": "jDeO8XTMugi-",
    "outputId": "e178a9ab-67f7-4e30-ff7d-a8760553210c"
   },
   "outputs": [
    {
     "name": "stdout",
     "output_type": "stream",
     "text": [
      "INFO:tensorflow:Assets written to: C:\\Users\\skymo\\AppData\\Local\\Temp\\tmp6rirhonb\\assets\n"
     ]
    },
    {
     "name": "stderr",
     "output_type": "stream",
     "text": [
      "INFO:tensorflow:Assets written to: C:\\Users\\skymo\\AppData\\Local\\Temp\\tmp6rirhonb\\assets\n"
     ]
    },
    {
     "name": "stdout",
     "output_type": "stream",
     "text": [
      "Saved artifact at 'C:\\Users\\skymo\\AppData\\Local\\Temp\\tmp6rirhonb'. The following endpoints are available:\n",
      "\n",
      "* Endpoint 'serve'\n",
      "  args_0 (POSITIONAL_ONLY): TensorSpec(shape=(None, 11, 6, 1), dtype=tf.float32, name='keras_tensor_7')\n",
      "Output Type:\n",
      "  TensorSpec(shape=(None, 15), dtype=tf.float32, name=None)\n",
      "Captures:\n",
      "  2941351355216: TensorSpec(shape=(), dtype=tf.resource, name=None)\n",
      "  2941349016528: TensorSpec(shape=(), dtype=tf.resource, name=None)\n",
      "  2941349014240: TensorSpec(shape=(), dtype=tf.resource, name=None)\n",
      "  2941349014064: TensorSpec(shape=(), dtype=tf.resource, name=None)\n",
      "  2941349007200: TensorSpec(shape=(), dtype=tf.resource, name=None)\n",
      "  2941349006496: TensorSpec(shape=(), dtype=tf.resource, name=None)\n",
      "  2941349018464: TensorSpec(shape=(), dtype=tf.resource, name=None)\n",
      "  2941349013360: TensorSpec(shape=(), dtype=tf.resource, name=None)\n"
     ]
    }
   ],
   "source": [
    "converter = tf.lite.TFLiteConverter.from_keras_model(model)\n",
    "tflite_model = converter.convert()\n",
    "\n",
    "with open(\"D:\\Semester 6\\PEMROGRAMAN SISTEM CERDAS 2\\capstone_mp_model\\Model CNN\\pose_cnn_model.tflite\", \"wb\") as f:\n",
    "    f.write(tflite_model)"
   ]
  },
  {
   "cell_type": "markdown",
   "metadata": {
    "id": "C98o1tnBnEHx"
   },
   "source": [
    "## Class Ankle Circles"
   ]
  },
  {
   "cell_type": "code",
   "execution_count": 17,
   "metadata": {
    "colab": {
     "base_uri": "https://localhost:8080/"
    },
    "executionInfo": {
     "elapsed": 29,
     "status": "ok",
     "timestamp": 1748936677924,
     "user": {
      "displayName": "Agit Saputra",
      "userId": "06617746144594588797"
     },
     "user_tz": -420
    },
    "id": "OcRyw55cnJ6N",
    "outputId": "3972d535-dd52-44c3-dc4f-374ec2f7cc40"
   },
   "outputs": [
    {
     "name": "stdout",
     "output_type": "stream",
     "text": [
      "['Ankle Circles', 'Arm Circles', 'Breathing Exercise', 'Calf Raises', 'Forward Bend', 'Hip Circles', 'Jumping Jacks', 'Knee Lifts', 'Lunges', 'Neck Stretch', 'Shoulder Rolls', 'Side Stretch', 'Squats', 'Torso Twist', 'Wrist Stretch']\n",
      "Folder Ankle Circles has files:  ['ankle circles 1.mp4']\n",
      "Folder Arm Circles has files:  ['arm circles 1.mp4', 'arm circles 2.mp4']\n",
      "Folder Breathing Exercise has files:  ['breathing exercise 1.mp4', 'breathing exercise 2.mp4', 'breathing exercise 3.mp4']\n",
      "Folder Calf Raises has files:  ['calf raises 1.mp4', 'calf raises 2.mp4']\n",
      "Folder Forward Bend has files:  ['forward bend 1.mp4', 'forward bend 2.mp4']\n",
      "Folder Hip Circles has files:  ['hip circles 1.mp4', 'Hip_circles.mp4']\n",
      "Folder Jumping Jacks has files:  ['jumping jacks 1.mp4', 'jumping jacks 2.mp4']\n",
      "Folder Knee Lifts has files:  ['knee lifts 1.mp4']\n",
      "Folder Lunges has files:  ['lunges 1.mp4']\n",
      "Folder Neck Stretch has files:  ['neck stretch 1.mp4', 'neck stretch 2.mp4']\n",
      "Folder Shoulder Rolls has files:  ['shoulder rolls.mp4']\n",
      "Folder Side Stretch has files:  ['side stretch 1.mp4']\n",
      "Folder Squats has files:  ['squats.mp4']\n",
      "Folder Torso Twist has files:  ['torso twist 1.mp4']\n",
      "Folder Wrist Stretch has files:  ['wrist stretch.mp4']\n"
     ]
    }
   ],
   "source": [
    "import os\n",
    "DATA_DIR = \"D:\\Semester 6\\PEMROGRAMAN SISTEM CERDAS 2\\capstone_mp_model\\data\"\n",
    "print(os.listdir(DATA_DIR))  # Pastikan ada folder kelas\n",
    "for folder in os.listdir(DATA_DIR):\n",
    "    print(f\"Folder {folder} has files: \", os.listdir(os.path.join(DATA_DIR, folder)))"
   ]
  },
  {
   "cell_type": "code",
   "execution_count": 18,
   "metadata": {
    "colab": {
     "base_uri": "https://localhost:8080/"
    },
    "executionInfo": {
     "elapsed": 75221,
     "status": "ok",
     "timestamp": 1748937157499,
     "user": {
      "displayName": "Agit Saputra",
      "userId": "06617746144594588797"
     },
     "user_tz": -420
    },
    "id": "Q9uHM8Igq2NM",
    "outputId": "c9123c64-1599-482d-f9a3-ab3fd486f8cd"
   },
   "outputs": [
    {
     "name": "stdout",
     "output_type": "stream",
     "text": [
      "Jumlah data pose yang terbaca: 7532\n",
      "Shape X: (7532, 66)\n",
      "Shape y: (7532,)\n"
     ]
    }
   ],
   "source": [
    "import os\n",
    "import cv2\n",
    "import mediapipe as mp\n",
    "import numpy as np\n",
    "\n",
    "mp_pose = mp.solutions.pose\n",
    "pose = mp_pose.Pose(static_image_mode=False)\n",
    "\n",
    "# DATA_DIR sudah langsung ke folder kelas\n",
    "DATA_DIR = \"D:\\Semester 6\\PEMROGRAMAN SISTEM CERDAS 2\\capstone_mp_model\\data\\Ankle Circles\"\n",
    "\n",
    "class_folder = DATA_DIR  # langsung folder kelas tanpa gabung lagi\n",
    "\n",
    "keypoints, labels = [], []\n",
    "\n",
    "# Cek apakah ada subfolder\n",
    "subfolders = [f for f in os.listdir(class_folder) if os.path.isdir(os.path.join(class_folder, f))]\n",
    "\n",
    "if len(subfolders) > 0:\n",
    "    # Kalau ada subfolder, proses video di tiap subfolder\n",
    "    for subfolder in subfolders:\n",
    "        folder_path = os.path.join(class_folder, subfolder)\n",
    "        for file in os.listdir(folder_path):\n",
    "            if not file.endswith(\".mp4\"):\n",
    "                continue\n",
    "            video_path = os.path.join(folder_path, file)\n",
    "            cap = cv2.VideoCapture(video_path)\n",
    "            if not cap.isOpened():\n",
    "                print(f\"Gagal membuka video: {video_path}\")\n",
    "                continue\n",
    "            while True:\n",
    "                ret, frame = cap.read()\n",
    "                if not ret:\n",
    "                    break\n",
    "                frame = cv2.resize(frame, (224, 224))\n",
    "                rgb = cv2.cvtColor(frame, cv2.COLOR_BGR2RGB)\n",
    "                results = pose.process(rgb)\n",
    "                if results.pose_landmarks:\n",
    "                    lm = results.pose_landmarks.landmark\n",
    "                    keypoints.append([p.x for p in lm] + [p.y for p in lm])\n",
    "                    labels.append(0)  # hanya satu kelas, label=0\n",
    "            cap.release()\n",
    "else:\n",
    "    # Kalau tidak ada subfolder, langsung proses video di folder kelas\n",
    "    for file in os.listdir(class_folder):\n",
    "        if not file.endswith(\".mp4\"):\n",
    "            continue\n",
    "        video_path = os.path.join(class_folder, file)\n",
    "        cap = cv2.VideoCapture(video_path)\n",
    "        if not cap.isOpened():\n",
    "            print(f\"Gagal membuka video: {video_path}\")\n",
    "            continue\n",
    "        while True:\n",
    "            ret, frame = cap.read()\n",
    "            if not ret:\n",
    "                break\n",
    "            frame = cv2.resize(frame, (224, 224))\n",
    "            rgb = cv2.cvtColor(frame, cv2.COLOR_BGR2RGB)\n",
    "            results = pose.process(rgb)\n",
    "            if results.pose_landmarks:\n",
    "                lm = results.pose_landmarks.landmark\n",
    "                keypoints.append([p.x for p in lm] + [p.y for p in lm])\n",
    "                labels.append(0)\n",
    "        cap.release()\n",
    "\n",
    "X = np.array(keypoints)\n",
    "y = np.array(labels)\n",
    "\n",
    "print(f\"Jumlah data pose yang terbaca: {len(X)}\")\n",
    "print(f\"Shape X: {X.shape}\")\n",
    "print(f\"Shape y: {y.shape}\")\n"
   ]
  },
  {
   "cell_type": "code",
   "execution_count": 19,
   "metadata": {
    "colab": {
     "base_uri": "https://localhost:8080/"
    },
    "executionInfo": {
     "elapsed": 38,
     "status": "ok",
     "timestamp": 1748937246657,
     "user": {
      "displayName": "Agit Saputra",
      "userId": "06617746144594588797"
     },
     "user_tz": -420
    },
    "id": "agy5o-PByGQb",
    "outputId": "b7b308fa-fc45-493d-db34-68ba1fee9032"
   },
   "outputs": [
    {
     "name": "stdout",
     "output_type": "stream",
     "text": [
      "Jumlah data pose: 7532\n",
      "Shape X: (7532, 66)\n",
      "Data training: (6025, 11, 6, 1), Data testing: (1507, 11, 6, 1)\n"
     ]
    }
   ],
   "source": [
    "from sklearn.model_selection import train_test_split\n",
    "import numpy as np\n",
    "\n",
    "# Misal kamu sudah punya X dan y, dan hanya dari satu kelas\n",
    "print(f\"Jumlah data pose: {len(X)}\")\n",
    "print(f\"Shape X: {X.shape}\")\n",
    "\n",
    "# Validasi jumlah fitur\n",
    "if X.shape[1] != 66:\n",
    "    raise ValueError(f\"Jumlah fitur ({X.shape[1]}) tidak sesuai 66 (33 landmark * 2)\")\n",
    "\n",
    "# Reshape untuk input ke CNN\n",
    "X = X.reshape(-1, 11, 6, 1)\n",
    "\n",
    "# Karena hanya satu kelas, jangan pakai stratify\n",
    "X_train, X_test, y_train, y_test = train_test_split(\n",
    "    X, y, test_size=0.2, random_state=42\n",
    ")\n",
    "\n",
    "print(f\"Data training: {X_train.shape}, Data testing: {X_test.shape}\")\n"
   ]
  },
  {
   "cell_type": "code",
   "execution_count": 20,
   "metadata": {
    "colab": {
     "base_uri": "https://localhost:8080/",
     "height": 772
    },
    "executionInfo": {
     "elapsed": 7886,
     "status": "ok",
     "timestamp": 1748937349950,
     "user": {
      "displayName": "Agit Saputra",
      "userId": "06617746144594588797"
     },
     "user_tz": -420
    },
    "id": "hRiZ7wf9yNZv",
    "outputId": "0da0bcd6-9f51-44ff-8e91-e85dea8d3422"
   },
   "outputs": [
    {
     "name": "stderr",
     "output_type": "stream",
     "text": [
      "d:\\Semester 6\\program\\Python310\\lib\\site-packages\\keras\\src\\layers\\convolutional\\base_conv.py:113: UserWarning: Do not pass an `input_shape`/`input_dim` argument to a layer. When using Sequential models, prefer using an `Input(shape)` object as the first layer in the model instead.\n",
      "  super().__init__(activity_regularizer=activity_regularizer, **kwargs)\n"
     ]
    },
    {
     "data": {
      "text/html": [
       "<pre style=\"white-space:pre;overflow-x:auto;line-height:normal;font-family:Menlo,'DejaVu Sans Mono',consolas,'Courier New',monospace\"><span style=\"font-weight: bold\">Model: \"sequential_2\"</span>\n",
       "</pre>\n"
      ],
      "text/plain": [
       "\u001b[1mModel: \"sequential_2\"\u001b[0m\n"
      ]
     },
     "metadata": {},
     "output_type": "display_data"
    },
    {
     "data": {
      "text/html": [
       "<pre style=\"white-space:pre;overflow-x:auto;line-height:normal;font-family:Menlo,'DejaVu Sans Mono',consolas,'Courier New',monospace\">┏━━━━━━━━━━━━━━━━━━━━━━━━━━━━━━━━━┳━━━━━━━━━━━━━━━━━━━━━━━━┳━━━━━━━━━━━━━━━┓\n",
       "┃<span style=\"font-weight: bold\"> Layer (type)                    </span>┃<span style=\"font-weight: bold\"> Output Shape           </span>┃<span style=\"font-weight: bold\">       Param # </span>┃\n",
       "┡━━━━━━━━━━━━━━━━━━━━━━━━━━━━━━━━━╇━━━━━━━━━━━━━━━━━━━━━━━━╇━━━━━━━━━━━━━━━┩\n",
       "│ conv2d_4 (<span style=\"color: #0087ff; text-decoration-color: #0087ff\">Conv2D</span>)               │ (<span style=\"color: #00d7ff; text-decoration-color: #00d7ff\">None</span>, <span style=\"color: #00af00; text-decoration-color: #00af00\">11</span>, <span style=\"color: #00af00; text-decoration-color: #00af00\">6</span>, <span style=\"color: #00af00; text-decoration-color: #00af00\">32</span>)      │           <span style=\"color: #00af00; text-decoration-color: #00af00\">320</span> │\n",
       "├─────────────────────────────────┼────────────────────────┼───────────────┤\n",
       "│ max_pooling2d_2 (<span style=\"color: #0087ff; text-decoration-color: #0087ff\">MaxPooling2D</span>)  │ (<span style=\"color: #00d7ff; text-decoration-color: #00d7ff\">None</span>, <span style=\"color: #00af00; text-decoration-color: #00af00\">5</span>, <span style=\"color: #00af00; text-decoration-color: #00af00\">3</span>, <span style=\"color: #00af00; text-decoration-color: #00af00\">32</span>)       │             <span style=\"color: #00af00; text-decoration-color: #00af00\">0</span> │\n",
       "├─────────────────────────────────┼────────────────────────┼───────────────┤\n",
       "│ conv2d_5 (<span style=\"color: #0087ff; text-decoration-color: #0087ff\">Conv2D</span>)               │ (<span style=\"color: #00d7ff; text-decoration-color: #00d7ff\">None</span>, <span style=\"color: #00af00; text-decoration-color: #00af00\">5</span>, <span style=\"color: #00af00; text-decoration-color: #00af00\">3</span>, <span style=\"color: #00af00; text-decoration-color: #00af00\">64</span>)       │        <span style=\"color: #00af00; text-decoration-color: #00af00\">18,496</span> │\n",
       "├─────────────────────────────────┼────────────────────────┼───────────────┤\n",
       "│ flatten_2 (<span style=\"color: #0087ff; text-decoration-color: #0087ff\">Flatten</span>)             │ (<span style=\"color: #00d7ff; text-decoration-color: #00d7ff\">None</span>, <span style=\"color: #00af00; text-decoration-color: #00af00\">960</span>)            │             <span style=\"color: #00af00; text-decoration-color: #00af00\">0</span> │\n",
       "├─────────────────────────────────┼────────────────────────┼───────────────┤\n",
       "│ dense_4 (<span style=\"color: #0087ff; text-decoration-color: #0087ff\">Dense</span>)                 │ (<span style=\"color: #00d7ff; text-decoration-color: #00d7ff\">None</span>, <span style=\"color: #00af00; text-decoration-color: #00af00\">128</span>)            │       <span style=\"color: #00af00; text-decoration-color: #00af00\">123,008</span> │\n",
       "├─────────────────────────────────┼────────────────────────┼───────────────┤\n",
       "│ dropout (<span style=\"color: #0087ff; text-decoration-color: #0087ff\">Dropout</span>)               │ (<span style=\"color: #00d7ff; text-decoration-color: #00d7ff\">None</span>, <span style=\"color: #00af00; text-decoration-color: #00af00\">128</span>)            │             <span style=\"color: #00af00; text-decoration-color: #00af00\">0</span> │\n",
       "├─────────────────────────────────┼────────────────────────┼───────────────┤\n",
       "│ dense_5 (<span style=\"color: #0087ff; text-decoration-color: #0087ff\">Dense</span>)                 │ (<span style=\"color: #00d7ff; text-decoration-color: #00d7ff\">None</span>, <span style=\"color: #00af00; text-decoration-color: #00af00\">1</span>)              │           <span style=\"color: #00af00; text-decoration-color: #00af00\">129</span> │\n",
       "└─────────────────────────────────┴────────────────────────┴───────────────┘\n",
       "</pre>\n"
      ],
      "text/plain": [
       "┏━━━━━━━━━━━━━━━━━━━━━━━━━━━━━━━━━┳━━━━━━━━━━━━━━━━━━━━━━━━┳━━━━━━━━━━━━━━━┓\n",
       "┃\u001b[1m \u001b[0m\u001b[1mLayer (type)                   \u001b[0m\u001b[1m \u001b[0m┃\u001b[1m \u001b[0m\u001b[1mOutput Shape          \u001b[0m\u001b[1m \u001b[0m┃\u001b[1m \u001b[0m\u001b[1m      Param #\u001b[0m\u001b[1m \u001b[0m┃\n",
       "┡━━━━━━━━━━━━━━━━━━━━━━━━━━━━━━━━━╇━━━━━━━━━━━━━━━━━━━━━━━━╇━━━━━━━━━━━━━━━┩\n",
       "│ conv2d_4 (\u001b[38;5;33mConv2D\u001b[0m)               │ (\u001b[38;5;45mNone\u001b[0m, \u001b[38;5;34m11\u001b[0m, \u001b[38;5;34m6\u001b[0m, \u001b[38;5;34m32\u001b[0m)      │           \u001b[38;5;34m320\u001b[0m │\n",
       "├─────────────────────────────────┼────────────────────────┼───────────────┤\n",
       "│ max_pooling2d_2 (\u001b[38;5;33mMaxPooling2D\u001b[0m)  │ (\u001b[38;5;45mNone\u001b[0m, \u001b[38;5;34m5\u001b[0m, \u001b[38;5;34m3\u001b[0m, \u001b[38;5;34m32\u001b[0m)       │             \u001b[38;5;34m0\u001b[0m │\n",
       "├─────────────────────────────────┼────────────────────────┼───────────────┤\n",
       "│ conv2d_5 (\u001b[38;5;33mConv2D\u001b[0m)               │ (\u001b[38;5;45mNone\u001b[0m, \u001b[38;5;34m5\u001b[0m, \u001b[38;5;34m3\u001b[0m, \u001b[38;5;34m64\u001b[0m)       │        \u001b[38;5;34m18,496\u001b[0m │\n",
       "├─────────────────────────────────┼────────────────────────┼───────────────┤\n",
       "│ flatten_2 (\u001b[38;5;33mFlatten\u001b[0m)             │ (\u001b[38;5;45mNone\u001b[0m, \u001b[38;5;34m960\u001b[0m)            │             \u001b[38;5;34m0\u001b[0m │\n",
       "├─────────────────────────────────┼────────────────────────┼───────────────┤\n",
       "│ dense_4 (\u001b[38;5;33mDense\u001b[0m)                 │ (\u001b[38;5;45mNone\u001b[0m, \u001b[38;5;34m128\u001b[0m)            │       \u001b[38;5;34m123,008\u001b[0m │\n",
       "├─────────────────────────────────┼────────────────────────┼───────────────┤\n",
       "│ dropout (\u001b[38;5;33mDropout\u001b[0m)               │ (\u001b[38;5;45mNone\u001b[0m, \u001b[38;5;34m128\u001b[0m)            │             \u001b[38;5;34m0\u001b[0m │\n",
       "├─────────────────────────────────┼────────────────────────┼───────────────┤\n",
       "│ dense_5 (\u001b[38;5;33mDense\u001b[0m)                 │ (\u001b[38;5;45mNone\u001b[0m, \u001b[38;5;34m1\u001b[0m)              │           \u001b[38;5;34m129\u001b[0m │\n",
       "└─────────────────────────────────┴────────────────────────┴───────────────┘\n"
      ]
     },
     "metadata": {},
     "output_type": "display_data"
    },
    {
     "data": {
      "text/html": [
       "<pre style=\"white-space:pre;overflow-x:auto;line-height:normal;font-family:Menlo,'DejaVu Sans Mono',consolas,'Courier New',monospace\"><span style=\"font-weight: bold\"> Total params: </span><span style=\"color: #00af00; text-decoration-color: #00af00\">141,953</span> (554.50 KB)\n",
       "</pre>\n"
      ],
      "text/plain": [
       "\u001b[1m Total params: \u001b[0m\u001b[38;5;34m141,953\u001b[0m (554.50 KB)\n"
      ]
     },
     "metadata": {},
     "output_type": "display_data"
    },
    {
     "data": {
      "text/html": [
       "<pre style=\"white-space:pre;overflow-x:auto;line-height:normal;font-family:Menlo,'DejaVu Sans Mono',consolas,'Courier New',monospace\"><span style=\"font-weight: bold\"> Trainable params: </span><span style=\"color: #00af00; text-decoration-color: #00af00\">141,953</span> (554.50 KB)\n",
       "</pre>\n"
      ],
      "text/plain": [
       "\u001b[1m Trainable params: \u001b[0m\u001b[38;5;34m141,953\u001b[0m (554.50 KB)\n"
      ]
     },
     "metadata": {},
     "output_type": "display_data"
    },
    {
     "data": {
      "text/html": [
       "<pre style=\"white-space:pre;overflow-x:auto;line-height:normal;font-family:Menlo,'DejaVu Sans Mono',consolas,'Courier New',monospace\"><span style=\"font-weight: bold\"> Non-trainable params: </span><span style=\"color: #00af00; text-decoration-color: #00af00\">0</span> (0.00 B)\n",
       "</pre>\n"
      ],
      "text/plain": [
       "\u001b[1m Non-trainable params: \u001b[0m\u001b[38;5;34m0\u001b[0m (0.00 B)\n"
      ]
     },
     "metadata": {},
     "output_type": "display_data"
    },
    {
     "name": "stdout",
     "output_type": "stream",
     "text": [
      "Epoch 1/10\n",
      "\u001b[1m189/189\u001b[0m \u001b[32m━━━━━━━━━━━━━━━━━━━━\u001b[0m\u001b[37m\u001b[0m \u001b[1m4s\u001b[0m 9ms/step - accuracy: 0.9933 - loss: 0.0665 - val_accuracy: 1.0000 - val_loss: 1.0386e-09\n",
      "Epoch 2/10\n",
      "\u001b[1m189/189\u001b[0m \u001b[32m━━━━━━━━━━━━━━━━━━━━\u001b[0m\u001b[37m\u001b[0m \u001b[1m2s\u001b[0m 8ms/step - accuracy: 1.0000 - loss: 4.8450e-07 - val_accuracy: 1.0000 - val_loss: 5.7139e-10\n",
      "Epoch 3/10\n",
      "\u001b[1m189/189\u001b[0m \u001b[32m━━━━━━━━━━━━━━━━━━━━\u001b[0m\u001b[37m\u001b[0m \u001b[1m2s\u001b[0m 8ms/step - accuracy: 1.0000 - loss: 4.8764e-07 - val_accuracy: 1.0000 - val_loss: 3.1001e-10\n",
      "Epoch 4/10\n",
      "\u001b[1m189/189\u001b[0m \u001b[32m━━━━━━━━━━━━━━━━━━━━\u001b[0m\u001b[37m\u001b[0m \u001b[1m2s\u001b[0m 9ms/step - accuracy: 1.0000 - loss: 2.3726e-07 - val_accuracy: 1.0000 - val_loss: 2.3207e-10\n",
      "Epoch 5/10\n",
      "\u001b[1m189/189\u001b[0m \u001b[32m━━━━━━━━━━━━━━━━━━━━\u001b[0m\u001b[37m\u001b[0m \u001b[1m2s\u001b[0m 12ms/step - accuracy: 1.0000 - loss: 3.4013e-07 - val_accuracy: 1.0000 - val_loss: 1.6063e-10\n",
      "Epoch 6/10\n",
      "\u001b[1m189/189\u001b[0m \u001b[32m━━━━━━━━━━━━━━━━━━━━\u001b[0m\u001b[37m\u001b[0m \u001b[1m2s\u001b[0m 12ms/step - accuracy: 1.0000 - loss: 1.5090e-07 - val_accuracy: 1.0000 - val_loss: 7.6848e-11\n",
      "Epoch 7/10\n",
      "\u001b[1m189/189\u001b[0m \u001b[32m━━━━━━━━━━━━━━━━━━━━\u001b[0m\u001b[37m\u001b[0m \u001b[1m2s\u001b[0m 8ms/step - accuracy: 1.0000 - loss: 1.6886e-07 - val_accuracy: 1.0000 - val_loss: 5.3914e-11\n",
      "Epoch 8/10\n",
      "\u001b[1m189/189\u001b[0m \u001b[32m━━━━━━━━━━━━━━━━━━━━\u001b[0m\u001b[37m\u001b[0m \u001b[1m3s\u001b[0m 10ms/step - accuracy: 1.0000 - loss: 1.7791e-07 - val_accuracy: 1.0000 - val_loss: 4.4497e-11\n",
      "Epoch 9/10\n",
      "\u001b[1m189/189\u001b[0m \u001b[32m━━━━━━━━━━━━━━━━━━━━\u001b[0m\u001b[37m\u001b[0m \u001b[1m2s\u001b[0m 10ms/step - accuracy: 1.0000 - loss: 9.3263e-08 - val_accuracy: 1.0000 - val_loss: 3.6864e-11\n",
      "Epoch 10/10\n",
      "\u001b[1m189/189\u001b[0m \u001b[32m━━━━━━━━━━━━━━━━━━━━\u001b[0m\u001b[37m\u001b[0m \u001b[1m2s\u001b[0m 12ms/step - accuracy: 1.0000 - loss: 6.8570e-08 - val_accuracy: 1.0000 - val_loss: 3.0863e-11\n",
      "\u001b[1m48/48\u001b[0m \u001b[32m━━━━━━━━━━━━━━━━━━━━\u001b[0m\u001b[37m\u001b[0m \u001b[1m0s\u001b[0m 6ms/step - accuracy: 1.0000 - loss: 3.0878e-11\n",
      "\n",
      "Test Accuracy: 100.00%\n"
     ]
    }
   ],
   "source": [
    "from tensorflow.keras.models import Sequential\n",
    "from tensorflow.keras.layers import Conv2D, MaxPooling2D, Flatten, Dense, Dropout\n",
    "\n",
    "# Misalnya semua data adalah satu kelas, maka label harus 1\n",
    "y_train = np.ones(len(y_train))\n",
    "y_test = np.ones(len(y_test))\n",
    "\n",
    "model = Sequential([\n",
    "    Conv2D(32, (3, 3), activation='relu', padding='same', input_shape=(11, 6, 1)),\n",
    "    MaxPooling2D((2, 2)),\n",
    "    Conv2D(64, (3, 3), activation='relu', padding='same'),\n",
    "    Flatten(),\n",
    "    Dense(128, activation='relu'),\n",
    "    Dropout(0.5),\n",
    "    Dense(1, activation='sigmoid')  # Output satu neuron, sigmoid\n",
    "])\n",
    "\n",
    "model.compile(optimizer='adam', loss='binary_crossentropy', metrics=['accuracy'])\n",
    "model.summary()\n",
    "\n",
    "history = model.fit(\n",
    "    X_train, y_train,\n",
    "    validation_data=(X_test, y_test),\n",
    "    epochs=10,\n",
    "    batch_size=32\n",
    ")\n",
    "\n",
    "loss, accuracy = model.evaluate(X_test, y_test)\n",
    "print(f\"\\nTest Accuracy: {accuracy * 100:.2f}%\")"
   ]
  },
  {
   "cell_type": "code",
   "execution_count": 21,
   "metadata": {
    "colab": {
     "base_uri": "https://localhost:8080/"
    },
    "executionInfo": {
     "elapsed": 59,
     "status": "ok",
     "timestamp": 1748937435539,
     "user": {
      "displayName": "Agit Saputra",
      "userId": "06617746144594588797"
     },
     "user_tz": -420
    },
    "id": "56Y4_vSvyqxE",
    "outputId": "8f9e6490-7124-448e-d7ad-288ad26f345a"
   },
   "outputs": [
    {
     "name": "stderr",
     "output_type": "stream",
     "text": [
      "WARNING:absl:You are saving your model as an HDF5 file via `model.save()` or `keras.saving.save_model(model)`. This file format is considered legacy. We recommend using instead the native Keras format, e.g. `model.save('my_model.keras')` or `keras.saving.save_model(model, 'my_model.keras')`. \n"
     ]
    }
   ],
   "source": [
    "# Simpan model\n",
    "model.save(\"D:\\Semester 6\\PEMROGRAMAN SISTEM CERDAS 2\\capstone_mp_model\\Model CNN\\Ankel_Circ_model.h5\")"
   ]
  },
  {
   "cell_type": "code",
   "execution_count": 22,
   "metadata": {
    "colab": {
     "base_uri": "https://localhost:8080/"
    },
    "executionInfo": {
     "elapsed": 787,
     "status": "ok",
     "timestamp": 1748937514889,
     "user": {
      "displayName": "Agit Saputra",
      "userId": "06617746144594588797"
     },
     "user_tz": -420
    },
    "id": "cTIjmNKGy_Wb",
    "outputId": "fbea7fe8-65f0-4d4b-b71e-8fb5ac664585"
   },
   "outputs": [
    {
     "name": "stdout",
     "output_type": "stream",
     "text": [
      "INFO:tensorflow:Assets written to: C:\\Users\\skymo\\AppData\\Local\\Temp\\tmpo4ybnyxn\\assets\n"
     ]
    },
    {
     "name": "stderr",
     "output_type": "stream",
     "text": [
      "INFO:tensorflow:Assets written to: C:\\Users\\skymo\\AppData\\Local\\Temp\\tmpo4ybnyxn\\assets\n"
     ]
    },
    {
     "name": "stdout",
     "output_type": "stream",
     "text": [
      "Saved artifact at 'C:\\Users\\skymo\\AppData\\Local\\Temp\\tmpo4ybnyxn'. The following endpoints are available:\n",
      "\n",
      "* Endpoint 'serve'\n",
      "  args_0 (POSITIONAL_ONLY): TensorSpec(shape=(None, 11, 6, 1), dtype=tf.float32, name='keras_tensor_14')\n",
      "Output Type:\n",
      "  TensorSpec(shape=(None, 1), dtype=tf.float32, name=None)\n",
      "Captures:\n",
      "  2941349007728: TensorSpec(shape=(), dtype=tf.resource, name=None)\n",
      "  2941234778480: TensorSpec(shape=(), dtype=tf.resource, name=None)\n",
      "  2941234774784: TensorSpec(shape=(), dtype=tf.resource, name=None)\n",
      "  2941146213264: TensorSpec(shape=(), dtype=tf.resource, name=None)\n",
      "  2941146212736: TensorSpec(shape=(), dtype=tf.resource, name=None)\n",
      "  2941146215552: TensorSpec(shape=(), dtype=tf.resource, name=None)\n",
      "  2941146216960: TensorSpec(shape=(), dtype=tf.resource, name=None)\n",
      "  2941146217312: TensorSpec(shape=(), dtype=tf.resource, name=None)\n"
     ]
    }
   ],
   "source": [
    "import tensorflow as tf\n",
    "\n",
    "converter = tf.lite.TFLiteConverter.from_keras_model(model)\n",
    "tflite_model = converter.convert()\n",
    "\n",
    "with open(\"D:\\Semester 6\\PEMROGRAMAN SISTEM CERDAS 2\\capstone_mp_model\\Model CNN\\Ankle_Circ_model.tflite\", \"wb\") as f:\n",
    "    f.write(tflite_model)\n"
   ]
  },
  {
   "cell_type": "markdown",
   "metadata": {
    "id": "ZZE0BRdznMVj"
   },
   "source": [
    "## Class Calf_Raises"
   ]
  },
  {
   "cell_type": "code",
   "execution_count": 23,
   "metadata": {
    "colab": {
     "base_uri": "https://localhost:8080/"
    },
    "executionInfo": {
     "elapsed": 141933,
     "status": "ok",
     "timestamp": 1748938339374,
     "user": {
      "displayName": "Agit Saputra",
      "userId": "06617746144594588797"
     },
     "user_tz": -420
    },
    "id": "--GgpLJmnWBL",
    "outputId": "5d56fb75-7891-41b0-dc66-e4a76eeb4592"
   },
   "outputs": [
    {
     "name": "stdout",
     "output_type": "stream",
     "text": [
      "Jumlah data pose yang terbaca: 4395\n",
      "Shape X: (4395, 66)\n",
      "Shape y: (4395,)\n"
     ]
    }
   ],
   "source": [
    "import os\n",
    "import cv2\n",
    "import mediapipe as mp\n",
    "import numpy as np\n",
    "\n",
    "mp_pose = mp.solutions.pose\n",
    "pose = mp_pose.Pose(static_image_mode=False)\n",
    "\n",
    "# DATA_DIR sudah langsung ke folder kelas\n",
    "DATA_DIR = \"D:\\Semester 6\\PEMROGRAMAN SISTEM CERDAS 2\\capstone_mp_model\\data\\Calf Raises\"\n",
    "\n",
    "class_folder = DATA_DIR  # langsung folder kelas tanpa gabung lagi\n",
    "\n",
    "keypoints, labels = [], []\n",
    "\n",
    "# Cek apakah ada subfolder\n",
    "subfolders = [f for f in os.listdir(class_folder) if os.path.isdir(os.path.join(class_folder, f))]\n",
    "\n",
    "if len(subfolders) > 0:\n",
    "    # Kalau ada subfolder, proses video di tiap subfolder\n",
    "    for subfolder in subfolders:\n",
    "        folder_path = os.path.join(class_folder, subfolder)\n",
    "        for file in os.listdir(folder_path):\n",
    "            if not file.endswith(\".mp4\"):\n",
    "                continue\n",
    "            video_path = os.path.join(folder_path, file)\n",
    "            cap = cv2.VideoCapture(video_path)\n",
    "            if not cap.isOpened():\n",
    "                print(f\"Gagal membuka video: {video_path}\")\n",
    "                continue\n",
    "            while True:\n",
    "                ret, frame = cap.read()\n",
    "                if not ret:\n",
    "                    break\n",
    "                frame = cv2.resize(frame, (224, 224))\n",
    "                rgb = cv2.cvtColor(frame, cv2.COLOR_BGR2RGB)\n",
    "                results = pose.process(rgb)\n",
    "                if results.pose_landmarks:\n",
    "                    lm = results.pose_landmarks.landmark\n",
    "                    keypoints.append([p.x for p in lm] + [p.y for p in lm])\n",
    "                    labels.append(0)  # hanya satu kelas, label=0\n",
    "            cap.release()\n",
    "else:\n",
    "    # Kalau tidak ada subfolder, langsung proses video di folder kelas\n",
    "    for file in os.listdir(class_folder):\n",
    "        if not file.endswith(\".mp4\"):\n",
    "            continue\n",
    "        video_path = os.path.join(class_folder, file)\n",
    "        cap = cv2.VideoCapture(video_path)\n",
    "        if not cap.isOpened():\n",
    "            print(f\"Gagal membuka video: {video_path}\")\n",
    "            continue\n",
    "        while True:\n",
    "            ret, frame = cap.read()\n",
    "            if not ret:\n",
    "                break\n",
    "            frame = cv2.resize(frame, (224, 224))\n",
    "            rgb = cv2.cvtColor(frame, cv2.COLOR_BGR2RGB)\n",
    "            results = pose.process(rgb)\n",
    "            if results.pose_landmarks:\n",
    "                lm = results.pose_landmarks.landmark\n",
    "                keypoints.append([p.x for p in lm] + [p.y for p in lm])\n",
    "                labels.append(0)\n",
    "        cap.release()\n",
    "\n",
    "X = np.array(keypoints)\n",
    "y = np.array(labels)\n",
    "\n",
    "print(f\"Jumlah data pose yang terbaca: {len(X)}\")\n",
    "print(f\"Shape X: {X.shape}\")\n",
    "print(f\"Shape y: {y.shape}\")\n"
   ]
  },
  {
   "cell_type": "code",
   "execution_count": 24,
   "metadata": {
    "colab": {
     "base_uri": "https://localhost:8080/"
    },
    "executionInfo": {
     "elapsed": 9,
     "status": "ok",
     "timestamp": 1748938366721,
     "user": {
      "displayName": "Agit Saputra",
      "userId": "06617746144594588797"
     },
     "user_tz": -420
    },
    "id": "jQyyIuxk2Zjh",
    "outputId": "c64a048b-c307-4b21-ac9b-68537dfc36ba"
   },
   "outputs": [
    {
     "name": "stdout",
     "output_type": "stream",
     "text": [
      "Jumlah data pose: 4395\n",
      "Shape X: (4395, 66)\n",
      "Data training: (3516, 11, 6, 1), Data testing: (879, 11, 6, 1)\n"
     ]
    }
   ],
   "source": [
    "from sklearn.model_selection import train_test_split\n",
    "import numpy as np\n",
    "\n",
    "# Misal kamu sudah punya X dan y, dan hanya dari satu kelas\n",
    "print(f\"Jumlah data pose: {len(X)}\")\n",
    "print(f\"Shape X: {X.shape}\")\n",
    "\n",
    "# Validasi jumlah fitur\n",
    "if X.shape[1] != 66:\n",
    "    raise ValueError(f\"Jumlah fitur ({X.shape[1]}) tidak sesuai 66 (33 landmark * 2)\")\n",
    "\n",
    "# Reshape untuk input ke CNN\n",
    "X = X.reshape(-1, 11, 6, 1)\n",
    "\n",
    "# Karena hanya satu kelas, jangan pakai stratify\n",
    "X_train, X_test, y_train, y_test = train_test_split(\n",
    "    X, y, test_size=0.2, random_state=42\n",
    ")\n",
    "\n",
    "print(f\"Data training: {X_train.shape}, Data testing: {X_test.shape}\")\n"
   ]
  },
  {
   "cell_type": "code",
   "execution_count": 25,
   "metadata": {
    "colab": {
     "base_uri": "https://localhost:8080/",
     "height": 807
    },
    "executionInfo": {
     "elapsed": 12426,
     "status": "ok",
     "timestamp": 1748938397671,
     "user": {
      "displayName": "Agit Saputra",
      "userId": "06617746144594588797"
     },
     "user_tz": -420
    },
    "id": "FHyi_XxJ2eIf",
    "outputId": "e196bb2e-e08b-4686-b7df-7459a8be2a49"
   },
   "outputs": [
    {
     "name": "stderr",
     "output_type": "stream",
     "text": [
      "d:\\Semester 6\\program\\Python310\\lib\\site-packages\\keras\\src\\layers\\convolutional\\base_conv.py:113: UserWarning: Do not pass an `input_shape`/`input_dim` argument to a layer. When using Sequential models, prefer using an `Input(shape)` object as the first layer in the model instead.\n",
      "  super().__init__(activity_regularizer=activity_regularizer, **kwargs)\n"
     ]
    },
    {
     "data": {
      "text/html": [
       "<pre style=\"white-space:pre;overflow-x:auto;line-height:normal;font-family:Menlo,'DejaVu Sans Mono',consolas,'Courier New',monospace\"><span style=\"font-weight: bold\">Model: \"sequential_3\"</span>\n",
       "</pre>\n"
      ],
      "text/plain": [
       "\u001b[1mModel: \"sequential_3\"\u001b[0m\n"
      ]
     },
     "metadata": {},
     "output_type": "display_data"
    },
    {
     "data": {
      "text/html": [
       "<pre style=\"white-space:pre;overflow-x:auto;line-height:normal;font-family:Menlo,'DejaVu Sans Mono',consolas,'Courier New',monospace\">┏━━━━━━━━━━━━━━━━━━━━━━━━━━━━━━━━━┳━━━━━━━━━━━━━━━━━━━━━━━━┳━━━━━━━━━━━━━━━┓\n",
       "┃<span style=\"font-weight: bold\"> Layer (type)                    </span>┃<span style=\"font-weight: bold\"> Output Shape           </span>┃<span style=\"font-weight: bold\">       Param # </span>┃\n",
       "┡━━━━━━━━━━━━━━━━━━━━━━━━━━━━━━━━━╇━━━━━━━━━━━━━━━━━━━━━━━━╇━━━━━━━━━━━━━━━┩\n",
       "│ conv2d_6 (<span style=\"color: #0087ff; text-decoration-color: #0087ff\">Conv2D</span>)               │ (<span style=\"color: #00d7ff; text-decoration-color: #00d7ff\">None</span>, <span style=\"color: #00af00; text-decoration-color: #00af00\">11</span>, <span style=\"color: #00af00; text-decoration-color: #00af00\">6</span>, <span style=\"color: #00af00; text-decoration-color: #00af00\">32</span>)      │           <span style=\"color: #00af00; text-decoration-color: #00af00\">320</span> │\n",
       "├─────────────────────────────────┼────────────────────────┼───────────────┤\n",
       "│ max_pooling2d_3 (<span style=\"color: #0087ff; text-decoration-color: #0087ff\">MaxPooling2D</span>)  │ (<span style=\"color: #00d7ff; text-decoration-color: #00d7ff\">None</span>, <span style=\"color: #00af00; text-decoration-color: #00af00\">5</span>, <span style=\"color: #00af00; text-decoration-color: #00af00\">3</span>, <span style=\"color: #00af00; text-decoration-color: #00af00\">32</span>)       │             <span style=\"color: #00af00; text-decoration-color: #00af00\">0</span> │\n",
       "├─────────────────────────────────┼────────────────────────┼───────────────┤\n",
       "│ conv2d_7 (<span style=\"color: #0087ff; text-decoration-color: #0087ff\">Conv2D</span>)               │ (<span style=\"color: #00d7ff; text-decoration-color: #00d7ff\">None</span>, <span style=\"color: #00af00; text-decoration-color: #00af00\">5</span>, <span style=\"color: #00af00; text-decoration-color: #00af00\">3</span>, <span style=\"color: #00af00; text-decoration-color: #00af00\">64</span>)       │        <span style=\"color: #00af00; text-decoration-color: #00af00\">18,496</span> │\n",
       "├─────────────────────────────────┼────────────────────────┼───────────────┤\n",
       "│ flatten_3 (<span style=\"color: #0087ff; text-decoration-color: #0087ff\">Flatten</span>)             │ (<span style=\"color: #00d7ff; text-decoration-color: #00d7ff\">None</span>, <span style=\"color: #00af00; text-decoration-color: #00af00\">960</span>)            │             <span style=\"color: #00af00; text-decoration-color: #00af00\">0</span> │\n",
       "├─────────────────────────────────┼────────────────────────┼───────────────┤\n",
       "│ dense_6 (<span style=\"color: #0087ff; text-decoration-color: #0087ff\">Dense</span>)                 │ (<span style=\"color: #00d7ff; text-decoration-color: #00d7ff\">None</span>, <span style=\"color: #00af00; text-decoration-color: #00af00\">128</span>)            │       <span style=\"color: #00af00; text-decoration-color: #00af00\">123,008</span> │\n",
       "├─────────────────────────────────┼────────────────────────┼───────────────┤\n",
       "│ dropout_1 (<span style=\"color: #0087ff; text-decoration-color: #0087ff\">Dropout</span>)             │ (<span style=\"color: #00d7ff; text-decoration-color: #00d7ff\">None</span>, <span style=\"color: #00af00; text-decoration-color: #00af00\">128</span>)            │             <span style=\"color: #00af00; text-decoration-color: #00af00\">0</span> │\n",
       "├─────────────────────────────────┼────────────────────────┼───────────────┤\n",
       "│ dense_7 (<span style=\"color: #0087ff; text-decoration-color: #0087ff\">Dense</span>)                 │ (<span style=\"color: #00d7ff; text-decoration-color: #00d7ff\">None</span>, <span style=\"color: #00af00; text-decoration-color: #00af00\">1</span>)              │           <span style=\"color: #00af00; text-decoration-color: #00af00\">129</span> │\n",
       "└─────────────────────────────────┴────────────────────────┴───────────────┘\n",
       "</pre>\n"
      ],
      "text/plain": [
       "┏━━━━━━━━━━━━━━━━━━━━━━━━━━━━━━━━━┳━━━━━━━━━━━━━━━━━━━━━━━━┳━━━━━━━━━━━━━━━┓\n",
       "┃\u001b[1m \u001b[0m\u001b[1mLayer (type)                   \u001b[0m\u001b[1m \u001b[0m┃\u001b[1m \u001b[0m\u001b[1mOutput Shape          \u001b[0m\u001b[1m \u001b[0m┃\u001b[1m \u001b[0m\u001b[1m      Param #\u001b[0m\u001b[1m \u001b[0m┃\n",
       "┡━━━━━━━━━━━━━━━━━━━━━━━━━━━━━━━━━╇━━━━━━━━━━━━━━━━━━━━━━━━╇━━━━━━━━━━━━━━━┩\n",
       "│ conv2d_6 (\u001b[38;5;33mConv2D\u001b[0m)               │ (\u001b[38;5;45mNone\u001b[0m, \u001b[38;5;34m11\u001b[0m, \u001b[38;5;34m6\u001b[0m, \u001b[38;5;34m32\u001b[0m)      │           \u001b[38;5;34m320\u001b[0m │\n",
       "├─────────────────────────────────┼────────────────────────┼───────────────┤\n",
       "│ max_pooling2d_3 (\u001b[38;5;33mMaxPooling2D\u001b[0m)  │ (\u001b[38;5;45mNone\u001b[0m, \u001b[38;5;34m5\u001b[0m, \u001b[38;5;34m3\u001b[0m, \u001b[38;5;34m32\u001b[0m)       │             \u001b[38;5;34m0\u001b[0m │\n",
       "├─────────────────────────────────┼────────────────────────┼───────────────┤\n",
       "│ conv2d_7 (\u001b[38;5;33mConv2D\u001b[0m)               │ (\u001b[38;5;45mNone\u001b[0m, \u001b[38;5;34m5\u001b[0m, \u001b[38;5;34m3\u001b[0m, \u001b[38;5;34m64\u001b[0m)       │        \u001b[38;5;34m18,496\u001b[0m │\n",
       "├─────────────────────────────────┼────────────────────────┼───────────────┤\n",
       "│ flatten_3 (\u001b[38;5;33mFlatten\u001b[0m)             │ (\u001b[38;5;45mNone\u001b[0m, \u001b[38;5;34m960\u001b[0m)            │             \u001b[38;5;34m0\u001b[0m │\n",
       "├─────────────────────────────────┼────────────────────────┼───────────────┤\n",
       "│ dense_6 (\u001b[38;5;33mDense\u001b[0m)                 │ (\u001b[38;5;45mNone\u001b[0m, \u001b[38;5;34m128\u001b[0m)            │       \u001b[38;5;34m123,008\u001b[0m │\n",
       "├─────────────────────────────────┼────────────────────────┼───────────────┤\n",
       "│ dropout_1 (\u001b[38;5;33mDropout\u001b[0m)             │ (\u001b[38;5;45mNone\u001b[0m, \u001b[38;5;34m128\u001b[0m)            │             \u001b[38;5;34m0\u001b[0m │\n",
       "├─────────────────────────────────┼────────────────────────┼───────────────┤\n",
       "│ dense_7 (\u001b[38;5;33mDense\u001b[0m)                 │ (\u001b[38;5;45mNone\u001b[0m, \u001b[38;5;34m1\u001b[0m)              │           \u001b[38;5;34m129\u001b[0m │\n",
       "└─────────────────────────────────┴────────────────────────┴───────────────┘\n"
      ]
     },
     "metadata": {},
     "output_type": "display_data"
    },
    {
     "data": {
      "text/html": [
       "<pre style=\"white-space:pre;overflow-x:auto;line-height:normal;font-family:Menlo,'DejaVu Sans Mono',consolas,'Courier New',monospace\"><span style=\"font-weight: bold\"> Total params: </span><span style=\"color: #00af00; text-decoration-color: #00af00\">141,953</span> (554.50 KB)\n",
       "</pre>\n"
      ],
      "text/plain": [
       "\u001b[1m Total params: \u001b[0m\u001b[38;5;34m141,953\u001b[0m (554.50 KB)\n"
      ]
     },
     "metadata": {},
     "output_type": "display_data"
    },
    {
     "data": {
      "text/html": [
       "<pre style=\"white-space:pre;overflow-x:auto;line-height:normal;font-family:Menlo,'DejaVu Sans Mono',consolas,'Courier New',monospace\"><span style=\"font-weight: bold\"> Trainable params: </span><span style=\"color: #00af00; text-decoration-color: #00af00\">141,953</span> (554.50 KB)\n",
       "</pre>\n"
      ],
      "text/plain": [
       "\u001b[1m Trainable params: \u001b[0m\u001b[38;5;34m141,953\u001b[0m (554.50 KB)\n"
      ]
     },
     "metadata": {},
     "output_type": "display_data"
    },
    {
     "data": {
      "text/html": [
       "<pre style=\"white-space:pre;overflow-x:auto;line-height:normal;font-family:Menlo,'DejaVu Sans Mono',consolas,'Courier New',monospace\"><span style=\"font-weight: bold\"> Non-trainable params: </span><span style=\"color: #00af00; text-decoration-color: #00af00\">0</span> (0.00 B)\n",
       "</pre>\n"
      ],
      "text/plain": [
       "\u001b[1m Non-trainable params: \u001b[0m\u001b[38;5;34m0\u001b[0m (0.00 B)\n"
      ]
     },
     "metadata": {},
     "output_type": "display_data"
    },
    {
     "name": "stdout",
     "output_type": "stream",
     "text": [
      "Epoch 1/10\n",
      "\u001b[1m110/110\u001b[0m \u001b[32m━━━━━━━━━━━━━━━━━━━━\u001b[0m\u001b[37m\u001b[0m \u001b[1m5s\u001b[0m 16ms/step - accuracy: 0.9613 - loss: 0.1314 - val_accuracy: 1.0000 - val_loss: 1.4796e-07\n",
      "Epoch 2/10\n",
      "\u001b[1m110/110\u001b[0m \u001b[32m━━━━━━━━━━━━━━━━━━━━\u001b[0m\u001b[37m\u001b[0m \u001b[1m1s\u001b[0m 13ms/step - accuracy: 1.0000 - loss: 8.5115e-07 - val_accuracy: 1.0000 - val_loss: 1.2649e-07\n",
      "Epoch 3/10\n",
      "\u001b[1m110/110\u001b[0m \u001b[32m━━━━━━━━━━━━━━━━━━━━\u001b[0m\u001b[37m\u001b[0m \u001b[1m2s\u001b[0m 13ms/step - accuracy: 1.0000 - loss: 1.2039e-06 - val_accuracy: 1.0000 - val_loss: 1.0078e-07\n",
      "Epoch 4/10\n",
      "\u001b[1m110/110\u001b[0m \u001b[32m━━━━━━━━━━━━━━━━━━━━\u001b[0m\u001b[37m\u001b[0m \u001b[1m2s\u001b[0m 13ms/step - accuracy: 1.0000 - loss: 6.8639e-07 - val_accuracy: 1.0000 - val_loss: 8.1958e-08\n",
      "Epoch 5/10\n",
      "\u001b[1m110/110\u001b[0m \u001b[32m━━━━━━━━━━━━━━━━━━━━\u001b[0m\u001b[37m\u001b[0m \u001b[1m2s\u001b[0m 14ms/step - accuracy: 1.0000 - loss: 7.9497e-07 - val_accuracy: 1.0000 - val_loss: 6.2388e-08\n",
      "Epoch 6/10\n",
      "\u001b[1m110/110\u001b[0m \u001b[32m━━━━━━━━━━━━━━━━━━━━\u001b[0m\u001b[37m\u001b[0m \u001b[1m2s\u001b[0m 13ms/step - accuracy: 1.0000 - loss: 3.7432e-07 - val_accuracy: 1.0000 - val_loss: 4.8865e-08\n",
      "Epoch 7/10\n",
      "\u001b[1m110/110\u001b[0m \u001b[32m━━━━━━━━━━━━━━━━━━━━\u001b[0m\u001b[37m\u001b[0m \u001b[1m2s\u001b[0m 14ms/step - accuracy: 1.0000 - loss: 9.4643e-07 - val_accuracy: 1.0000 - val_loss: 2.9961e-08\n",
      "Epoch 8/10\n",
      "\u001b[1m110/110\u001b[0m \u001b[32m━━━━━━━━━━━━━━━━━━━━\u001b[0m\u001b[37m\u001b[0m \u001b[1m1s\u001b[0m 12ms/step - accuracy: 1.0000 - loss: 2.9599e-07 - val_accuracy: 1.0000 - val_loss: 2.4192e-08\n",
      "Epoch 9/10\n",
      "\u001b[1m110/110\u001b[0m \u001b[32m━━━━━━━━━━━━━━━━━━━━\u001b[0m\u001b[37m\u001b[0m \u001b[1m2s\u001b[0m 14ms/step - accuracy: 1.0000 - loss: 8.3076e-07 - val_accuracy: 1.0000 - val_loss: 1.6935e-08\n",
      "Epoch 10/10\n",
      "\u001b[1m110/110\u001b[0m \u001b[32m━━━━━━━━━━━━━━━━━━━━\u001b[0m\u001b[37m\u001b[0m \u001b[1m2s\u001b[0m 13ms/step - accuracy: 1.0000 - loss: 1.9383e-07 - val_accuracy: 1.0000 - val_loss: 1.4091e-08\n",
      "\u001b[1m28/28\u001b[0m \u001b[32m━━━━━━━━━━━━━━━━━━━━\u001b[0m\u001b[37m\u001b[0m \u001b[1m0s\u001b[0m 8ms/step - accuracy: 1.0000 - loss: 1.3489e-08\n",
      "\n",
      "Test Accuracy: 100.00%\n"
     ]
    }
   ],
   "source": [
    "from tensorflow.keras.models import Sequential\n",
    "from tensorflow.keras.layers import Conv2D, MaxPooling2D, Flatten, Dense, Dropout\n",
    "\n",
    "# Misalnya semua data adalah satu kelas, maka label harus 1\n",
    "y_train = np.ones(len(y_train))\n",
    "y_test = np.ones(len(y_test))\n",
    "\n",
    "model = Sequential([\n",
    "    Conv2D(32, (3, 3), activation='relu', padding='same', input_shape=(11, 6, 1)),\n",
    "    MaxPooling2D((2, 2)),\n",
    "    Conv2D(64, (3, 3), activation='relu', padding='same'),\n",
    "    Flatten(),\n",
    "    Dense(128, activation='relu'),\n",
    "    Dropout(0.5),\n",
    "    Dense(1, activation='sigmoid')  # Output satu neuron, sigmoid\n",
    "])\n",
    "\n",
    "model.compile(optimizer='adam', loss='binary_crossentropy', metrics=['accuracy'])\n",
    "model.summary()\n",
    "\n",
    "history = model.fit(\n",
    "    X_train, y_train,\n",
    "    validation_data=(X_test, y_test),\n",
    "    epochs=10,\n",
    "    batch_size=32\n",
    ")\n",
    "\n",
    "loss, accuracy = model.evaluate(X_test, y_test)\n",
    "print(f\"\\nTest Accuracy: {accuracy * 100:.2f}%\")"
   ]
  },
  {
   "cell_type": "code",
   "execution_count": 26,
   "metadata": {
    "colab": {
     "base_uri": "https://localhost:8080/"
    },
    "executionInfo": {
     "elapsed": 123,
     "status": "ok",
     "timestamp": 1748938440871,
     "user": {
      "displayName": "Agit Saputra",
      "userId": "06617746144594588797"
     },
     "user_tz": -420
    },
    "id": "t-qnsxNi2nCx",
    "outputId": "00e79e04-ebdc-482d-86c6-c98d92f11c51"
   },
   "outputs": [
    {
     "name": "stderr",
     "output_type": "stream",
     "text": [
      "WARNING:absl:You are saving your model as an HDF5 file via `model.save()` or `keras.saving.save_model(model)`. This file format is considered legacy. We recommend using instead the native Keras format, e.g. `model.save('my_model.keras')` or `keras.saving.save_model(model, 'my_model.keras')`. \n"
     ]
    }
   ],
   "source": [
    "# Simpan model\n",
    "model.save(\"D:\\Semester 6\\PEMROGRAMAN SISTEM CERDAS 2\\capstone_mp_model\\Model CNN\\Calf_Raises_model.h5\")"
   ]
  },
  {
   "cell_type": "code",
   "execution_count": 27,
   "metadata": {
    "colab": {
     "base_uri": "https://localhost:8080/"
    },
    "executionInfo": {
     "elapsed": 1442,
     "status": "ok",
     "timestamp": 1748938493288,
     "user": {
      "displayName": "Agit Saputra",
      "userId": "06617746144594588797"
     },
     "user_tz": -420
    },
    "id": "J7DOxXhe20QG",
    "outputId": "3d73713d-2397-48eb-bbd6-19e7a97cbf55"
   },
   "outputs": [
    {
     "name": "stdout",
     "output_type": "stream",
     "text": [
      "INFO:tensorflow:Assets written to: C:\\Users\\skymo\\AppData\\Local\\Temp\\tmpnc5uu0y6\\assets\n"
     ]
    },
    {
     "name": "stderr",
     "output_type": "stream",
     "text": [
      "INFO:tensorflow:Assets written to: C:\\Users\\skymo\\AppData\\Local\\Temp\\tmpnc5uu0y6\\assets\n"
     ]
    },
    {
     "name": "stdout",
     "output_type": "stream",
     "text": [
      "Saved artifact at 'C:\\Users\\skymo\\AppData\\Local\\Temp\\tmpnc5uu0y6'. The following endpoints are available:\n",
      "\n",
      "* Endpoint 'serve'\n",
      "  args_0 (POSITIONAL_ONLY): TensorSpec(shape=(None, 11, 6, 1), dtype=tf.float32, name='keras_tensor_22')\n",
      "Output Type:\n",
      "  TensorSpec(shape=(None, 1), dtype=tf.float32, name=None)\n",
      "Captures:\n",
      "  2941084631632: TensorSpec(shape=(), dtype=tf.resource, name=None)\n",
      "  2941156897568: TensorSpec(shape=(), dtype=tf.resource, name=None)\n",
      "  2941156897920: TensorSpec(shape=(), dtype=tf.resource, name=None)\n",
      "  2941156894224: TensorSpec(shape=(), dtype=tf.resource, name=None)\n",
      "  2941156895104: TensorSpec(shape=(), dtype=tf.resource, name=None)\n",
      "  2941156898272: TensorSpec(shape=(), dtype=tf.resource, name=None)\n",
      "  2941156898976: TensorSpec(shape=(), dtype=tf.resource, name=None)\n",
      "  2941156896336: TensorSpec(shape=(), dtype=tf.resource, name=None)\n"
     ]
    }
   ],
   "source": [
    "import tensorflow as tf\n",
    "\n",
    "converter = tf.lite.TFLiteConverter.from_keras_model(model)\n",
    "tflite_model = converter.convert()\n",
    "\n",
    "with open(\"D:\\Semester 6\\PEMROGRAMAN SISTEM CERDAS 2\\capstone_mp_model\\Model CNN\\Calf_Raises_model.tflite\", \"wb\") as f:\n",
    "    f.write(tflite_model)\n"
   ]
  },
  {
   "cell_type": "markdown",
   "metadata": {
    "id": "-MUq93rKnXbR"
   },
   "source": [
    "## Class Breathing Exercise"
   ]
  },
  {
   "cell_type": "code",
   "execution_count": 28,
   "metadata": {
    "colab": {
     "base_uri": "https://localhost:8080/"
    },
    "executionInfo": {
     "elapsed": 124751,
     "status": "ok",
     "timestamp": 1748938719540,
     "user": {
      "displayName": "Agit Saputra",
      "userId": "06617746144594588797"
     },
     "user_tz": -420
    },
    "id": "Hm9zEAaZncfc",
    "outputId": "b8555781-6142-4f65-8ff4-373be5a82ef9"
   },
   "outputs": [
    {
     "name": "stdout",
     "output_type": "stream",
     "text": [
      "Jumlah data pose yang terbaca: 3668\n",
      "Shape X: (3668, 66)\n",
      "Shape y: (3668,)\n"
     ]
    }
   ],
   "source": [
    "import os\n",
    "import cv2\n",
    "import mediapipe as mp\n",
    "import numpy as np\n",
    "\n",
    "mp_pose = mp.solutions.pose\n",
    "pose = mp_pose.Pose(static_image_mode=False)\n",
    "\n",
    "# DATA_DIR sudah langsung ke folder kelas\n",
    "DATA_DIR = \"D:\\Semester 6\\PEMROGRAMAN SISTEM CERDAS 2\\capstone_mp_model\\data\\Breathing Exercise\"\n",
    "\n",
    "class_folder = DATA_DIR  # langsung folder kelas tanpa gabung lagi\n",
    "\n",
    "keypoints, labels = [], []\n",
    "\n",
    "# Cek apakah ada subfolder\n",
    "subfolders = [f for f in os.listdir(class_folder) if os.path.isdir(os.path.join(class_folder, f))]\n",
    "\n",
    "if len(subfolders) > 0:\n",
    "    # Kalau ada subfolder, proses video di tiap subfolder\n",
    "    for subfolder in subfolders:\n",
    "        folder_path = os.path.join(class_folder, subfolder)\n",
    "        for file in os.listdir(folder_path):\n",
    "            if not file.endswith(\".mp4\"):\n",
    "                continue\n",
    "            video_path = os.path.join(folder_path, file)\n",
    "            cap = cv2.VideoCapture(video_path)\n",
    "            if not cap.isOpened():\n",
    "                print(f\"Gagal membuka video: {video_path}\")\n",
    "                continue\n",
    "            while True:\n",
    "                ret, frame = cap.read()\n",
    "                if not ret:\n",
    "                    break\n",
    "                frame = cv2.resize(frame, (224, 224))\n",
    "                rgb = cv2.cvtColor(frame, cv2.COLOR_BGR2RGB)\n",
    "                results = pose.process(rgb)\n",
    "                if results.pose_landmarks:\n",
    "                    lm = results.pose_landmarks.landmark\n",
    "                    keypoints.append([p.x for p in lm] + [p.y for p in lm])\n",
    "                    labels.append(0)  # hanya satu kelas, label=0\n",
    "            cap.release()\n",
    "else:\n",
    "    # Kalau tidak ada subfolder, langsung proses video di folder kelas\n",
    "    for file in os.listdir(class_folder):\n",
    "        if not file.endswith(\".mp4\"):\n",
    "            continue\n",
    "        video_path = os.path.join(class_folder, file)\n",
    "        cap = cv2.VideoCapture(video_path)\n",
    "        if not cap.isOpened():\n",
    "            print(f\"Gagal membuka video: {video_path}\")\n",
    "            continue\n",
    "        while True:\n",
    "            ret, frame = cap.read()\n",
    "            if not ret:\n",
    "                break\n",
    "            frame = cv2.resize(frame, (224, 224))\n",
    "            rgb = cv2.cvtColor(frame, cv2.COLOR_BGR2RGB)\n",
    "            results = pose.process(rgb)\n",
    "            if results.pose_landmarks:\n",
    "                lm = results.pose_landmarks.landmark\n",
    "                keypoints.append([p.x for p in lm] + [p.y for p in lm])\n",
    "                labels.append(0)\n",
    "        cap.release()\n",
    "\n",
    "X = np.array(keypoints)\n",
    "y = np.array(labels)\n",
    "\n",
    "print(f\"Jumlah data pose yang terbaca: {len(X)}\")\n",
    "print(f\"Shape X: {X.shape}\")\n",
    "print(f\"Shape y: {y.shape}\")\n"
   ]
  },
  {
   "cell_type": "code",
   "execution_count": 29,
   "metadata": {
    "colab": {
     "base_uri": "https://localhost:8080/"
    },
    "executionInfo": {
     "elapsed": 80,
     "status": "ok",
     "timestamp": 1748938735870,
     "user": {
      "displayName": "Agit Saputra",
      "userId": "06617746144594588797"
     },
     "user_tz": -420
    },
    "id": "2rwhIpai3zlq",
    "outputId": "41658f4c-d37c-4a61-a508-2a53ddcd31dc"
   },
   "outputs": [
    {
     "name": "stdout",
     "output_type": "stream",
     "text": [
      "Jumlah data pose: 3668\n",
      "Shape X: (3668, 66)\n",
      "Data training: (2934, 11, 6, 1), Data testing: (734, 11, 6, 1)\n"
     ]
    }
   ],
   "source": [
    "from sklearn.model_selection import train_test_split\n",
    "import numpy as np\n",
    "\n",
    "# Misal kamu sudah punya X dan y, dan hanya dari satu kelas\n",
    "print(f\"Jumlah data pose: {len(X)}\")\n",
    "print(f\"Shape X: {X.shape}\")\n",
    "\n",
    "# Validasi jumlah fitur\n",
    "if X.shape[1] != 66:\n",
    "    raise ValueError(f\"Jumlah fitur ({X.shape[1]}) tidak sesuai 66 (33 landmark * 2)\")\n",
    "\n",
    "# Reshape untuk input ke CNN\n",
    "X = X.reshape(-1, 11, 6, 1)\n",
    "\n",
    "# Karena hanya satu kelas, jangan pakai stratify\n",
    "X_train, X_test, y_train, y_test = train_test_split(\n",
    "    X, y, test_size=0.2, random_state=42\n",
    ")\n",
    "\n",
    "print(f\"Data training: {X_train.shape}, Data testing: {X_test.shape}\")\n"
   ]
  },
  {
   "cell_type": "code",
   "execution_count": 30,
   "metadata": {
    "colab": {
     "base_uri": "https://localhost:8080/",
     "height": 807
    },
    "executionInfo": {
     "elapsed": 11381,
     "status": "ok",
     "timestamp": 1748938773261,
     "user": {
      "displayName": "Agit Saputra",
      "userId": "06617746144594588797"
     },
     "user_tz": -420
    },
    "id": "yxIhW5Tw35-T",
    "outputId": "8f1788f0-6b17-44d4-d914-983c4420f7c3"
   },
   "outputs": [
    {
     "name": "stderr",
     "output_type": "stream",
     "text": [
      "d:\\Semester 6\\program\\Python310\\lib\\site-packages\\keras\\src\\layers\\convolutional\\base_conv.py:113: UserWarning: Do not pass an `input_shape`/`input_dim` argument to a layer. When using Sequential models, prefer using an `Input(shape)` object as the first layer in the model instead.\n",
      "  super().__init__(activity_regularizer=activity_regularizer, **kwargs)\n"
     ]
    },
    {
     "data": {
      "text/html": [
       "<pre style=\"white-space:pre;overflow-x:auto;line-height:normal;font-family:Menlo,'DejaVu Sans Mono',consolas,'Courier New',monospace\"><span style=\"font-weight: bold\">Model: \"sequential_4\"</span>\n",
       "</pre>\n"
      ],
      "text/plain": [
       "\u001b[1mModel: \"sequential_4\"\u001b[0m\n"
      ]
     },
     "metadata": {},
     "output_type": "display_data"
    },
    {
     "data": {
      "text/html": [
       "<pre style=\"white-space:pre;overflow-x:auto;line-height:normal;font-family:Menlo,'DejaVu Sans Mono',consolas,'Courier New',monospace\">┏━━━━━━━━━━━━━━━━━━━━━━━━━━━━━━━━━┳━━━━━━━━━━━━━━━━━━━━━━━━┳━━━━━━━━━━━━━━━┓\n",
       "┃<span style=\"font-weight: bold\"> Layer (type)                    </span>┃<span style=\"font-weight: bold\"> Output Shape           </span>┃<span style=\"font-weight: bold\">       Param # </span>┃\n",
       "┡━━━━━━━━━━━━━━━━━━━━━━━━━━━━━━━━━╇━━━━━━━━━━━━━━━━━━━━━━━━╇━━━━━━━━━━━━━━━┩\n",
       "│ conv2d_8 (<span style=\"color: #0087ff; text-decoration-color: #0087ff\">Conv2D</span>)               │ (<span style=\"color: #00d7ff; text-decoration-color: #00d7ff\">None</span>, <span style=\"color: #00af00; text-decoration-color: #00af00\">11</span>, <span style=\"color: #00af00; text-decoration-color: #00af00\">6</span>, <span style=\"color: #00af00; text-decoration-color: #00af00\">32</span>)      │           <span style=\"color: #00af00; text-decoration-color: #00af00\">320</span> │\n",
       "├─────────────────────────────────┼────────────────────────┼───────────────┤\n",
       "│ max_pooling2d_4 (<span style=\"color: #0087ff; text-decoration-color: #0087ff\">MaxPooling2D</span>)  │ (<span style=\"color: #00d7ff; text-decoration-color: #00d7ff\">None</span>, <span style=\"color: #00af00; text-decoration-color: #00af00\">5</span>, <span style=\"color: #00af00; text-decoration-color: #00af00\">3</span>, <span style=\"color: #00af00; text-decoration-color: #00af00\">32</span>)       │             <span style=\"color: #00af00; text-decoration-color: #00af00\">0</span> │\n",
       "├─────────────────────────────────┼────────────────────────┼───────────────┤\n",
       "│ conv2d_9 (<span style=\"color: #0087ff; text-decoration-color: #0087ff\">Conv2D</span>)               │ (<span style=\"color: #00d7ff; text-decoration-color: #00d7ff\">None</span>, <span style=\"color: #00af00; text-decoration-color: #00af00\">5</span>, <span style=\"color: #00af00; text-decoration-color: #00af00\">3</span>, <span style=\"color: #00af00; text-decoration-color: #00af00\">64</span>)       │        <span style=\"color: #00af00; text-decoration-color: #00af00\">18,496</span> │\n",
       "├─────────────────────────────────┼────────────────────────┼───────────────┤\n",
       "│ flatten_4 (<span style=\"color: #0087ff; text-decoration-color: #0087ff\">Flatten</span>)             │ (<span style=\"color: #00d7ff; text-decoration-color: #00d7ff\">None</span>, <span style=\"color: #00af00; text-decoration-color: #00af00\">960</span>)            │             <span style=\"color: #00af00; text-decoration-color: #00af00\">0</span> │\n",
       "├─────────────────────────────────┼────────────────────────┼───────────────┤\n",
       "│ dense_8 (<span style=\"color: #0087ff; text-decoration-color: #0087ff\">Dense</span>)                 │ (<span style=\"color: #00d7ff; text-decoration-color: #00d7ff\">None</span>, <span style=\"color: #00af00; text-decoration-color: #00af00\">128</span>)            │       <span style=\"color: #00af00; text-decoration-color: #00af00\">123,008</span> │\n",
       "├─────────────────────────────────┼────────────────────────┼───────────────┤\n",
       "│ dropout_2 (<span style=\"color: #0087ff; text-decoration-color: #0087ff\">Dropout</span>)             │ (<span style=\"color: #00d7ff; text-decoration-color: #00d7ff\">None</span>, <span style=\"color: #00af00; text-decoration-color: #00af00\">128</span>)            │             <span style=\"color: #00af00; text-decoration-color: #00af00\">0</span> │\n",
       "├─────────────────────────────────┼────────────────────────┼───────────────┤\n",
       "│ dense_9 (<span style=\"color: #0087ff; text-decoration-color: #0087ff\">Dense</span>)                 │ (<span style=\"color: #00d7ff; text-decoration-color: #00d7ff\">None</span>, <span style=\"color: #00af00; text-decoration-color: #00af00\">1</span>)              │           <span style=\"color: #00af00; text-decoration-color: #00af00\">129</span> │\n",
       "└─────────────────────────────────┴────────────────────────┴───────────────┘\n",
       "</pre>\n"
      ],
      "text/plain": [
       "┏━━━━━━━━━━━━━━━━━━━━━━━━━━━━━━━━━┳━━━━━━━━━━━━━━━━━━━━━━━━┳━━━━━━━━━━━━━━━┓\n",
       "┃\u001b[1m \u001b[0m\u001b[1mLayer (type)                   \u001b[0m\u001b[1m \u001b[0m┃\u001b[1m \u001b[0m\u001b[1mOutput Shape          \u001b[0m\u001b[1m \u001b[0m┃\u001b[1m \u001b[0m\u001b[1m      Param #\u001b[0m\u001b[1m \u001b[0m┃\n",
       "┡━━━━━━━━━━━━━━━━━━━━━━━━━━━━━━━━━╇━━━━━━━━━━━━━━━━━━━━━━━━╇━━━━━━━━━━━━━━━┩\n",
       "│ conv2d_8 (\u001b[38;5;33mConv2D\u001b[0m)               │ (\u001b[38;5;45mNone\u001b[0m, \u001b[38;5;34m11\u001b[0m, \u001b[38;5;34m6\u001b[0m, \u001b[38;5;34m32\u001b[0m)      │           \u001b[38;5;34m320\u001b[0m │\n",
       "├─────────────────────────────────┼────────────────────────┼───────────────┤\n",
       "│ max_pooling2d_4 (\u001b[38;5;33mMaxPooling2D\u001b[0m)  │ (\u001b[38;5;45mNone\u001b[0m, \u001b[38;5;34m5\u001b[0m, \u001b[38;5;34m3\u001b[0m, \u001b[38;5;34m32\u001b[0m)       │             \u001b[38;5;34m0\u001b[0m │\n",
       "├─────────────────────────────────┼────────────────────────┼───────────────┤\n",
       "│ conv2d_9 (\u001b[38;5;33mConv2D\u001b[0m)               │ (\u001b[38;5;45mNone\u001b[0m, \u001b[38;5;34m5\u001b[0m, \u001b[38;5;34m3\u001b[0m, \u001b[38;5;34m64\u001b[0m)       │        \u001b[38;5;34m18,496\u001b[0m │\n",
       "├─────────────────────────────────┼────────────────────────┼───────────────┤\n",
       "│ flatten_4 (\u001b[38;5;33mFlatten\u001b[0m)             │ (\u001b[38;5;45mNone\u001b[0m, \u001b[38;5;34m960\u001b[0m)            │             \u001b[38;5;34m0\u001b[0m │\n",
       "├─────────────────────────────────┼────────────────────────┼───────────────┤\n",
       "│ dense_8 (\u001b[38;5;33mDense\u001b[0m)                 │ (\u001b[38;5;45mNone\u001b[0m, \u001b[38;5;34m128\u001b[0m)            │       \u001b[38;5;34m123,008\u001b[0m │\n",
       "├─────────────────────────────────┼────────────────────────┼───────────────┤\n",
       "│ dropout_2 (\u001b[38;5;33mDropout\u001b[0m)             │ (\u001b[38;5;45mNone\u001b[0m, \u001b[38;5;34m128\u001b[0m)            │             \u001b[38;5;34m0\u001b[0m │\n",
       "├─────────────────────────────────┼────────────────────────┼───────────────┤\n",
       "│ dense_9 (\u001b[38;5;33mDense\u001b[0m)                 │ (\u001b[38;5;45mNone\u001b[0m, \u001b[38;5;34m1\u001b[0m)              │           \u001b[38;5;34m129\u001b[0m │\n",
       "└─────────────────────────────────┴────────────────────────┴───────────────┘\n"
      ]
     },
     "metadata": {},
     "output_type": "display_data"
    },
    {
     "data": {
      "text/html": [
       "<pre style=\"white-space:pre;overflow-x:auto;line-height:normal;font-family:Menlo,'DejaVu Sans Mono',consolas,'Courier New',monospace\"><span style=\"font-weight: bold\"> Total params: </span><span style=\"color: #00af00; text-decoration-color: #00af00\">141,953</span> (554.50 KB)\n",
       "</pre>\n"
      ],
      "text/plain": [
       "\u001b[1m Total params: \u001b[0m\u001b[38;5;34m141,953\u001b[0m (554.50 KB)\n"
      ]
     },
     "metadata": {},
     "output_type": "display_data"
    },
    {
     "data": {
      "text/html": [
       "<pre style=\"white-space:pre;overflow-x:auto;line-height:normal;font-family:Menlo,'DejaVu Sans Mono',consolas,'Courier New',monospace\"><span style=\"font-weight: bold\"> Trainable params: </span><span style=\"color: #00af00; text-decoration-color: #00af00\">141,953</span> (554.50 KB)\n",
       "</pre>\n"
      ],
      "text/plain": [
       "\u001b[1m Trainable params: \u001b[0m\u001b[38;5;34m141,953\u001b[0m (554.50 KB)\n"
      ]
     },
     "metadata": {},
     "output_type": "display_data"
    },
    {
     "data": {
      "text/html": [
       "<pre style=\"white-space:pre;overflow-x:auto;line-height:normal;font-family:Menlo,'DejaVu Sans Mono',consolas,'Courier New',monospace\"><span style=\"font-weight: bold\"> Non-trainable params: </span><span style=\"color: #00af00; text-decoration-color: #00af00\">0</span> (0.00 B)\n",
       "</pre>\n"
      ],
      "text/plain": [
       "\u001b[1m Non-trainable params: \u001b[0m\u001b[38;5;34m0\u001b[0m (0.00 B)\n"
      ]
     },
     "metadata": {},
     "output_type": "display_data"
    },
    {
     "name": "stdout",
     "output_type": "stream",
     "text": [
      "Epoch 1/10\n",
      "\u001b[1m92/92\u001b[0m \u001b[32m━━━━━━━━━━━━━━━━━━━━\u001b[0m\u001b[37m\u001b[0m \u001b[1m5s\u001b[0m 17ms/step - accuracy: 0.9691 - loss: 0.1104 - val_accuracy: 1.0000 - val_loss: 5.0001e-10\n",
      "Epoch 2/10\n",
      "\u001b[1m92/92\u001b[0m \u001b[32m━━━━━━━━━━━━━━━━━━━━\u001b[0m\u001b[37m\u001b[0m \u001b[1m1s\u001b[0m 13ms/step - accuracy: 1.0000 - loss: 1.4030e-07 - val_accuracy: 1.0000 - val_loss: 4.5987e-10\n",
      "Epoch 3/10\n",
      "\u001b[1m92/92\u001b[0m \u001b[32m━━━━━━━━━━━━━━━━━━━━\u001b[0m\u001b[37m\u001b[0m \u001b[1m1s\u001b[0m 13ms/step - accuracy: 1.0000 - loss: 3.5982e-08 - val_accuracy: 1.0000 - val_loss: 4.4203e-10\n",
      "Epoch 4/10\n",
      "\u001b[1m92/92\u001b[0m \u001b[32m━━━━━━━━━━━━━━━━━━━━\u001b[0m\u001b[37m\u001b[0m \u001b[1m1s\u001b[0m 12ms/step - accuracy: 1.0000 - loss: 3.7798e-08 - val_accuracy: 1.0000 - val_loss: 4.1748e-10\n",
      "Epoch 5/10\n",
      "\u001b[1m92/92\u001b[0m \u001b[32m━━━━━━━━━━━━━━━━━━━━\u001b[0m\u001b[37m\u001b[0m \u001b[1m1s\u001b[0m 12ms/step - accuracy: 1.0000 - loss: 7.2731e-08 - val_accuracy: 1.0000 - val_loss: 3.8790e-10\n",
      "Epoch 6/10\n",
      "\u001b[1m92/92\u001b[0m \u001b[32m━━━━━━━━━━━━━━━━━━━━\u001b[0m\u001b[37m\u001b[0m \u001b[1m2s\u001b[0m 18ms/step - accuracy: 1.0000 - loss: 7.4190e-08 - val_accuracy: 1.0000 - val_loss: 3.1922e-10\n",
      "Epoch 7/10\n",
      "\u001b[1m92/92\u001b[0m \u001b[32m━━━━━━━━━━━━━━━━━━━━\u001b[0m\u001b[37m\u001b[0m \u001b[1m2s\u001b[0m 23ms/step - accuracy: 1.0000 - loss: 4.1300e-08 - val_accuracy: 1.0000 - val_loss: 2.9650e-10\n",
      "Epoch 8/10\n",
      "\u001b[1m92/92\u001b[0m \u001b[32m━━━━━━━━━━━━━━━━━━━━\u001b[0m\u001b[37m\u001b[0m \u001b[1m2s\u001b[0m 15ms/step - accuracy: 1.0000 - loss: 5.2961e-08 - val_accuracy: 1.0000 - val_loss: 2.7059e-10\n",
      "Epoch 9/10\n",
      "\u001b[1m92/92\u001b[0m \u001b[32m━━━━━━━━━━━━━━━━━━━━\u001b[0m\u001b[37m\u001b[0m \u001b[1m1s\u001b[0m 10ms/step - accuracy: 1.0000 - loss: 2.8698e-08 - val_accuracy: 1.0000 - val_loss: 2.4888e-10\n",
      "Epoch 10/10\n",
      "\u001b[1m92/92\u001b[0m \u001b[32m━━━━━━━━━━━━━━━━━━━━\u001b[0m\u001b[37m\u001b[0m \u001b[1m1s\u001b[0m 14ms/step - accuracy: 1.0000 - loss: 7.3135e-08 - val_accuracy: 1.0000 - val_loss: 2.3234e-10\n",
      "\u001b[1m23/23\u001b[0m \u001b[32m━━━━━━━━━━━━━━━━━━━━\u001b[0m\u001b[37m\u001b[0m \u001b[1m0s\u001b[0m 5ms/step - accuracy: 1.0000 - loss: 2.5210e-10\n",
      "\n",
      "Test Accuracy: 100.00%\n"
     ]
    }
   ],
   "source": [
    "from tensorflow.keras.models import Sequential\n",
    "from tensorflow.keras.layers import Conv2D, MaxPooling2D, Flatten, Dense, Dropout\n",
    "\n",
    "# Misalnya semua data adalah satu kelas, maka label harus 1\n",
    "y_train = np.ones(len(y_train))\n",
    "y_test = np.ones(len(y_test))\n",
    "\n",
    "model = Sequential([\n",
    "    Conv2D(32, (3, 3), activation='relu', padding='same', input_shape=(11, 6, 1)),\n",
    "    MaxPooling2D((2, 2)),\n",
    "    Conv2D(64, (3, 3), activation='relu', padding='same'),\n",
    "    Flatten(),\n",
    "    Dense(128, activation='relu'),\n",
    "    Dropout(0.5),\n",
    "    Dense(1, activation='sigmoid')  # Output satu neuron, sigmoid\n",
    "])\n",
    "\n",
    "model.compile(optimizer='adam', loss='binary_crossentropy', metrics=['accuracy'])\n",
    "model.summary()\n",
    "\n",
    "history = model.fit(\n",
    "    X_train, y_train,\n",
    "    validation_data=(X_test, y_test),\n",
    "    epochs=10,\n",
    "    batch_size=32\n",
    ")\n",
    "\n",
    "loss, accuracy = model.evaluate(X_test, y_test)\n",
    "print(f\"\\nTest Accuracy: {accuracy * 100:.2f}%\")"
   ]
  },
  {
   "cell_type": "code",
   "execution_count": 31,
   "metadata": {
    "colab": {
     "base_uri": "https://localhost:8080/"
    },
    "executionInfo": {
     "elapsed": 29,
     "status": "ok",
     "timestamp": 1748938984033,
     "user": {
      "displayName": "Agit Saputra",
      "userId": "06617746144594588797"
     },
     "user_tz": -420
    },
    "id": "dp-d6ylG4COD",
    "outputId": "d4d020fa-acf7-4d78-f983-49a636053635"
   },
   "outputs": [
    {
     "name": "stderr",
     "output_type": "stream",
     "text": [
      "WARNING:absl:You are saving your model as an HDF5 file via `model.save()` or `keras.saving.save_model(model)`. This file format is considered legacy. We recommend using instead the native Keras format, e.g. `model.save('my_model.keras')` or `keras.saving.save_model(model, 'my_model.keras')`. \n"
     ]
    }
   ],
   "source": [
    "# Simpan model\n",
    "model.save(\"D:\\Semester 6\\PEMROGRAMAN SISTEM CERDAS 2\\capstone_mp_model\\Model CNN\\Breathing_Exerc_model.h5\")"
   ]
  },
  {
   "cell_type": "code",
   "execution_count": 32,
   "metadata": {
    "colab": {
     "base_uri": "https://localhost:8080/"
    },
    "executionInfo": {
     "elapsed": 1176,
     "status": "ok",
     "timestamp": 1748939055314,
     "user": {
      "displayName": "Agit Saputra",
      "userId": "06617746144594588797"
     },
     "user_tz": -420
    },
    "id": "9DO37aTQ46Sf",
    "outputId": "60152bb0-1c20-4489-9e87-28abf49ffa12"
   },
   "outputs": [
    {
     "name": "stdout",
     "output_type": "stream",
     "text": [
      "INFO:tensorflow:Assets written to: C:\\Users\\skymo\\AppData\\Local\\Temp\\tmpfu8fpinm\\assets\n"
     ]
    },
    {
     "name": "stderr",
     "output_type": "stream",
     "text": [
      "INFO:tensorflow:Assets written to: C:\\Users\\skymo\\AppData\\Local\\Temp\\tmpfu8fpinm\\assets\n"
     ]
    },
    {
     "name": "stdout",
     "output_type": "stream",
     "text": [
      "Saved artifact at 'C:\\Users\\skymo\\AppData\\Local\\Temp\\tmpfu8fpinm'. The following endpoints are available:\n",
      "\n",
      "* Endpoint 'serve'\n",
      "  args_0 (POSITIONAL_ONLY): TensorSpec(shape=(None, 11, 6, 1), dtype=tf.float32, name='keras_tensor_30')\n",
      "Output Type:\n",
      "  TensorSpec(shape=(None, 1), dtype=tf.float32, name=None)\n",
      "Captures:\n",
      "  2941234777424: TensorSpec(shape=(), dtype=tf.resource, name=None)\n",
      "  2941233405392: TensorSpec(shape=(), dtype=tf.resource, name=None)\n",
      "  2941233406976: TensorSpec(shape=(), dtype=tf.resource, name=None)\n",
      "  2941233401872: TensorSpec(shape=(), dtype=tf.resource, name=None)\n",
      "  2941233401696: TensorSpec(shape=(), dtype=tf.resource, name=None)\n",
      "  2941233407856: TensorSpec(shape=(), dtype=tf.resource, name=None)\n",
      "  2941233398880: TensorSpec(shape=(), dtype=tf.resource, name=None)\n",
      "  2941233398352: TensorSpec(shape=(), dtype=tf.resource, name=None)\n"
     ]
    }
   ],
   "source": [
    "import tensorflow as tf\n",
    "\n",
    "converter = tf.lite.TFLiteConverter.from_keras_model(model)\n",
    "tflite_model = converter.convert()\n",
    "\n",
    "with open(\"D:\\Semester 6\\PEMROGRAMAN SISTEM CERDAS 2\\capstone_mp_model\\Model CNN\\Breathing_Exerc_model.tflite\", \"wb\") as f:\n",
    "    f.write(tflite_model)\n"
   ]
  },
  {
   "cell_type": "markdown",
   "metadata": {
    "id": "r3ETmWNSnd5t"
   },
   "source": [
    "## Class Hip Circles\n"
   ]
  },
  {
   "cell_type": "code",
   "execution_count": 35,
   "metadata": {
    "colab": {
     "base_uri": "https://localhost:8080/"
    },
    "executionInfo": {
     "elapsed": 101993,
     "status": "ok",
     "timestamp": 1748939233749,
     "user": {
      "displayName": "Agit Saputra",
      "userId": "06617746144594588797"
     },
     "user_tz": -420
    },
    "id": "PfGgaFF3nkIZ",
    "outputId": "cf9f7933-f212-4b7e-da1c-d86e9a824f20"
   },
   "outputs": [
    {
     "name": "stdout",
     "output_type": "stream",
     "text": [
      "Jumlah data pose yang terbaca: 8276\n",
      "Shape X: (8276, 66)\n",
      "Shape y: (8276,)\n"
     ]
    }
   ],
   "source": [
    "import os\n",
    "import cv2\n",
    "import mediapipe as mp\n",
    "import numpy as np\n",
    "\n",
    "mp_pose = mp.solutions.pose\n",
    "pose = mp_pose.Pose(static_image_mode=False)\n",
    "\n",
    "# DATA_DIR sudah langsung ke folder kelas\n",
    "DATA_DIR = \"D:\\Semester 6\\PEMROGRAMAN SISTEM CERDAS 2\\capstone_mp_model\\data\\Hip Circles\"\n",
    "\n",
    "class_folder = DATA_DIR  # langsung folder kelas tanpa gabung lagi\n",
    "\n",
    "keypoints, labels = [], []\n",
    "\n",
    "# Cek apakah ada subfolder\n",
    "subfolders = [f for f in os.listdir(class_folder) if os.path.isdir(os.path.join(class_folder, f))]\n",
    "\n",
    "if len(subfolders) > 0:\n",
    "    # Kalau ada subfolder, proses video di tiap subfolder\n",
    "    for subfolder in subfolders:\n",
    "        folder_path = os.path.join(class_folder, subfolder)\n",
    "        for file in os.listdir(folder_path):\n",
    "            if not file.endswith(\".mp4\"):\n",
    "                continue\n",
    "            video_path = os.path.join(folder_path, file)\n",
    "            cap = cv2.VideoCapture(video_path)\n",
    "            if not cap.isOpened():\n",
    "                print(f\"Gagal membuka video: {video_path}\")\n",
    "                continue\n",
    "            while True:\n",
    "                ret, frame = cap.read()\n",
    "                if not ret:\n",
    "                    break\n",
    "                frame = cv2.resize(frame, (224, 224))\n",
    "                rgb = cv2.cvtColor(frame, cv2.COLOR_BGR2RGB)\n",
    "                results = pose.process(rgb)\n",
    "                if results.pose_landmarks:\n",
    "                    lm = results.pose_landmarks.landmark\n",
    "                    keypoints.append([p.x for p in lm] + [p.y for p in lm])\n",
    "                    labels.append(0)  # hanya satu kelas, label=0\n",
    "            cap.release()\n",
    "else:\n",
    "    # Kalau tidak ada subfolder, langsung proses video di folder kelas\n",
    "    for file in os.listdir(class_folder):\n",
    "        if not file.endswith(\".mp4\"):\n",
    "            continue\n",
    "        video_path = os.path.join(class_folder, file)\n",
    "        cap = cv2.VideoCapture(video_path)\n",
    "        if not cap.isOpened():\n",
    "            print(f\"Gagal membuka video: {video_path}\")\n",
    "            continue\n",
    "        while True:\n",
    "            ret, frame = cap.read()\n",
    "            if not ret:\n",
    "                break\n",
    "            frame = cv2.resize(frame, (224, 224))\n",
    "            rgb = cv2.cvtColor(frame, cv2.COLOR_BGR2RGB)\n",
    "            results = pose.process(rgb)\n",
    "            if results.pose_landmarks:\n",
    "                lm = results.pose_landmarks.landmark\n",
    "                keypoints.append([p.x for p in lm] + [p.y for p in lm])\n",
    "                labels.append(0)\n",
    "        cap.release()\n",
    "\n",
    "X = np.array(keypoints)\n",
    "y = np.array(labels)\n",
    "\n",
    "print(f\"Jumlah data pose yang terbaca: {len(X)}\")\n",
    "print(f\"Shape X: {X.shape}\")\n",
    "print(f\"Shape y: {y.shape}\")\n"
   ]
  },
  {
   "cell_type": "code",
   "execution_count": 36,
   "metadata": {
    "colab": {
     "base_uri": "https://localhost:8080/"
    },
    "executionInfo": {
     "elapsed": 25,
     "status": "ok",
     "timestamp": 1748939249437,
     "user": {
      "displayName": "Agit Saputra",
      "userId": "06617746144594588797"
     },
     "user_tz": -420
    },
    "id": "XFwKNMyC5xAa",
    "outputId": "52eabbc9-29dd-4802-ca6f-60a69ac5b8f0"
   },
   "outputs": [
    {
     "name": "stdout",
     "output_type": "stream",
     "text": [
      "Jumlah data pose: 8276\n",
      "Shape X: (8276, 66)\n",
      "Data training: (6620, 11, 6, 1), Data testing: (1656, 11, 6, 1)\n"
     ]
    }
   ],
   "source": [
    "from sklearn.model_selection import train_test_split\n",
    "import numpy as np\n",
    "\n",
    "# Misal kamu sudah punya X dan y, dan hanya dari satu kelas\n",
    "print(f\"Jumlah data pose: {len(X)}\")\n",
    "print(f\"Shape X: {X.shape}\")\n",
    "\n",
    "# Validasi jumlah fitur\n",
    "if X.shape[1] != 66:\n",
    "    raise ValueError(f\"Jumlah fitur ({X.shape[1]}) tidak sesuai 66 (33 landmark * 2)\")\n",
    "\n",
    "# Reshape untuk input ke CNN\n",
    "X = X.reshape(-1, 11, 6, 1)\n",
    "\n",
    "# Karena hanya satu kelas, jangan pakai stratify\n",
    "X_train, X_test, y_train, y_test = train_test_split(\n",
    "    X, y, test_size=0.2, random_state=42\n",
    ")\n",
    "\n",
    "print(f\"Data training: {X_train.shape}, Data testing: {X_test.shape}\")\n"
   ]
  },
  {
   "cell_type": "code",
   "execution_count": 37,
   "metadata": {
    "colab": {
     "base_uri": "https://localhost:8080/",
     "height": 807
    },
    "executionInfo": {
     "elapsed": 11366,
     "status": "ok",
     "timestamp": 1748939274298,
     "user": {
      "displayName": "Agit Saputra",
      "userId": "06617746144594588797"
     },
     "user_tz": -420
    },
    "id": "LJT4ImIs50IJ",
    "outputId": "242bc1ba-66b1-41be-9259-cc2c9ff62987"
   },
   "outputs": [
    {
     "name": "stderr",
     "output_type": "stream",
     "text": [
      "d:\\Semester 6\\program\\Python310\\lib\\site-packages\\keras\\src\\layers\\convolutional\\base_conv.py:113: UserWarning: Do not pass an `input_shape`/`input_dim` argument to a layer. When using Sequential models, prefer using an `Input(shape)` object as the first layer in the model instead.\n",
      "  super().__init__(activity_regularizer=activity_regularizer, **kwargs)\n"
     ]
    },
    {
     "data": {
      "text/html": [
       "<pre style=\"white-space:pre;overflow-x:auto;line-height:normal;font-family:Menlo,'DejaVu Sans Mono',consolas,'Courier New',monospace\"><span style=\"font-weight: bold\">Model: \"sequential_5\"</span>\n",
       "</pre>\n"
      ],
      "text/plain": [
       "\u001b[1mModel: \"sequential_5\"\u001b[0m\n"
      ]
     },
     "metadata": {},
     "output_type": "display_data"
    },
    {
     "data": {
      "text/html": [
       "<pre style=\"white-space:pre;overflow-x:auto;line-height:normal;font-family:Menlo,'DejaVu Sans Mono',consolas,'Courier New',monospace\">┏━━━━━━━━━━━━━━━━━━━━━━━━━━━━━━━━━┳━━━━━━━━━━━━━━━━━━━━━━━━┳━━━━━━━━━━━━━━━┓\n",
       "┃<span style=\"font-weight: bold\"> Layer (type)                    </span>┃<span style=\"font-weight: bold\"> Output Shape           </span>┃<span style=\"font-weight: bold\">       Param # </span>┃\n",
       "┡━━━━━━━━━━━━━━━━━━━━━━━━━━━━━━━━━╇━━━━━━━━━━━━━━━━━━━━━━━━╇━━━━━━━━━━━━━━━┩\n",
       "│ conv2d_10 (<span style=\"color: #0087ff; text-decoration-color: #0087ff\">Conv2D</span>)              │ (<span style=\"color: #00d7ff; text-decoration-color: #00d7ff\">None</span>, <span style=\"color: #00af00; text-decoration-color: #00af00\">11</span>, <span style=\"color: #00af00; text-decoration-color: #00af00\">6</span>, <span style=\"color: #00af00; text-decoration-color: #00af00\">32</span>)      │           <span style=\"color: #00af00; text-decoration-color: #00af00\">320</span> │\n",
       "├─────────────────────────────────┼────────────────────────┼───────────────┤\n",
       "│ max_pooling2d_5 (<span style=\"color: #0087ff; text-decoration-color: #0087ff\">MaxPooling2D</span>)  │ (<span style=\"color: #00d7ff; text-decoration-color: #00d7ff\">None</span>, <span style=\"color: #00af00; text-decoration-color: #00af00\">5</span>, <span style=\"color: #00af00; text-decoration-color: #00af00\">3</span>, <span style=\"color: #00af00; text-decoration-color: #00af00\">32</span>)       │             <span style=\"color: #00af00; text-decoration-color: #00af00\">0</span> │\n",
       "├─────────────────────────────────┼────────────────────────┼───────────────┤\n",
       "│ conv2d_11 (<span style=\"color: #0087ff; text-decoration-color: #0087ff\">Conv2D</span>)              │ (<span style=\"color: #00d7ff; text-decoration-color: #00d7ff\">None</span>, <span style=\"color: #00af00; text-decoration-color: #00af00\">5</span>, <span style=\"color: #00af00; text-decoration-color: #00af00\">3</span>, <span style=\"color: #00af00; text-decoration-color: #00af00\">64</span>)       │        <span style=\"color: #00af00; text-decoration-color: #00af00\">18,496</span> │\n",
       "├─────────────────────────────────┼────────────────────────┼───────────────┤\n",
       "│ flatten_5 (<span style=\"color: #0087ff; text-decoration-color: #0087ff\">Flatten</span>)             │ (<span style=\"color: #00d7ff; text-decoration-color: #00d7ff\">None</span>, <span style=\"color: #00af00; text-decoration-color: #00af00\">960</span>)            │             <span style=\"color: #00af00; text-decoration-color: #00af00\">0</span> │\n",
       "├─────────────────────────────────┼────────────────────────┼───────────────┤\n",
       "│ dense_10 (<span style=\"color: #0087ff; text-decoration-color: #0087ff\">Dense</span>)                │ (<span style=\"color: #00d7ff; text-decoration-color: #00d7ff\">None</span>, <span style=\"color: #00af00; text-decoration-color: #00af00\">128</span>)            │       <span style=\"color: #00af00; text-decoration-color: #00af00\">123,008</span> │\n",
       "├─────────────────────────────────┼────────────────────────┼───────────────┤\n",
       "│ dropout_3 (<span style=\"color: #0087ff; text-decoration-color: #0087ff\">Dropout</span>)             │ (<span style=\"color: #00d7ff; text-decoration-color: #00d7ff\">None</span>, <span style=\"color: #00af00; text-decoration-color: #00af00\">128</span>)            │             <span style=\"color: #00af00; text-decoration-color: #00af00\">0</span> │\n",
       "├─────────────────────────────────┼────────────────────────┼───────────────┤\n",
       "│ dense_11 (<span style=\"color: #0087ff; text-decoration-color: #0087ff\">Dense</span>)                │ (<span style=\"color: #00d7ff; text-decoration-color: #00d7ff\">None</span>, <span style=\"color: #00af00; text-decoration-color: #00af00\">1</span>)              │           <span style=\"color: #00af00; text-decoration-color: #00af00\">129</span> │\n",
       "└─────────────────────────────────┴────────────────────────┴───────────────┘\n",
       "</pre>\n"
      ],
      "text/plain": [
       "┏━━━━━━━━━━━━━━━━━━━━━━━━━━━━━━━━━┳━━━━━━━━━━━━━━━━━━━━━━━━┳━━━━━━━━━━━━━━━┓\n",
       "┃\u001b[1m \u001b[0m\u001b[1mLayer (type)                   \u001b[0m\u001b[1m \u001b[0m┃\u001b[1m \u001b[0m\u001b[1mOutput Shape          \u001b[0m\u001b[1m \u001b[0m┃\u001b[1m \u001b[0m\u001b[1m      Param #\u001b[0m\u001b[1m \u001b[0m┃\n",
       "┡━━━━━━━━━━━━━━━━━━━━━━━━━━━━━━━━━╇━━━━━━━━━━━━━━━━━━━━━━━━╇━━━━━━━━━━━━━━━┩\n",
       "│ conv2d_10 (\u001b[38;5;33mConv2D\u001b[0m)              │ (\u001b[38;5;45mNone\u001b[0m, \u001b[38;5;34m11\u001b[0m, \u001b[38;5;34m6\u001b[0m, \u001b[38;5;34m32\u001b[0m)      │           \u001b[38;5;34m320\u001b[0m │\n",
       "├─────────────────────────────────┼────────────────────────┼───────────────┤\n",
       "│ max_pooling2d_5 (\u001b[38;5;33mMaxPooling2D\u001b[0m)  │ (\u001b[38;5;45mNone\u001b[0m, \u001b[38;5;34m5\u001b[0m, \u001b[38;5;34m3\u001b[0m, \u001b[38;5;34m32\u001b[0m)       │             \u001b[38;5;34m0\u001b[0m │\n",
       "├─────────────────────────────────┼────────────────────────┼───────────────┤\n",
       "│ conv2d_11 (\u001b[38;5;33mConv2D\u001b[0m)              │ (\u001b[38;5;45mNone\u001b[0m, \u001b[38;5;34m5\u001b[0m, \u001b[38;5;34m3\u001b[0m, \u001b[38;5;34m64\u001b[0m)       │        \u001b[38;5;34m18,496\u001b[0m │\n",
       "├─────────────────────────────────┼────────────────────────┼───────────────┤\n",
       "│ flatten_5 (\u001b[38;5;33mFlatten\u001b[0m)             │ (\u001b[38;5;45mNone\u001b[0m, \u001b[38;5;34m960\u001b[0m)            │             \u001b[38;5;34m0\u001b[0m │\n",
       "├─────────────────────────────────┼────────────────────────┼───────────────┤\n",
       "│ dense_10 (\u001b[38;5;33mDense\u001b[0m)                │ (\u001b[38;5;45mNone\u001b[0m, \u001b[38;5;34m128\u001b[0m)            │       \u001b[38;5;34m123,008\u001b[0m │\n",
       "├─────────────────────────────────┼────────────────────────┼───────────────┤\n",
       "│ dropout_3 (\u001b[38;5;33mDropout\u001b[0m)             │ (\u001b[38;5;45mNone\u001b[0m, \u001b[38;5;34m128\u001b[0m)            │             \u001b[38;5;34m0\u001b[0m │\n",
       "├─────────────────────────────────┼────────────────────────┼───────────────┤\n",
       "│ dense_11 (\u001b[38;5;33mDense\u001b[0m)                │ (\u001b[38;5;45mNone\u001b[0m, \u001b[38;5;34m1\u001b[0m)              │           \u001b[38;5;34m129\u001b[0m │\n",
       "└─────────────────────────────────┴────────────────────────┴───────────────┘\n"
      ]
     },
     "metadata": {},
     "output_type": "display_data"
    },
    {
     "data": {
      "text/html": [
       "<pre style=\"white-space:pre;overflow-x:auto;line-height:normal;font-family:Menlo,'DejaVu Sans Mono',consolas,'Courier New',monospace\"><span style=\"font-weight: bold\"> Total params: </span><span style=\"color: #00af00; text-decoration-color: #00af00\">141,953</span> (554.50 KB)\n",
       "</pre>\n"
      ],
      "text/plain": [
       "\u001b[1m Total params: \u001b[0m\u001b[38;5;34m141,953\u001b[0m (554.50 KB)\n"
      ]
     },
     "metadata": {},
     "output_type": "display_data"
    },
    {
     "data": {
      "text/html": [
       "<pre style=\"white-space:pre;overflow-x:auto;line-height:normal;font-family:Menlo,'DejaVu Sans Mono',consolas,'Courier New',monospace\"><span style=\"font-weight: bold\"> Trainable params: </span><span style=\"color: #00af00; text-decoration-color: #00af00\">141,953</span> (554.50 KB)\n",
       "</pre>\n"
      ],
      "text/plain": [
       "\u001b[1m Trainable params: \u001b[0m\u001b[38;5;34m141,953\u001b[0m (554.50 KB)\n"
      ]
     },
     "metadata": {},
     "output_type": "display_data"
    },
    {
     "data": {
      "text/html": [
       "<pre style=\"white-space:pre;overflow-x:auto;line-height:normal;font-family:Menlo,'DejaVu Sans Mono',consolas,'Courier New',monospace\"><span style=\"font-weight: bold\"> Non-trainable params: </span><span style=\"color: #00af00; text-decoration-color: #00af00\">0</span> (0.00 B)\n",
       "</pre>\n"
      ],
      "text/plain": [
       "\u001b[1m Non-trainable params: \u001b[0m\u001b[38;5;34m0\u001b[0m (0.00 B)\n"
      ]
     },
     "metadata": {},
     "output_type": "display_data"
    },
    {
     "name": "stdout",
     "output_type": "stream",
     "text": [
      "Epoch 1/10\n",
      "\u001b[1m207/207\u001b[0m \u001b[32m━━━━━━━━━━━━━━━━━━━━\u001b[0m\u001b[37m\u001b[0m \u001b[1m5s\u001b[0m 13ms/step - accuracy: 1.0000 - loss: 0.0562 - val_accuracy: 1.0000 - val_loss: 2.7570e-11\n",
      "Epoch 2/10\n",
      "\u001b[1m207/207\u001b[0m \u001b[32m━━━━━━━━━━━━━━━━━━━━\u001b[0m\u001b[37m\u001b[0m \u001b[1m2s\u001b[0m 9ms/step - accuracy: 1.0000 - loss: 7.3892e-09 - val_accuracy: 1.0000 - val_loss: 2.7307e-11\n",
      "Epoch 3/10\n",
      "\u001b[1m207/207\u001b[0m \u001b[32m━━━━━━━━━━━━━━━━━━━━\u001b[0m\u001b[37m\u001b[0m \u001b[1m2s\u001b[0m 9ms/step - accuracy: 1.0000 - loss: 2.0707e-08 - val_accuracy: 1.0000 - val_loss: 2.6587e-11\n",
      "Epoch 4/10\n",
      "\u001b[1m207/207\u001b[0m \u001b[32m━━━━━━━━━━━━━━━━━━━━\u001b[0m\u001b[37m\u001b[0m \u001b[1m2s\u001b[0m 8ms/step - accuracy: 1.0000 - loss: 9.3240e-09 - val_accuracy: 1.0000 - val_loss: 2.6104e-11\n",
      "Epoch 5/10\n",
      "\u001b[1m207/207\u001b[0m \u001b[32m━━━━━━━━━━━━━━━━━━━━\u001b[0m\u001b[37m\u001b[0m \u001b[1m2s\u001b[0m 10ms/step - accuracy: 1.0000 - loss: 1.9958e-08 - val_accuracy: 1.0000 - val_loss: 2.4708e-11\n",
      "Epoch 6/10\n",
      "\u001b[1m207/207\u001b[0m \u001b[32m━━━━━━━━━━━━━━━━━━━━\u001b[0m\u001b[37m\u001b[0m \u001b[1m2s\u001b[0m 9ms/step - accuracy: 1.0000 - loss: 6.8154e-09 - val_accuracy: 1.0000 - val_loss: 2.3972e-11\n",
      "Epoch 7/10\n",
      "\u001b[1m207/207\u001b[0m \u001b[32m━━━━━━━━━━━━━━━━━━━━\u001b[0m\u001b[37m\u001b[0m \u001b[1m2s\u001b[0m 8ms/step - accuracy: 1.0000 - loss: 5.4738e-09 - val_accuracy: 1.0000 - val_loss: 2.3262e-11\n",
      "Epoch 8/10\n",
      "\u001b[1m207/207\u001b[0m \u001b[32m━━━━━━━━━━━━━━━━━━━━\u001b[0m\u001b[37m\u001b[0m \u001b[1m2s\u001b[0m 8ms/step - accuracy: 1.0000 - loss: 3.6300e-08 - val_accuracy: 1.0000 - val_loss: 1.7919e-11\n",
      "Epoch 9/10\n",
      "\u001b[1m207/207\u001b[0m \u001b[32m━━━━━━━━━━━━━━━━━━━━\u001b[0m\u001b[37m\u001b[0m \u001b[1m2s\u001b[0m 9ms/step - accuracy: 1.0000 - loss: 7.1575e-09 - val_accuracy: 1.0000 - val_loss: 1.7357e-11\n",
      "Epoch 10/10\n",
      "\u001b[1m207/207\u001b[0m \u001b[32m━━━━━━━━━━━━━━━━━━━━\u001b[0m\u001b[37m\u001b[0m \u001b[1m2s\u001b[0m 8ms/step - accuracy: 1.0000 - loss: 5.6036e-09 - val_accuracy: 1.0000 - val_loss: 1.6907e-11\n",
      "\u001b[1m52/52\u001b[0m \u001b[32m━━━━━━━━━━━━━━━━━━━━\u001b[0m\u001b[37m\u001b[0m \u001b[1m0s\u001b[0m 5ms/step - accuracy: 1.0000 - loss: 1.7275e-11\n",
      "\n",
      "Test Accuracy: 100.00%\n"
     ]
    }
   ],
   "source": [
    "from tensorflow.keras.models import Sequential\n",
    "from tensorflow.keras.layers import Conv2D, MaxPooling2D, Flatten, Dense, Dropout\n",
    "\n",
    "# Misalnya semua data adalah satu kelas, maka label harus 1\n",
    "y_train = np.ones(len(y_train))\n",
    "y_test = np.ones(len(y_test))\n",
    "\n",
    "model = Sequential([\n",
    "    Conv2D(32, (3, 3), activation='relu', padding='same', input_shape=(11, 6, 1)),\n",
    "    MaxPooling2D((2, 2)),\n",
    "    Conv2D(64, (3, 3), activation='relu', padding='same'),\n",
    "    Flatten(),\n",
    "    Dense(128, activation='relu'),\n",
    "    Dropout(0.5),\n",
    "    Dense(1, activation='sigmoid')  # Output satu neuron, sigmoid\n",
    "])\n",
    "\n",
    "model.compile(optimizer='adam', loss='binary_crossentropy', metrics=['accuracy'])\n",
    "model.summary()\n",
    "\n",
    "history = model.fit(\n",
    "    X_train, y_train,\n",
    "    validation_data=(X_test, y_test),\n",
    "    epochs=10,\n",
    "    batch_size=32\n",
    ")\n",
    "\n",
    "loss, accuracy = model.evaluate(X_test, y_test)\n",
    "print(f\"\\nTest Accuracy: {accuracy * 100:.2f}%\")"
   ]
  },
  {
   "cell_type": "code",
   "execution_count": 38,
   "metadata": {
    "colab": {
     "base_uri": "https://localhost:8080/"
    },
    "executionInfo": {
     "elapsed": 113,
     "status": "ok",
     "timestamp": 1748939397101,
     "user": {
      "displayName": "Agit Saputra",
      "userId": "06617746144594588797"
     },
     "user_tz": -420
    },
    "id": "hBjBubQo6K0A",
    "outputId": "41f429a6-22d0-41d7-a94e-627ae1be5cba"
   },
   "outputs": [
    {
     "name": "stderr",
     "output_type": "stream",
     "text": [
      "WARNING:absl:You are saving your model as an HDF5 file via `model.save()` or `keras.saving.save_model(model)`. This file format is considered legacy. We recommend using instead the native Keras format, e.g. `model.save('my_model.keras')` or `keras.saving.save_model(model, 'my_model.keras')`. \n"
     ]
    }
   ],
   "source": [
    "# Simpan model\n",
    "model.save(\"D:\\Semester 6\\PEMROGRAMAN SISTEM CERDAS 2\\capstone_mp_model\\Model CNN\\Hip_Circle_model.h5\")"
   ]
  },
  {
   "cell_type": "code",
   "execution_count": 39,
   "metadata": {
    "colab": {
     "base_uri": "https://localhost:8080/"
    },
    "executionInfo": {
     "elapsed": 836,
     "status": "ok",
     "timestamp": 1748939456487,
     "user": {
      "displayName": "Agit Saputra",
      "userId": "06617746144594588797"
     },
     "user_tz": -420
    },
    "id": "bQTAOGSQ6cjl",
    "outputId": "2485adb8-bc02-44ef-fe04-873526888f36"
   },
   "outputs": [
    {
     "name": "stdout",
     "output_type": "stream",
     "text": [
      "INFO:tensorflow:Assets written to: C:\\Users\\skymo\\AppData\\Local\\Temp\\tmpznoxl422\\assets\n"
     ]
    },
    {
     "name": "stderr",
     "output_type": "stream",
     "text": [
      "INFO:tensorflow:Assets written to: C:\\Users\\skymo\\AppData\\Local\\Temp\\tmpznoxl422\\assets\n"
     ]
    },
    {
     "name": "stdout",
     "output_type": "stream",
     "text": [
      "Saved artifact at 'C:\\Users\\skymo\\AppData\\Local\\Temp\\tmpznoxl422'. The following endpoints are available:\n",
      "\n",
      "* Endpoint 'serve'\n",
      "  args_0 (POSITIONAL_ONLY): TensorSpec(shape=(None, 11, 6, 1), dtype=tf.float32, name='keras_tensor_38')\n",
      "Output Type:\n",
      "  TensorSpec(shape=(None, 1), dtype=tf.float32, name=None)\n",
      "Captures:\n",
      "  2941146149136: TensorSpec(shape=(), dtype=tf.resource, name=None)\n",
      "  2941146150544: TensorSpec(shape=(), dtype=tf.resource, name=None)\n",
      "  2941146137872: TensorSpec(shape=(), dtype=tf.resource, name=None)\n",
      "  2941101282000: TensorSpec(shape=(), dtype=tf.resource, name=None)\n",
      "  2941101281120: TensorSpec(shape=(), dtype=tf.resource, name=None)\n",
      "  2941101279360: TensorSpec(shape=(), dtype=tf.resource, name=None)\n",
      "  2941101281648: TensorSpec(shape=(), dtype=tf.resource, name=None)\n",
      "  2941101282352: TensorSpec(shape=(), dtype=tf.resource, name=None)\n"
     ]
    }
   ],
   "source": [
    "import tensorflow as tf\n",
    "\n",
    "converter = tf.lite.TFLiteConverter.from_keras_model(model)\n",
    "tflite_model = converter.convert()\n",
    "\n",
    "with open(\"D:\\Semester 6\\PEMROGRAMAN SISTEM CERDAS 2\\capstone_mp_model\\Model CNN\\Hip_Circle_model.tflite\", \"wb\") as f:\n",
    "    f.write(tflite_model)\n"
   ]
  },
  {
   "cell_type": "markdown",
   "metadata": {
    "id": "BuUhT5r1nl2l"
   },
   "source": [
    "## Class Arm Circles\n"
   ]
  },
  {
   "cell_type": "code",
   "execution_count": 40,
   "metadata": {
    "colab": {
     "base_uri": "https://localhost:8080/"
    },
    "executionInfo": {
     "elapsed": 106814,
     "status": "ok",
     "timestamp": 1748939601170,
     "user": {
      "displayName": "Agit Saputra",
      "userId": "06617746144594588797"
     },
     "user_tz": -420
    },
    "id": "BrI4PclznrXs",
    "outputId": "5edb4d72-4d79-42ab-b6f4-7cc8e91193eb"
   },
   "outputs": [
    {
     "name": "stdout",
     "output_type": "stream",
     "text": [
      "Jumlah data pose yang terbaca: 2795\n",
      "Shape X: (2795, 66)\n",
      "Shape y: (2795,)\n"
     ]
    }
   ],
   "source": [
    "import os\n",
    "import cv2\n",
    "import mediapipe as mp\n",
    "import numpy as np\n",
    "\n",
    "mp_pose = mp.solutions.pose\n",
    "pose = mp_pose.Pose(static_image_mode=False)\n",
    "\n",
    "# DATA_DIR sudah langsung ke folder kelas\n",
    "DATA_DIR = \"D:\\Semester 6\\PEMROGRAMAN SISTEM CERDAS 2\\capstone_mp_model\\data\\Arm Circles\"\n",
    "\n",
    "class_folder = DATA_DIR  # langsung folder kelas tanpa gabung lagi\n",
    "\n",
    "keypoints, labels = [], []\n",
    "\n",
    "# Cek apakah ada subfolder\n",
    "subfolders = [f for f in os.listdir(class_folder) if os.path.isdir(os.path.join(class_folder, f))]\n",
    "\n",
    "if len(subfolders) > 0:\n",
    "    # Kalau ada subfolder, proses video di tiap subfolder\n",
    "    for subfolder in subfolders:\n",
    "        folder_path = os.path.join(class_folder, subfolder)\n",
    "        for file in os.listdir(folder_path):\n",
    "            if not file.endswith(\".mp4\"):\n",
    "                continue\n",
    "            video_path = os.path.join(folder_path, file)\n",
    "            cap = cv2.VideoCapture(video_path)\n",
    "            if not cap.isOpened():\n",
    "                print(f\"Gagal membuka video: {video_path}\")\n",
    "                continue\n",
    "            while True:\n",
    "                ret, frame = cap.read()\n",
    "                if not ret:\n",
    "                    break\n",
    "                frame = cv2.resize(frame, (224, 224))\n",
    "                rgb = cv2.cvtColor(frame, cv2.COLOR_BGR2RGB)\n",
    "                results = pose.process(rgb)\n",
    "                if results.pose_landmarks:\n",
    "                    lm = results.pose_landmarks.landmark\n",
    "                    keypoints.append([p.x for p in lm] + [p.y for p in lm])\n",
    "                    labels.append(0)  # hanya satu kelas, label=0\n",
    "            cap.release()\n",
    "else:\n",
    "    # Kalau tidak ada subfolder, langsung proses video di folder kelas\n",
    "    for file in os.listdir(class_folder):\n",
    "        if not file.endswith(\".mp4\"):\n",
    "            continue\n",
    "        video_path = os.path.join(class_folder, file)\n",
    "        cap = cv2.VideoCapture(video_path)\n",
    "        if not cap.isOpened():\n",
    "            print(f\"Gagal membuka video: {video_path}\")\n",
    "            continue\n",
    "        while True:\n",
    "            ret, frame = cap.read()\n",
    "            if not ret:\n",
    "                break\n",
    "            frame = cv2.resize(frame, (224, 224))\n",
    "            rgb = cv2.cvtColor(frame, cv2.COLOR_BGR2RGB)\n",
    "            results = pose.process(rgb)\n",
    "            if results.pose_landmarks:\n",
    "                lm = results.pose_landmarks.landmark\n",
    "                keypoints.append([p.x for p in lm] + [p.y for p in lm])\n",
    "                labels.append(0)\n",
    "        cap.release()\n",
    "\n",
    "X = np.array(keypoints)\n",
    "y = np.array(labels)\n",
    "\n",
    "print(f\"Jumlah data pose yang terbaca: {len(X)}\")\n",
    "print(f\"Shape X: {X.shape}\")\n",
    "print(f\"Shape y: {y.shape}\")\n"
   ]
  },
  {
   "cell_type": "code",
   "execution_count": 41,
   "metadata": {
    "colab": {
     "base_uri": "https://localhost:8080/"
    },
    "executionInfo": {
     "elapsed": 51,
     "status": "ok",
     "timestamp": 1748939622704,
     "user": {
      "displayName": "Agit Saputra",
      "userId": "06617746144594588797"
     },
     "user_tz": -420
    },
    "id": "z97njLd46tIa",
    "outputId": "23326691-e099-4739-e890-3a05d089ffe5"
   },
   "outputs": [
    {
     "name": "stdout",
     "output_type": "stream",
     "text": [
      "Jumlah data pose: 2795\n",
      "Shape X: (2795, 66)\n",
      "Data training: (2236, 11, 6, 1), Data testing: (559, 11, 6, 1)\n"
     ]
    }
   ],
   "source": [
    "from sklearn.model_selection import train_test_split\n",
    "import numpy as np\n",
    "\n",
    "# Misal kamu sudah punya X dan y, dan hanya dari satu kelas\n",
    "print(f\"Jumlah data pose: {len(X)}\")\n",
    "print(f\"Shape X: {X.shape}\")\n",
    "\n",
    "# Validasi jumlah fitur\n",
    "if X.shape[1] != 66:\n",
    "    raise ValueError(f\"Jumlah fitur ({X.shape[1]}) tidak sesuai 66 (33 landmark * 2)\")\n",
    "\n",
    "# Reshape untuk input ke CNN\n",
    "X = X.reshape(-1, 11, 6, 1)\n",
    "\n",
    "# Karena hanya satu kelas, jangan pakai stratify\n",
    "X_train, X_test, y_train, y_test = train_test_split(\n",
    "    X, y, test_size=0.2, random_state=42\n",
    ")\n",
    "\n",
    "print(f\"Data training: {X_train.shape}, Data testing: {X_test.shape}\")\n"
   ]
  },
  {
   "cell_type": "code",
   "execution_count": 42,
   "metadata": {
    "colab": {
     "base_uri": "https://localhost:8080/"
    },
    "executionInfo": {
     "elapsed": 11116,
     "status": "ok",
     "timestamp": 1748940082303,
     "user": {
      "displayName": "Agit Saputra",
      "userId": "06617746144594588797"
     },
     "user_tz": -420
    },
    "id": "4-grONcm7MdR",
    "outputId": "24419f43-6d14-4e7c-8bbd-80d8f3fb57ef"
   },
   "outputs": [
    {
     "name": "stdout",
     "output_type": "stream",
     "text": [
      "Epoch 1/10\n"
     ]
    },
    {
     "name": "stderr",
     "output_type": "stream",
     "text": [
      "d:\\Semester 6\\program\\Python310\\lib\\site-packages\\keras\\src\\layers\\convolutional\\base_conv.py:113: UserWarning: Do not pass an `input_shape`/`input_dim` argument to a layer. When using Sequential models, prefer using an `Input(shape)` object as the first layer in the model instead.\n",
      "  super().__init__(activity_regularizer=activity_regularizer, **kwargs)\n"
     ]
    },
    {
     "name": "stdout",
     "output_type": "stream",
     "text": [
      "\u001b[1m70/70\u001b[0m \u001b[32m━━━━━━━━━━━━━━━━━━━━\u001b[0m\u001b[37m\u001b[0m \u001b[1m4s\u001b[0m 19ms/step - accuracy: 0.9252 - loss: 0.2398 - val_accuracy: 1.0000 - val_loss: 1.0989e-06\n",
      "Epoch 2/10\n",
      "\u001b[1m70/70\u001b[0m \u001b[32m━━━━━━━━━━━━━━━━━━━━\u001b[0m\u001b[37m\u001b[0m \u001b[1m1s\u001b[0m 8ms/step - accuracy: 1.0000 - loss: 6.2914e-06 - val_accuracy: 1.0000 - val_loss: 6.9666e-07\n",
      "Epoch 3/10\n",
      "\u001b[1m70/70\u001b[0m \u001b[32m━━━━━━━━━━━━━━━━━━━━\u001b[0m\u001b[37m\u001b[0m \u001b[1m1s\u001b[0m 8ms/step - accuracy: 1.0000 - loss: 5.6493e-06 - val_accuracy: 1.0000 - val_loss: 4.6839e-07\n",
      "Epoch 4/10\n",
      "\u001b[1m70/70\u001b[0m \u001b[32m━━━━━━━━━━━━━━━━━━━━\u001b[0m\u001b[37m\u001b[0m \u001b[1m1s\u001b[0m 7ms/step - accuracy: 1.0000 - loss: 7.9758e-06 - val_accuracy: 1.0000 - val_loss: 3.2068e-07\n",
      "Epoch 5/10\n",
      "\u001b[1m70/70\u001b[0m \u001b[32m━━━━━━━━━━━━━━━━━━━━\u001b[0m\u001b[37m\u001b[0m \u001b[1m1s\u001b[0m 10ms/step - accuracy: 1.0000 - loss: 6.9111e-06 - val_accuracy: 1.0000 - val_loss: 2.2697e-07\n",
      "Epoch 6/10\n",
      "\u001b[1m70/70\u001b[0m \u001b[32m━━━━━━━━━━━━━━━━━━━━\u001b[0m\u001b[37m\u001b[0m \u001b[1m2s\u001b[0m 13ms/step - accuracy: 1.0000 - loss: 4.1724e-06 - val_accuracy: 1.0000 - val_loss: 1.6866e-07\n",
      "Epoch 7/10\n",
      "\u001b[1m70/70\u001b[0m \u001b[32m━━━━━━━━━━━━━━━━━━━━\u001b[0m\u001b[37m\u001b[0m \u001b[1m1s\u001b[0m 10ms/step - accuracy: 1.0000 - loss: 4.6762e-06 - val_accuracy: 1.0000 - val_loss: 1.3401e-07\n",
      "Epoch 8/10\n",
      "\u001b[1m70/70\u001b[0m \u001b[32m━━━━━━━━━━━━━━━━━━━━\u001b[0m\u001b[37m\u001b[0m \u001b[1m1s\u001b[0m 13ms/step - accuracy: 1.0000 - loss: 2.8768e-06 - val_accuracy: 1.0000 - val_loss: 1.0543e-07\n",
      "Epoch 9/10\n",
      "\u001b[1m70/70\u001b[0m \u001b[32m━━━━━━━━━━━━━━━━━━━━\u001b[0m\u001b[37m\u001b[0m \u001b[1m1s\u001b[0m 10ms/step - accuracy: 1.0000 - loss: 3.2832e-06 - val_accuracy: 1.0000 - val_loss: 7.3442e-08\n",
      "Epoch 10/10\n",
      "\u001b[1m70/70\u001b[0m \u001b[32m━━━━━━━━━━━━━━━━━━━━\u001b[0m\u001b[37m\u001b[0m \u001b[1m1s\u001b[0m 9ms/step - accuracy: 1.0000 - loss: 1.6534e-06 - val_accuracy: 1.0000 - val_loss: 2.9802e-08\n",
      "Restoring model weights from the end of the best epoch: 10.\n",
      "\u001b[1m18/18\u001b[0m \u001b[32m━━━━━━━━━━━━━━━━━━━━\u001b[0m\u001b[37m\u001b[0m \u001b[1m0s\u001b[0m 6ms/step - accuracy: 1.0000 - loss: 2.8170e-08\n",
      "\n",
      "Test Accuracy: 100.00%\n"
     ]
    }
   ],
   "source": [
    "import numpy as np\n",
    "from tensorflow.keras.models import Sequential\n",
    "from tensorflow.keras.layers import Conv2D, MaxPooling2D, Flatten, Dense, Dropout\n",
    "from tensorflow.keras.callbacks import EarlyStopping\n",
    "\n",
    "# Pastikan label hanya 0 (negative) dan 1 (positive)\n",
    "# Misal: 0 = Negative, 1 = Butt_Kick\n",
    "# X shape = (samples, 11, 6, 1), y shape = (samples,)\n",
    "\n",
    "# Gunakan EarlyStopping untuk mencegah overfitting\n",
    "early_stop = EarlyStopping(\n",
    "    monitor='val_loss',\n",
    "    patience=3,\n",
    "    restore_best_weights=True,\n",
    "    verbose=1\n",
    ")\n",
    "\n",
    "model = Sequential([\n",
    "    Conv2D(32, (3, 3), activation='relu', padding='same', input_shape=(11, 6, 1)),\n",
    "    MaxPooling2D((2, 2)),\n",
    "    Conv2D(64, (3, 3), activation='relu', padding='same'),\n",
    "    MaxPooling2D((2, 2)),\n",
    "    Flatten(),\n",
    "    Dense(128, activation='relu'),\n",
    "    Dropout(0.5),\n",
    "    Dense(1, activation='sigmoid')  # Output 1 neuron untuk binary classification\n",
    "])\n",
    "\n",
    "# Kompilasi model\n",
    "model.compile(\n",
    "    optimizer='adam',\n",
    "    loss='binary_crossentropy',\n",
    "    metrics=['accuracy']\n",
    ")\n",
    "\n",
    "# Training\n",
    "history = model.fit(\n",
    "    X_train, y_train,\n",
    "    validation_data=(X_test, y_test),\n",
    "    epochs=10,\n",
    "    batch_size=32,\n",
    "    callbacks=[early_stop],\n",
    "    verbose=1\n",
    ")\n",
    "\n",
    "# Evaluasi model\n",
    "loss, accuracy = model.evaluate(X_test, y_test)\n",
    "print(f\"\\nTest Accuracy: {accuracy * 100:.2f}%\")\n"
   ]
  },
  {
   "cell_type": "code",
   "execution_count": 43,
   "metadata": {
    "colab": {
     "base_uri": "https://localhost:8080/"
    },
    "executionInfo": {
     "elapsed": 118,
     "status": "ok",
     "timestamp": 1748939724997,
     "user": {
      "displayName": "Agit Saputra",
      "userId": "06617746144594588797"
     },
     "user_tz": -420
    },
    "id": "DZ4bocM07RHJ",
    "outputId": "d4eaac2f-0997-4b7c-d9dd-6d9a7d949560"
   },
   "outputs": [
    {
     "name": "stderr",
     "output_type": "stream",
     "text": [
      "WARNING:absl:You are saving your model as an HDF5 file via `model.save()` or `keras.saving.save_model(model)`. This file format is considered legacy. We recommend using instead the native Keras format, e.g. `model.save('my_model.keras')` or `keras.saving.save_model(model, 'my_model.keras')`. \n"
     ]
    }
   ],
   "source": [
    "# Simpan model\n",
    "model.save(\"D:\\Semester 6\\PEMROGRAMAN SISTEM CERDAS 2\\capstone_mp_model\\Model CNN\\Arm_Circles_model.h5\")"
   ]
  },
  {
   "cell_type": "code",
   "execution_count": 44,
   "metadata": {
    "colab": {
     "base_uri": "https://localhost:8080/"
    },
    "executionInfo": {
     "elapsed": 1151,
     "status": "ok",
     "timestamp": 1748939776117,
     "user": {
      "displayName": "Agit Saputra",
      "userId": "06617746144594588797"
     },
     "user_tz": -420
    },
    "id": "xQ1_9pTm7lad",
    "outputId": "ed6121d7-c505-49c1-f9cd-862af4a78cc2"
   },
   "outputs": [
    {
     "name": "stdout",
     "output_type": "stream",
     "text": [
      "INFO:tensorflow:Assets written to: C:\\Users\\skymo\\AppData\\Local\\Temp\\tmpgv6y6i69\\assets\n"
     ]
    },
    {
     "name": "stderr",
     "output_type": "stream",
     "text": [
      "INFO:tensorflow:Assets written to: C:\\Users\\skymo\\AppData\\Local\\Temp\\tmpgv6y6i69\\assets\n"
     ]
    },
    {
     "name": "stdout",
     "output_type": "stream",
     "text": [
      "Saved artifact at 'C:\\Users\\skymo\\AppData\\Local\\Temp\\tmpgv6y6i69'. The following endpoints are available:\n",
      "\n",
      "* Endpoint 'serve'\n",
      "  args_0 (POSITIONAL_ONLY): TensorSpec(shape=(None, 11, 6, 1), dtype=tf.float32, name='keras_tensor_46')\n",
      "Output Type:\n",
      "  TensorSpec(shape=(None, 1), dtype=tf.float32, name=None)\n",
      "Captures:\n",
      "  2941145902144: TensorSpec(shape=(), dtype=tf.resource, name=None)\n",
      "  2941136418096: TensorSpec(shape=(), dtype=tf.resource, name=None)\n",
      "  2941136409296: TensorSpec(shape=(), dtype=tf.resource, name=None)\n",
      "  2941352828192: TensorSpec(shape=(), dtype=tf.resource, name=None)\n",
      "  2941352827312: TensorSpec(shape=(), dtype=tf.resource, name=None)\n",
      "  2941352824672: TensorSpec(shape=(), dtype=tf.resource, name=None)\n",
      "  2941352827840: TensorSpec(shape=(), dtype=tf.resource, name=None)\n",
      "  2941352828544: TensorSpec(shape=(), dtype=tf.resource, name=None)\n"
     ]
    }
   ],
   "source": [
    "import tensorflow as tf\n",
    "\n",
    "converter = tf.lite.TFLiteConverter.from_keras_model(model)\n",
    "tflite_model = converter.convert()\n",
    "\n",
    "with open(\"D:\\Semester 6\\PEMROGRAMAN SISTEM CERDAS 2\\capstone_mp_model\\Model CNN\\Arm_Circles_model.tflite\", \"wb\") as f:\n",
    "    f.write(tflite_model)\n"
   ]
  },
  {
   "cell_type": "markdown",
   "metadata": {
    "id": "5_FqBl0q5IkU"
   },
   "source": [
    "## Model Baru"
   ]
  },
  {
   "cell_type": "code",
   "execution_count": 45,
   "metadata": {
    "colab": {
     "base_uri": "https://localhost:8080/"
    },
    "executionInfo": {
     "elapsed": 20,
     "status": "ok",
     "timestamp": 1750784662879,
     "user": {
      "displayName": "Agit Saputra",
      "userId": "06617746144594588797"
     },
     "user_tz": -420
    },
    "id": "iNS1Aemh5XaA",
    "outputId": "ac41b70f-9034-4720-c787-c87263eb3af9"
   },
   "outputs": [
    {
     "name": "stdout",
     "output_type": "stream",
     "text": [
      "['Ankle Circles', 'Arm Circles', 'Breathing Exercise', 'Calf Raises', 'Forward Bend', 'Hip Circles', 'Jumping Jacks', 'Knee Lifts', 'Lunges', 'Neck Stretch', 'Shoulder Rolls', 'Side Stretch', 'Squats', 'Torso Twist', 'Wrist Stretch']\n",
      "Folder Ankle Circles has files:  ['ankle circles 1.mp4']\n",
      "Folder Arm Circles has files:  ['arm circles 1.mp4', 'arm circles 2.mp4']\n",
      "Folder Breathing Exercise has files:  ['breathing exercise 1.mp4', 'breathing exercise 2.mp4', 'breathing exercise 3.mp4']\n",
      "Folder Calf Raises has files:  ['calf raises 1.mp4', 'calf raises 2.mp4']\n",
      "Folder Forward Bend has files:  ['forward bend 1.mp4', 'forward bend 2.mp4']\n",
      "Folder Hip Circles has files:  ['hip circles 1.mp4', 'Hip_circles.mp4']\n",
      "Folder Jumping Jacks has files:  ['jumping jacks 1.mp4', 'jumping jacks 2.mp4']\n",
      "Folder Knee Lifts has files:  ['knee lifts 1.mp4']\n",
      "Folder Lunges has files:  ['lunges 1.mp4']\n",
      "Folder Neck Stretch has files:  ['neck stretch 1.mp4', 'neck stretch 2.mp4']\n",
      "Folder Shoulder Rolls has files:  ['shoulder rolls.mp4']\n",
      "Folder Side Stretch has files:  ['side stretch 1.mp4']\n",
      "Folder Squats has files:  ['squats.mp4']\n",
      "Folder Torso Twist has files:  ['torso twist 1.mp4']\n",
      "Folder Wrist Stretch has files:  ['wrist stretch.mp4']\n"
     ]
    }
   ],
   "source": [
    "import os\n",
    "DATA_DIR = \"D:\\Semester 6\\PEMROGRAMAN SISTEM CERDAS 2\\capstone_mp_model\\data\"\n",
    "print(os.listdir(DATA_DIR))  # Pastikan ada folder kelas\n",
    "for folder in os.listdir(DATA_DIR):\n",
    "    print(f\"Folder {folder} has files: \", os.listdir(os.path.join(DATA_DIR, folder)))"
   ]
  },
  {
   "cell_type": "code",
   "execution_count": 46,
   "metadata": {
    "colab": {
     "base_uri": "https://localhost:8080/"
    },
    "executionInfo": {
     "elapsed": 193675,
     "status": "ok",
     "timestamp": 1750784942494,
     "user": {
      "displayName": "Agit Saputra",
      "userId": "06617746144594588797"
     },
     "user_tz": -420
    },
    "id": "E_Gq5xon5dtN",
    "outputId": "c15b498a-03ab-4fa5-db3f-a13dd506d097"
   },
   "outputs": [
    {
     "name": "stdout",
     "output_type": "stream",
     "text": [
      "['Ankle Circles', 'Arm Circles', 'Breathing Exercise', 'Calf Raises', 'Forward Bend', 'Hip Circles', 'Jumping Jacks', 'Knee Lifts', 'Lunges', 'Neck Stretch', 'Shoulder Rolls', 'Side Stretch', 'Squats', 'Torso Twist', 'Wrist Stretch']\n",
      "Folder Ankle Circles has files:  ['ankle circles 1.mp4']\n",
      "Folder Arm Circles has files:  ['arm circles 1.mp4', 'arm circles 2.mp4']\n",
      "Folder Breathing Exercise has files:  ['breathing exercise 1.mp4', 'breathing exercise 2.mp4', 'breathing exercise 3.mp4']\n",
      "Folder Calf Raises has files:  ['calf raises 1.mp4', 'calf raises 2.mp4']\n",
      "Folder Forward Bend has files:  ['forward bend 1.mp4', 'forward bend 2.mp4']\n",
      "Folder Hip Circles has files:  ['hip circles 1.mp4', 'Hip_circles.mp4']\n",
      "Folder Jumping Jacks has files:  ['jumping jacks 1.mp4', 'jumping jacks 2.mp4']\n",
      "Folder Knee Lifts has files:  ['knee lifts 1.mp4']\n",
      "Folder Lunges has files:  ['lunges 1.mp4']\n",
      "Folder Neck Stretch has files:  ['neck stretch 1.mp4', 'neck stretch 2.mp4']\n",
      "Folder Shoulder Rolls has files:  ['shoulder rolls.mp4']\n",
      "Folder Side Stretch has files:  ['side stretch 1.mp4']\n",
      "Folder Squats has files:  ['squats.mp4']\n",
      "Folder Torso Twist has files:  ['torso twist 1.mp4']\n",
      "Folder Wrist Stretch has files:  ['wrist stretch.mp4']\n",
      "Class ditemukan: ['Ankle Circles', 'Arm Circles', 'Breathing Exercise', 'Calf Raises', 'Forward Bend', 'Hip Circles', 'Jumping Jacks', 'Knee Lifts', 'Lunges', 'Neck Stretch', 'Shoulder Rolls', 'Side Stretch', 'Squats', 'Torso Twist', 'Wrist Stretch']\n",
      "Jumlah data pose yang terbaca: 2558\n",
      "Shape X setelah konversi ke array: (2558, 66)\n",
      "Shape y: (2558,)\n"
     ]
    }
   ],
   "source": [
    "import os\n",
    "import cv2  # Import OpenCV library\n",
    "import mediapipe as mp  # Import mediapipe library\n",
    "import numpy as np  # Import numpy library\n",
    "\n",
    "# Initialize MediaPipe Pose\n",
    "mp_pose = mp.solutions.pose\n",
    "pose = mp_pose.Pose(\n",
    "    static_image_mode=False,\n",
    "    model_complexity=1,\n",
    "    enable_segmentation=False,\n",
    "    min_detection_confidence=0.5,\n",
    "    min_tracking_confidence=0.5\n",
    ")\n",
    "\n",
    "# Initialize lists to store data\n",
    "keypoints = []\n",
    "labels = []\n",
    "\n",
    "DATA_DIR = \"D:\\Semester 6\\PEMROGRAMAN SISTEM CERDAS 2\\capstone_mp_model\\data\"\n",
    "print(os.listdir(DATA_DIR))  # Pastikan ada folder kelas\n",
    "\n",
    "for folder in os.listdir(DATA_DIR):\n",
    "    print(f\"Folder {folder} has files: \", os.listdir(os.path.join(DATA_DIR, folder)))\n",
    "\n",
    "class_names = sorted([d for d in os.listdir(DATA_DIR) if os.path.isdir(os.path.join(DATA_DIR, d))])\n",
    "print(\"Class ditemukan:\", class_names)\n",
    "\n",
    "for idx, class_name in enumerate(class_names):\n",
    "    class_folder = os.path.join(DATA_DIR, class_name)\n",
    "    for file in os.listdir(class_folder):\n",
    "        if not file.endswith(\".mp4\"):\n",
    "            continue\n",
    "        video_path = os.path.join(class_folder, file)\n",
    "        cap = cv2.VideoCapture(video_path)\n",
    "        if not cap.isOpened():\n",
    "            print(f\"Gagal membuka video: {video_path}\")\n",
    "            continue\n",
    "\n",
    "        frame_counter = 0  # Inisialisasi penghitung frame\n",
    "\n",
    "        while True:\n",
    "            ret, frame = cap.read()\n",
    "            if not ret:\n",
    "                break\n",
    "\n",
    "            frame_counter += 1\n",
    "\n",
    "            # Hanya proses setiap 20 frame\n",
    "            if frame_counter % 20 != 0:\n",
    "                continue\n",
    "\n",
    "            frame = cv2.resize(frame, (224, 224))\n",
    "            rgb = cv2.cvtColor(frame, cv2.COLOR_BGR2RGB)\n",
    "            results = pose.process(rgb)\n",
    "\n",
    "            if results.pose_landmarks:\n",
    "                lm = results.pose_landmarks.landmark\n",
    "                # Pastikan jumlah landmark adalah 33 sebelum mengambil data\n",
    "                if len(lm) == 33:\n",
    "                    pose_data = [p.x for p in lm] + [p.y for p in lm]  # 33 x + 33 y = 66\n",
    "                    keypoints.append(pose_data)\n",
    "                    labels.append(idx)\n",
    "                else:\n",
    "                    # Ini bisa terjadi jika mediapipe gagal mendeteksi 33 landmark di frame tertentu\n",
    "                    print(f\"Peringatan: Landmark tidak 33 pada frame {frame_counter} di video {file}. Landmark yang terdeteksi: {len(lm)}\")\n",
    "\n",
    "\n",
    "        cap.release()\n",
    "\n",
    "# --- Ubah ke NumPy Array ---\n",
    "X = np.array(keypoints)\n",
    "y = np.array(labels)\n",
    "\n",
    "print(f\"Jumlah data pose yang terbaca: {len(X)}\")\n",
    "print(f\"Shape X setelah konversi ke array: {X.shape}\") # Cetak shape setelah konversi\n",
    "\n",
    "# --- Lakukan validasi shape awal di sini ---\n",
    "# Memastikan bahwa setiap sampel data pose memiliki 66 fitur (33 x, 33 y)\n",
    "# Validasi ini penting untuk memastikan data siap sebelum di-reshape\n",
    "if X.shape[1] != 66:\n",
    "     # Jika ini terjadi, berarti ada masalah saat mengumpulkan landmark, mungkin ada frame\n",
    "     # yang tidak berhasil mendeteksi 33 landmark atau ada masalah lain dalam proses.\n",
    "     raise ValueError(f\"Jumlah fitur ({X.shape[1]}) tidak sesuai dengan yang diharapkan (66). Pastikan proses pengumpulan data landmark berhasil dan menghasilkan 66 fitur per sampel.\")\n",
    "\n",
    "\n",
    "print(f\"Shape y: {y.shape}\")\n",
    "\n",
    "# Data X dan y sekarang siap untuk di-split dan di-reshape di sel berikutnya"
   ]
  },
  {
   "cell_type": "code",
   "execution_count": 47,
   "metadata": {
    "colab": {
     "base_uri": "https://localhost:8080/"
    },
    "executionInfo": {
     "elapsed": 25,
     "status": "ok",
     "timestamp": 1750784963351,
     "user": {
      "displayName": "Agit Saputra",
      "userId": "06617746144594588797"
     },
     "user_tz": -420
    },
    "id": "J5XovNTA5yvd",
    "outputId": "add80144-3da0-4343-a799-61a5980ccc2e"
   },
   "outputs": [
    {
     "name": "stdout",
     "output_type": "stream",
     "text": [
      "Data training: (2046, 11, 6, 1), Data testing: (512, 11, 6, 1)\n"
     ]
    }
   ],
   "source": [
    "from sklearn.model_selection import train_test_split\n",
    "import numpy as np # Pastikan numpy sudah diimpor\n",
    "\n",
    "# Pastikan data sudah ada dan valid\n",
    "if len(X) == 0:\n",
    "    raise ValueError(\"Data pose tidak ditemukan. Pastikan video mengandung pose yang terdeteksi.\")\n",
    "\n",
    "# Pindahkan validasi shape sebelum reshape\n",
    "# Memastikan bahwa setiap sampel data pose memiliki 66 fitur (33 x, 33 y)\n",
    "if X.shape[1] != 66:\n",
    "    raise ValueError(f\"Jumlah fitur ({X.shape[1]}) tidak sesuai dengan yang diharapkan (66) sebelum reshape.\")\n",
    "\n",
    "# Reshape agar sesuai input CNN\n",
    "# Mengubah shape dari (jumlah_sampel, 66) menjadi (jumlah_sampel, 11, 6, 1)\n",
    "# Ini dilakukan untuk menyiapkan data sebagai input gambar 11x6 dengan 1 channel\n",
    "X = X.reshape(-1, 11, 6, 1)\n",
    "\n",
    "# Split data menjadi train dan test, stratify agar kelas seimbang\n",
    "# Stratify memastikan bahwa distribusi kelas di set train dan test serupa dengan distribusi kelas di data asli\n",
    "X_train, X_test, y_train, y_test = train_test_split(\n",
    "    X, y, test_size=0.2, random_state=42, stratify=y\n",
    ")\n",
    "\n",
    "print(f\"Data training: {X_train.shape}, Data testing: {X_test.shape}\")"
   ]
  },
  {
   "cell_type": "code",
   "execution_count": 48,
   "metadata": {
    "colab": {
     "base_uri": "https://localhost:8080/",
     "height": 1000
    },
    "executionInfo": {
     "elapsed": 35372,
     "status": "ok",
     "timestamp": 1750785057214,
     "user": {
      "displayName": "Agit Saputra",
      "userId": "06617746144594588797"
     },
     "user_tz": -420
    },
    "id": "KOGr_0ZQ6nIO",
    "outputId": "cde257c2-35a3-486a-afdd-e68e29932954"
   },
   "outputs": [
    {
     "name": "stderr",
     "output_type": "stream",
     "text": [
      "d:\\Semester 6\\program\\Python310\\lib\\site-packages\\keras\\src\\layers\\convolutional\\base_conv.py:113: UserWarning: Do not pass an `input_shape`/`input_dim` argument to a layer. When using Sequential models, prefer using an `Input(shape)` object as the first layer in the model instead.\n",
      "  super().__init__(activity_regularizer=activity_regularizer, **kwargs)\n"
     ]
    },
    {
     "data": {
      "text/html": [
       "<pre style=\"white-space:pre;overflow-x:auto;line-height:normal;font-family:Menlo,'DejaVu Sans Mono',consolas,'Courier New',monospace\"><span style=\"font-weight: bold\">Model: \"sequential_7\"</span>\n",
       "</pre>\n"
      ],
      "text/plain": [
       "\u001b[1mModel: \"sequential_7\"\u001b[0m\n"
      ]
     },
     "metadata": {},
     "output_type": "display_data"
    },
    {
     "data": {
      "text/html": [
       "<pre style=\"white-space:pre;overflow-x:auto;line-height:normal;font-family:Menlo,'DejaVu Sans Mono',consolas,'Courier New',monospace\">┏━━━━━━━━━━━━━━━━━━━━━━━━━━━━━━━━━┳━━━━━━━━━━━━━━━━━━━━━━━━┳━━━━━━━━━━━━━━━┓\n",
       "┃<span style=\"font-weight: bold\"> Layer (type)                    </span>┃<span style=\"font-weight: bold\"> Output Shape           </span>┃<span style=\"font-weight: bold\">       Param # </span>┃\n",
       "┡━━━━━━━━━━━━━━━━━━━━━━━━━━━━━━━━━╇━━━━━━━━━━━━━━━━━━━━━━━━╇━━━━━━━━━━━━━━━┩\n",
       "│ conv2d_14 (<span style=\"color: #0087ff; text-decoration-color: #0087ff\">Conv2D</span>)              │ (<span style=\"color: #00d7ff; text-decoration-color: #00d7ff\">None</span>, <span style=\"color: #00af00; text-decoration-color: #00af00\">11</span>, <span style=\"color: #00af00; text-decoration-color: #00af00\">6</span>, <span style=\"color: #00af00; text-decoration-color: #00af00\">32</span>)      │           <span style=\"color: #00af00; text-decoration-color: #00af00\">320</span> │\n",
       "├─────────────────────────────────┼────────────────────────┼───────────────┤\n",
       "│ max_pooling2d_8 (<span style=\"color: #0087ff; text-decoration-color: #0087ff\">MaxPooling2D</span>)  │ (<span style=\"color: #00d7ff; text-decoration-color: #00d7ff\">None</span>, <span style=\"color: #00af00; text-decoration-color: #00af00\">5</span>, <span style=\"color: #00af00; text-decoration-color: #00af00\">3</span>, <span style=\"color: #00af00; text-decoration-color: #00af00\">32</span>)       │             <span style=\"color: #00af00; text-decoration-color: #00af00\">0</span> │\n",
       "├─────────────────────────────────┼────────────────────────┼───────────────┤\n",
       "│ conv2d_15 (<span style=\"color: #0087ff; text-decoration-color: #0087ff\">Conv2D</span>)              │ (<span style=\"color: #00d7ff; text-decoration-color: #00d7ff\">None</span>, <span style=\"color: #00af00; text-decoration-color: #00af00\">5</span>, <span style=\"color: #00af00; text-decoration-color: #00af00\">3</span>, <span style=\"color: #00af00; text-decoration-color: #00af00\">64</span>)       │        <span style=\"color: #00af00; text-decoration-color: #00af00\">18,496</span> │\n",
       "├─────────────────────────────────┼────────────────────────┼───────────────┤\n",
       "│ flatten_7 (<span style=\"color: #0087ff; text-decoration-color: #0087ff\">Flatten</span>)             │ (<span style=\"color: #00d7ff; text-decoration-color: #00d7ff\">None</span>, <span style=\"color: #00af00; text-decoration-color: #00af00\">960</span>)            │             <span style=\"color: #00af00; text-decoration-color: #00af00\">0</span> │\n",
       "├─────────────────────────────────┼────────────────────────┼───────────────┤\n",
       "│ dense_14 (<span style=\"color: #0087ff; text-decoration-color: #0087ff\">Dense</span>)                │ (<span style=\"color: #00d7ff; text-decoration-color: #00d7ff\">None</span>, <span style=\"color: #00af00; text-decoration-color: #00af00\">128</span>)            │       <span style=\"color: #00af00; text-decoration-color: #00af00\">123,008</span> │\n",
       "├─────────────────────────────────┼────────────────────────┼───────────────┤\n",
       "│ dropout_5 (<span style=\"color: #0087ff; text-decoration-color: #0087ff\">Dropout</span>)             │ (<span style=\"color: #00d7ff; text-decoration-color: #00d7ff\">None</span>, <span style=\"color: #00af00; text-decoration-color: #00af00\">128</span>)            │             <span style=\"color: #00af00; text-decoration-color: #00af00\">0</span> │\n",
       "├─────────────────────────────────┼────────────────────────┼───────────────┤\n",
       "│ dense_15 (<span style=\"color: #0087ff; text-decoration-color: #0087ff\">Dense</span>)                │ (<span style=\"color: #00d7ff; text-decoration-color: #00d7ff\">None</span>, <span style=\"color: #00af00; text-decoration-color: #00af00\">15</span>)             │         <span style=\"color: #00af00; text-decoration-color: #00af00\">1,935</span> │\n",
       "└─────────────────────────────────┴────────────────────────┴───────────────┘\n",
       "</pre>\n"
      ],
      "text/plain": [
       "┏━━━━━━━━━━━━━━━━━━━━━━━━━━━━━━━━━┳━━━━━━━━━━━━━━━━━━━━━━━━┳━━━━━━━━━━━━━━━┓\n",
       "┃\u001b[1m \u001b[0m\u001b[1mLayer (type)                   \u001b[0m\u001b[1m \u001b[0m┃\u001b[1m \u001b[0m\u001b[1mOutput Shape          \u001b[0m\u001b[1m \u001b[0m┃\u001b[1m \u001b[0m\u001b[1m      Param #\u001b[0m\u001b[1m \u001b[0m┃\n",
       "┡━━━━━━━━━━━━━━━━━━━━━━━━━━━━━━━━━╇━━━━━━━━━━━━━━━━━━━━━━━━╇━━━━━━━━━━━━━━━┩\n",
       "│ conv2d_14 (\u001b[38;5;33mConv2D\u001b[0m)              │ (\u001b[38;5;45mNone\u001b[0m, \u001b[38;5;34m11\u001b[0m, \u001b[38;5;34m6\u001b[0m, \u001b[38;5;34m32\u001b[0m)      │           \u001b[38;5;34m320\u001b[0m │\n",
       "├─────────────────────────────────┼────────────────────────┼───────────────┤\n",
       "│ max_pooling2d_8 (\u001b[38;5;33mMaxPooling2D\u001b[0m)  │ (\u001b[38;5;45mNone\u001b[0m, \u001b[38;5;34m5\u001b[0m, \u001b[38;5;34m3\u001b[0m, \u001b[38;5;34m32\u001b[0m)       │             \u001b[38;5;34m0\u001b[0m │\n",
       "├─────────────────────────────────┼────────────────────────┼───────────────┤\n",
       "│ conv2d_15 (\u001b[38;5;33mConv2D\u001b[0m)              │ (\u001b[38;5;45mNone\u001b[0m, \u001b[38;5;34m5\u001b[0m, \u001b[38;5;34m3\u001b[0m, \u001b[38;5;34m64\u001b[0m)       │        \u001b[38;5;34m18,496\u001b[0m │\n",
       "├─────────────────────────────────┼────────────────────────┼───────────────┤\n",
       "│ flatten_7 (\u001b[38;5;33mFlatten\u001b[0m)             │ (\u001b[38;5;45mNone\u001b[0m, \u001b[38;5;34m960\u001b[0m)            │             \u001b[38;5;34m0\u001b[0m │\n",
       "├─────────────────────────────────┼────────────────────────┼───────────────┤\n",
       "│ dense_14 (\u001b[38;5;33mDense\u001b[0m)                │ (\u001b[38;5;45mNone\u001b[0m, \u001b[38;5;34m128\u001b[0m)            │       \u001b[38;5;34m123,008\u001b[0m │\n",
       "├─────────────────────────────────┼────────────────────────┼───────────────┤\n",
       "│ dropout_5 (\u001b[38;5;33mDropout\u001b[0m)             │ (\u001b[38;5;45mNone\u001b[0m, \u001b[38;5;34m128\u001b[0m)            │             \u001b[38;5;34m0\u001b[0m │\n",
       "├─────────────────────────────────┼────────────────────────┼───────────────┤\n",
       "│ dense_15 (\u001b[38;5;33mDense\u001b[0m)                │ (\u001b[38;5;45mNone\u001b[0m, \u001b[38;5;34m15\u001b[0m)             │         \u001b[38;5;34m1,935\u001b[0m │\n",
       "└─────────────────────────────────┴────────────────────────┴───────────────┘\n"
      ]
     },
     "metadata": {},
     "output_type": "display_data"
    },
    {
     "data": {
      "text/html": [
       "<pre style=\"white-space:pre;overflow-x:auto;line-height:normal;font-family:Menlo,'DejaVu Sans Mono',consolas,'Courier New',monospace\"><span style=\"font-weight: bold\"> Total params: </span><span style=\"color: #00af00; text-decoration-color: #00af00\">143,759</span> (561.56 KB)\n",
       "</pre>\n"
      ],
      "text/plain": [
       "\u001b[1m Total params: \u001b[0m\u001b[38;5;34m143,759\u001b[0m (561.56 KB)\n"
      ]
     },
     "metadata": {},
     "output_type": "display_data"
    },
    {
     "data": {
      "text/html": [
       "<pre style=\"white-space:pre;overflow-x:auto;line-height:normal;font-family:Menlo,'DejaVu Sans Mono',consolas,'Courier New',monospace\"><span style=\"font-weight: bold\"> Trainable params: </span><span style=\"color: #00af00; text-decoration-color: #00af00\">143,759</span> (561.56 KB)\n",
       "</pre>\n"
      ],
      "text/plain": [
       "\u001b[1m Trainable params: \u001b[0m\u001b[38;5;34m143,759\u001b[0m (561.56 KB)\n"
      ]
     },
     "metadata": {},
     "output_type": "display_data"
    },
    {
     "data": {
      "text/html": [
       "<pre style=\"white-space:pre;overflow-x:auto;line-height:normal;font-family:Menlo,'DejaVu Sans Mono',consolas,'Courier New',monospace\"><span style=\"font-weight: bold\"> Non-trainable params: </span><span style=\"color: #00af00; text-decoration-color: #00af00\">0</span> (0.00 B)\n",
       "</pre>\n"
      ],
      "text/plain": [
       "\u001b[1m Non-trainable params: \u001b[0m\u001b[38;5;34m0\u001b[0m (0.00 B)\n"
      ]
     },
     "metadata": {},
     "output_type": "display_data"
    },
    {
     "name": "stdout",
     "output_type": "stream",
     "text": [
      "Epoch 1/100\n",
      "\u001b[1m64/64\u001b[0m \u001b[32m━━━━━━━━━━━━━━━━━━━━\u001b[0m\u001b[37m\u001b[0m \u001b[1m4s\u001b[0m 21ms/step - accuracy: 0.2827 - loss: 2.3540 - val_accuracy: 0.5176 - val_loss: 1.8482\n",
      "Epoch 2/100\n",
      "\u001b[1m64/64\u001b[0m \u001b[32m━━━━━━━━━━━━━━━━━━━━\u001b[0m\u001b[37m\u001b[0m \u001b[1m1s\u001b[0m 10ms/step - accuracy: 0.4820 - loss: 1.8295 - val_accuracy: 0.5312 - val_loss: 1.6217\n",
      "Epoch 3/100\n",
      "\u001b[1m64/64\u001b[0m \u001b[32m━━━━━━━━━━━━━━━━━━━━\u001b[0m\u001b[37m\u001b[0m \u001b[1m1s\u001b[0m 12ms/step - accuracy: 0.5345 - loss: 1.6026 - val_accuracy: 0.5996 - val_loss: 1.4575\n",
      "Epoch 4/100\n",
      "\u001b[1m64/64\u001b[0m \u001b[32m━━━━━━━━━━━━━━━━━━━━\u001b[0m\u001b[37m\u001b[0m \u001b[1m1s\u001b[0m 10ms/step - accuracy: 0.5831 - loss: 1.4297 - val_accuracy: 0.6016 - val_loss: 1.2296\n",
      "Epoch 5/100\n",
      "\u001b[1m64/64\u001b[0m \u001b[32m━━━━━━━━━━━━━━━━━━━━\u001b[0m\u001b[37m\u001b[0m \u001b[1m1s\u001b[0m 12ms/step - accuracy: 0.5905 - loss: 1.3532 - val_accuracy: 0.6719 - val_loss: 1.0799\n",
      "Epoch 6/100\n",
      "\u001b[1m64/64\u001b[0m \u001b[32m━━━━━━━━━━━━━━━━━━━━\u001b[0m\u001b[37m\u001b[0m \u001b[1m1s\u001b[0m 9ms/step - accuracy: 0.6162 - loss: 1.2196 - val_accuracy: 0.6953 - val_loss: 0.9798\n",
      "Epoch 7/100\n",
      "\u001b[1m64/64\u001b[0m \u001b[32m━━━━━━━━━━━━━━━━━━━━\u001b[0m\u001b[37m\u001b[0m \u001b[1m1s\u001b[0m 8ms/step - accuracy: 0.6658 - loss: 1.0487 - val_accuracy: 0.7012 - val_loss: 0.9322\n",
      "Epoch 8/100\n",
      "\u001b[1m64/64\u001b[0m \u001b[32m━━━━━━━━━━━━━━━━━━━━\u001b[0m\u001b[37m\u001b[0m \u001b[1m1s\u001b[0m 11ms/step - accuracy: 0.6866 - loss: 1.0202 - val_accuracy: 0.7578 - val_loss: 0.8247\n",
      "Epoch 9/100\n",
      "\u001b[1m64/64\u001b[0m \u001b[32m━━━━━━━━━━━━━━━━━━━━\u001b[0m\u001b[37m\u001b[0m \u001b[1m1s\u001b[0m 11ms/step - accuracy: 0.6991 - loss: 0.9159 - val_accuracy: 0.7695 - val_loss: 0.7728\n",
      "Epoch 10/100\n",
      "\u001b[1m64/64\u001b[0m \u001b[32m━━━━━━━━━━━━━━━━━━━━\u001b[0m\u001b[37m\u001b[0m \u001b[1m1s\u001b[0m 10ms/step - accuracy: 0.7249 - loss: 0.8876 - val_accuracy: 0.8027 - val_loss: 0.7023\n",
      "Epoch 11/100\n",
      "\u001b[1m64/64\u001b[0m \u001b[32m━━━━━━━━━━━━━━━━━━━━\u001b[0m\u001b[37m\u001b[0m \u001b[1m1s\u001b[0m 10ms/step - accuracy: 0.7530 - loss: 0.7983 - val_accuracy: 0.8438 - val_loss: 0.6488\n",
      "Epoch 12/100\n",
      "\u001b[1m64/64\u001b[0m \u001b[32m━━━━━━━━━━━━━━━━━━━━\u001b[0m\u001b[37m\u001b[0m \u001b[1m1s\u001b[0m 12ms/step - accuracy: 0.7651 - loss: 0.7851 - val_accuracy: 0.8418 - val_loss: 0.5903\n",
      "Epoch 13/100\n",
      "\u001b[1m64/64\u001b[0m \u001b[32m━━━━━━━━━━━━━━━━━━━━\u001b[0m\u001b[37m\u001b[0m \u001b[1m1s\u001b[0m 11ms/step - accuracy: 0.7781 - loss: 0.7217 - val_accuracy: 0.8457 - val_loss: 0.5568\n",
      "Epoch 14/100\n",
      "\u001b[1m64/64\u001b[0m \u001b[32m━━━━━━━━━━━━━━━━━━━━\u001b[0m\u001b[37m\u001b[0m \u001b[1m1s\u001b[0m 9ms/step - accuracy: 0.7949 - loss: 0.6852 - val_accuracy: 0.8613 - val_loss: 0.5368\n",
      "Epoch 15/100\n",
      "\u001b[1m64/64\u001b[0m \u001b[32m━━━━━━━━━━━━━━━━━━━━\u001b[0m\u001b[37m\u001b[0m \u001b[1m1s\u001b[0m 11ms/step - accuracy: 0.7974 - loss: 0.6567 - val_accuracy: 0.8672 - val_loss: 0.4933\n",
      "Epoch 16/100\n",
      "\u001b[1m64/64\u001b[0m \u001b[32m━━━━━━━━━━━━━━━━━━━━\u001b[0m\u001b[37m\u001b[0m \u001b[1m2s\u001b[0m 13ms/step - accuracy: 0.8092 - loss: 0.6029 - val_accuracy: 0.8711 - val_loss: 0.4590\n",
      "Epoch 17/100\n",
      "\u001b[1m64/64\u001b[0m \u001b[32m━━━━━━━━━━━━━━━━━━━━\u001b[0m\u001b[37m\u001b[0m \u001b[1m1s\u001b[0m 12ms/step - accuracy: 0.8169 - loss: 0.6144 - val_accuracy: 0.8828 - val_loss: 0.4616\n",
      "Epoch 18/100\n",
      "\u001b[1m64/64\u001b[0m \u001b[32m━━━━━━━━━━━━━━━━━━━━\u001b[0m\u001b[37m\u001b[0m \u001b[1m1s\u001b[0m 9ms/step - accuracy: 0.8474 - loss: 0.5619 - val_accuracy: 0.8945 - val_loss: 0.4199\n",
      "Epoch 19/100\n",
      "\u001b[1m64/64\u001b[0m \u001b[32m━━━━━━━━━━━━━━━━━━━━\u001b[0m\u001b[37m\u001b[0m \u001b[1m1s\u001b[0m 9ms/step - accuracy: 0.8239 - loss: 0.5521 - val_accuracy: 0.8828 - val_loss: 0.4303\n",
      "Epoch 20/100\n",
      "\u001b[1m64/64\u001b[0m \u001b[32m━━━━━━━━━━━━━━━━━━━━\u001b[0m\u001b[37m\u001b[0m \u001b[1m1s\u001b[0m 10ms/step - accuracy: 0.8387 - loss: 0.5781 - val_accuracy: 0.8984 - val_loss: 0.4028\n",
      "Epoch 21/100\n",
      "\u001b[1m64/64\u001b[0m \u001b[32m━━━━━━━━━━━━━━━━━━━━\u001b[0m\u001b[37m\u001b[0m \u001b[1m1s\u001b[0m 9ms/step - accuracy: 0.8522 - loss: 0.4812 - val_accuracy: 0.9121 - val_loss: 0.3773\n",
      "Epoch 22/100\n",
      "\u001b[1m64/64\u001b[0m \u001b[32m━━━━━━━━━━━━━━━━━━━━\u001b[0m\u001b[37m\u001b[0m \u001b[1m1s\u001b[0m 11ms/step - accuracy: 0.8657 - loss: 0.4870 - val_accuracy: 0.8926 - val_loss: 0.3632\n",
      "Epoch 23/100\n",
      "\u001b[1m64/64\u001b[0m \u001b[32m━━━━━━━━━━━━━━━━━━━━\u001b[0m\u001b[37m\u001b[0m \u001b[1m1s\u001b[0m 10ms/step - accuracy: 0.8577 - loss: 0.4758 - val_accuracy: 0.9023 - val_loss: 0.3395\n",
      "Epoch 24/100\n",
      "\u001b[1m64/64\u001b[0m \u001b[32m━━━━━━━━━━━━━━━━━━━━\u001b[0m\u001b[37m\u001b[0m \u001b[1m1s\u001b[0m 11ms/step - accuracy: 0.8650 - loss: 0.4496 - val_accuracy: 0.9082 - val_loss: 0.3553\n",
      "Epoch 25/100\n",
      "\u001b[1m64/64\u001b[0m \u001b[32m━━━━━━━━━━━━━━━━━━━━\u001b[0m\u001b[37m\u001b[0m \u001b[1m1s\u001b[0m 10ms/step - accuracy: 0.8789 - loss: 0.4373 - val_accuracy: 0.9004 - val_loss: 0.3495\n",
      "Epoch 26/100\n",
      "\u001b[1m64/64\u001b[0m \u001b[32m━━━━━━━━━━━━━━━━━━━━\u001b[0m\u001b[37m\u001b[0m \u001b[1m1s\u001b[0m 10ms/step - accuracy: 0.8700 - loss: 0.4346 - val_accuracy: 0.9023 - val_loss: 0.3170\n",
      "Epoch 27/100\n",
      "\u001b[1m64/64\u001b[0m \u001b[32m━━━━━━━━━━━━━━━━━━━━\u001b[0m\u001b[37m\u001b[0m \u001b[1m1s\u001b[0m 11ms/step - accuracy: 0.8870 - loss: 0.4035 - val_accuracy: 0.9219 - val_loss: 0.3051\n",
      "Epoch 28/100\n",
      "\u001b[1m64/64\u001b[0m \u001b[32m━━━━━━━━━━━━━━━━━━━━\u001b[0m\u001b[37m\u001b[0m \u001b[1m1s\u001b[0m 10ms/step - accuracy: 0.8860 - loss: 0.3739 - val_accuracy: 0.9199 - val_loss: 0.2959\n",
      "Epoch 29/100\n",
      "\u001b[1m64/64\u001b[0m \u001b[32m━━━━━━━━━━━━━━━━━━━━\u001b[0m\u001b[37m\u001b[0m \u001b[1m1s\u001b[0m 8ms/step - accuracy: 0.8982 - loss: 0.3812 - val_accuracy: 0.9336 - val_loss: 0.2806\n",
      "Epoch 30/100\n",
      "\u001b[1m64/64\u001b[0m \u001b[32m━━━━━━━━━━━━━━━━━━━━\u001b[0m\u001b[37m\u001b[0m \u001b[1m1s\u001b[0m 10ms/step - accuracy: 0.8839 - loss: 0.4027 - val_accuracy: 0.9238 - val_loss: 0.2822\n",
      "Epoch 31/100\n",
      "\u001b[1m64/64\u001b[0m \u001b[32m━━━━━━━━━━━━━━━━━━━━\u001b[0m\u001b[37m\u001b[0m \u001b[1m2s\u001b[0m 14ms/step - accuracy: 0.8985 - loss: 0.3391 - val_accuracy: 0.9297 - val_loss: 0.2529\n",
      "Epoch 32/100\n",
      "\u001b[1m64/64\u001b[0m \u001b[32m━━━━━━━━━━━━━━━━━━━━\u001b[0m\u001b[37m\u001b[0m \u001b[1m1s\u001b[0m 10ms/step - accuracy: 0.8945 - loss: 0.3560 - val_accuracy: 0.9199 - val_loss: 0.2678\n",
      "Epoch 33/100\n",
      "\u001b[1m64/64\u001b[0m \u001b[32m━━━━━━━━━━━━━━━━━━━━\u001b[0m\u001b[37m\u001b[0m \u001b[1m1s\u001b[0m 9ms/step - accuracy: 0.9029 - loss: 0.3597 - val_accuracy: 0.9395 - val_loss: 0.2501\n",
      "Epoch 34/100\n",
      "\u001b[1m64/64\u001b[0m \u001b[32m━━━━━━━━━━━━━━━━━━━━\u001b[0m\u001b[37m\u001b[0m \u001b[1m1s\u001b[0m 9ms/step - accuracy: 0.9004 - loss: 0.3701 - val_accuracy: 0.9434 - val_loss: 0.2402\n",
      "Epoch 35/100\n",
      "\u001b[1m64/64\u001b[0m \u001b[32m━━━━━━━━━━━━━━━━━━━━\u001b[0m\u001b[37m\u001b[0m \u001b[1m1s\u001b[0m 9ms/step - accuracy: 0.9149 - loss: 0.3226 - val_accuracy: 0.9297 - val_loss: 0.2462\n",
      "Epoch 36/100\n",
      "\u001b[1m64/64\u001b[0m \u001b[32m━━━━━━━━━━━━━━━━━━━━\u001b[0m\u001b[37m\u001b[0m \u001b[1m1s\u001b[0m 9ms/step - accuracy: 0.9079 - loss: 0.3076 - val_accuracy: 0.9414 - val_loss: 0.2288\n",
      "Epoch 37/100\n",
      "\u001b[1m64/64\u001b[0m \u001b[32m━━━━━━━━━━━━━━━━━━━━\u001b[0m\u001b[37m\u001b[0m \u001b[1m1s\u001b[0m 11ms/step - accuracy: 0.9018 - loss: 0.3228 - val_accuracy: 0.9375 - val_loss: 0.2267\n",
      "Epoch 38/100\n",
      "\u001b[1m64/64\u001b[0m \u001b[32m━━━━━━━━━━━━━━━━━━━━\u001b[0m\u001b[37m\u001b[0m \u001b[1m1s\u001b[0m 10ms/step - accuracy: 0.9058 - loss: 0.3146 - val_accuracy: 0.9316 - val_loss: 0.2399\n",
      "Epoch 39/100\n",
      "\u001b[1m64/64\u001b[0m \u001b[32m━━━━━━━━━━━━━━━━━━━━\u001b[0m\u001b[37m\u001b[0m \u001b[1m1s\u001b[0m 9ms/step - accuracy: 0.8997 - loss: 0.3030 - val_accuracy: 0.9414 - val_loss: 0.2146\n",
      "Epoch 40/100\n",
      "\u001b[1m64/64\u001b[0m \u001b[32m━━━━━━━━━━━━━━━━━━━━\u001b[0m\u001b[37m\u001b[0m \u001b[1m1s\u001b[0m 12ms/step - accuracy: 0.9095 - loss: 0.2835 - val_accuracy: 0.9258 - val_loss: 0.2306\n",
      "Epoch 41/100\n",
      "\u001b[1m64/64\u001b[0m \u001b[32m━━━━━━━━━━━━━━━━━━━━\u001b[0m\u001b[37m\u001b[0m \u001b[1m1s\u001b[0m 9ms/step - accuracy: 0.9133 - loss: 0.3027 - val_accuracy: 0.9551 - val_loss: 0.1992\n",
      "Epoch 42/100\n",
      "\u001b[1m64/64\u001b[0m \u001b[32m━━━━━━━━━━━━━━━━━━━━\u001b[0m\u001b[37m\u001b[0m \u001b[1m1s\u001b[0m 9ms/step - accuracy: 0.9234 - loss: 0.2474 - val_accuracy: 0.9531 - val_loss: 0.1972\n",
      "Epoch 43/100\n",
      "\u001b[1m64/64\u001b[0m \u001b[32m━━━━━━━━━━━━━━━━━━━━\u001b[0m\u001b[37m\u001b[0m \u001b[1m1s\u001b[0m 9ms/step - accuracy: 0.9169 - loss: 0.2927 - val_accuracy: 0.9473 - val_loss: 0.1967\n",
      "Epoch 44/100\n",
      "\u001b[1m64/64\u001b[0m \u001b[32m━━━━━━━━━━━━━━━━━━━━\u001b[0m\u001b[37m\u001b[0m \u001b[1m1s\u001b[0m 9ms/step - accuracy: 0.9284 - loss: 0.2523 - val_accuracy: 0.9473 - val_loss: 0.1860\n",
      "Epoch 45/100\n",
      "\u001b[1m64/64\u001b[0m \u001b[32m━━━━━━━━━━━━━━━━━━━━\u001b[0m\u001b[37m\u001b[0m \u001b[1m1s\u001b[0m 9ms/step - accuracy: 0.9154 - loss: 0.2883 - val_accuracy: 0.9570 - val_loss: 0.1805\n",
      "Epoch 46/100\n",
      "\u001b[1m64/64\u001b[0m \u001b[32m━━━━━━━━━━━━━━━━━━━━\u001b[0m\u001b[37m\u001b[0m \u001b[1m1s\u001b[0m 10ms/step - accuracy: 0.9224 - loss: 0.2526 - val_accuracy: 0.9512 - val_loss: 0.1951\n",
      "Epoch 47/100\n",
      "\u001b[1m64/64\u001b[0m \u001b[32m━━━━━━━━━━━━━━━━━━━━\u001b[0m\u001b[37m\u001b[0m \u001b[1m1s\u001b[0m 11ms/step - accuracy: 0.9182 - loss: 0.2582 - val_accuracy: 0.9316 - val_loss: 0.2025\n",
      "Epoch 48/100\n",
      "\u001b[1m64/64\u001b[0m \u001b[32m━━━━━━━━━━━━━━━━━━━━\u001b[0m\u001b[37m\u001b[0m \u001b[1m1s\u001b[0m 9ms/step - accuracy: 0.9272 - loss: 0.2407 - val_accuracy: 0.9355 - val_loss: 0.2142\n",
      "Epoch 49/100\n",
      "\u001b[1m64/64\u001b[0m \u001b[32m━━━━━━━━━━━━━━━━━━━━\u001b[0m\u001b[37m\u001b[0m \u001b[1m1s\u001b[0m 9ms/step - accuracy: 0.9363 - loss: 0.2453 - val_accuracy: 0.9590 - val_loss: 0.1747\n",
      "Epoch 50/100\n",
      "\u001b[1m64/64\u001b[0m \u001b[32m━━━━━━━━━━━━━━━━━━━━\u001b[0m\u001b[37m\u001b[0m \u001b[1m1s\u001b[0m 9ms/step - accuracy: 0.9267 - loss: 0.2319 - val_accuracy: 0.9551 - val_loss: 0.1702\n",
      "Epoch 51/100\n",
      "\u001b[1m64/64\u001b[0m \u001b[32m━━━━━━━━━━━━━━━━━━━━\u001b[0m\u001b[37m\u001b[0m \u001b[1m1s\u001b[0m 9ms/step - accuracy: 0.9420 - loss: 0.2033 - val_accuracy: 0.9590 - val_loss: 0.1737\n",
      "Epoch 52/100\n",
      "\u001b[1m64/64\u001b[0m \u001b[32m━━━━━━━━━━━━━━━━━━━━\u001b[0m\u001b[37m\u001b[0m \u001b[1m1s\u001b[0m 9ms/step - accuracy: 0.9320 - loss: 0.2690 - val_accuracy: 0.9551 - val_loss: 0.1669\n",
      "Epoch 53/100\n",
      "\u001b[1m64/64\u001b[0m \u001b[32m━━━━━━━━━━━━━━━━━━━━\u001b[0m\u001b[37m\u001b[0m \u001b[1m1s\u001b[0m 9ms/step - accuracy: 0.9319 - loss: 0.2307 - val_accuracy: 0.9512 - val_loss: 0.1699\n",
      "Epoch 54/100\n",
      "\u001b[1m64/64\u001b[0m \u001b[32m━━━━━━━━━━━━━━━━━━━━\u001b[0m\u001b[37m\u001b[0m \u001b[1m1s\u001b[0m 10ms/step - accuracy: 0.9294 - loss: 0.2425 - val_accuracy: 0.9551 - val_loss: 0.1589\n",
      "Epoch 55/100\n",
      "\u001b[1m64/64\u001b[0m \u001b[32m━━━━━━━━━━━━━━━━━━━━\u001b[0m\u001b[37m\u001b[0m \u001b[1m1s\u001b[0m 10ms/step - accuracy: 0.9325 - loss: 0.2272 - val_accuracy: 0.9609 - val_loss: 0.1444\n",
      "Epoch 56/100\n",
      "\u001b[1m64/64\u001b[0m \u001b[32m━━━━━━━━━━━━━━━━━━━━\u001b[0m\u001b[37m\u001b[0m \u001b[1m1s\u001b[0m 9ms/step - accuracy: 0.9364 - loss: 0.2203 - val_accuracy: 0.9531 - val_loss: 0.1696\n",
      "Epoch 57/100\n",
      "\u001b[1m64/64\u001b[0m \u001b[32m━━━━━━━━━━━━━━━━━━━━\u001b[0m\u001b[37m\u001b[0m \u001b[1m1s\u001b[0m 10ms/step - accuracy: 0.9387 - loss: 0.2015 - val_accuracy: 0.9590 - val_loss: 0.1517\n",
      "Epoch 58/100\n",
      "\u001b[1m64/64\u001b[0m \u001b[32m━━━━━━━━━━━━━━━━━━━━\u001b[0m\u001b[37m\u001b[0m \u001b[1m1s\u001b[0m 11ms/step - accuracy: 0.9372 - loss: 0.2049 - val_accuracy: 0.9590 - val_loss: 0.1433\n",
      "Epoch 59/100\n",
      "\u001b[1m64/64\u001b[0m \u001b[32m━━━━━━━━━━━━━━━━━━━━\u001b[0m\u001b[37m\u001b[0m \u001b[1m1s\u001b[0m 9ms/step - accuracy: 0.9397 - loss: 0.1989 - val_accuracy: 0.9570 - val_loss: 0.1557\n",
      "Epoch 60/100\n",
      "\u001b[1m64/64\u001b[0m \u001b[32m━━━━━━━━━━━━━━━━━━━━\u001b[0m\u001b[37m\u001b[0m \u001b[1m1s\u001b[0m 10ms/step - accuracy: 0.9433 - loss: 0.2066 - val_accuracy: 0.9531 - val_loss: 0.1709\n",
      "Epoch 61/100\n",
      "\u001b[1m64/64\u001b[0m \u001b[32m━━━━━━━━━━━━━━━━━━━━\u001b[0m\u001b[37m\u001b[0m \u001b[1m1s\u001b[0m 10ms/step - accuracy: 0.9376 - loss: 0.2083 - val_accuracy: 0.9590 - val_loss: 0.1374\n",
      "Epoch 62/100\n",
      "\u001b[1m64/64\u001b[0m \u001b[32m━━━━━━━━━━━━━━━━━━━━\u001b[0m\u001b[37m\u001b[0m \u001b[1m1s\u001b[0m 9ms/step - accuracy: 0.9387 - loss: 0.2048 - val_accuracy: 0.9492 - val_loss: 0.1609\n",
      "Epoch 63/100\n",
      "\u001b[1m64/64\u001b[0m \u001b[32m━━━━━━━━━━━━━━━━━━━━\u001b[0m\u001b[37m\u001b[0m \u001b[1m1s\u001b[0m 10ms/step - accuracy: 0.9368 - loss: 0.1942 - val_accuracy: 0.9590 - val_loss: 0.1433\n",
      "Epoch 64/100\n",
      "\u001b[1m64/64\u001b[0m \u001b[32m━━━━━━━━━━━━━━━━━━━━\u001b[0m\u001b[37m\u001b[0m \u001b[1m1s\u001b[0m 9ms/step - accuracy: 0.9358 - loss: 0.1840 - val_accuracy: 0.9609 - val_loss: 0.1312\n",
      "Epoch 65/100\n",
      "\u001b[1m64/64\u001b[0m \u001b[32m━━━━━━━━━━━━━━━━━━━━\u001b[0m\u001b[37m\u001b[0m \u001b[1m1s\u001b[0m 9ms/step - accuracy: 0.9390 - loss: 0.1972 - val_accuracy: 0.9570 - val_loss: 0.1354\n",
      "Epoch 66/100\n",
      "\u001b[1m64/64\u001b[0m \u001b[32m━━━━━━━━━━━━━━━━━━━━\u001b[0m\u001b[37m\u001b[0m \u001b[1m1s\u001b[0m 10ms/step - accuracy: 0.9445 - loss: 0.1667 - val_accuracy: 0.9609 - val_loss: 0.1382\n",
      "Epoch 67/100\n",
      "\u001b[1m64/64\u001b[0m \u001b[32m━━━━━━━━━━━━━━━━━━━━\u001b[0m\u001b[37m\u001b[0m \u001b[1m1s\u001b[0m 11ms/step - accuracy: 0.9372 - loss: 0.1713 - val_accuracy: 0.9570 - val_loss: 0.1453\n",
      "Epoch 68/100\n",
      "\u001b[1m64/64\u001b[0m \u001b[32m━━━━━━━━━━━━━━━━━━━━\u001b[0m\u001b[37m\u001b[0m \u001b[1m1s\u001b[0m 10ms/step - accuracy: 0.9429 - loss: 0.1824 - val_accuracy: 0.9609 - val_loss: 0.1230\n",
      "Epoch 69/100\n",
      "\u001b[1m64/64\u001b[0m \u001b[32m━━━━━━━━━━━━━━━━━━━━\u001b[0m\u001b[37m\u001b[0m \u001b[1m1s\u001b[0m 9ms/step - accuracy: 0.9488 - loss: 0.1711 - val_accuracy: 0.9609 - val_loss: 0.1238\n",
      "Epoch 70/100\n",
      "\u001b[1m64/64\u001b[0m \u001b[32m━━━━━━━━━━━━━━━━━━━━\u001b[0m\u001b[37m\u001b[0m \u001b[1m1s\u001b[0m 9ms/step - accuracy: 0.9445 - loss: 0.1525 - val_accuracy: 0.9570 - val_loss: 0.1137\n",
      "Epoch 71/100\n",
      "\u001b[1m64/64\u001b[0m \u001b[32m━━━━━━━━━━━━━━━━━━━━\u001b[0m\u001b[37m\u001b[0m \u001b[1m1s\u001b[0m 9ms/step - accuracy: 0.9463 - loss: 0.1662 - val_accuracy: 0.9570 - val_loss: 0.1194\n",
      "Epoch 72/100\n",
      "\u001b[1m64/64\u001b[0m \u001b[32m━━━━━━━━━━━━━━━━━━━━\u001b[0m\u001b[37m\u001b[0m \u001b[1m1s\u001b[0m 10ms/step - accuracy: 0.9473 - loss: 0.1536 - val_accuracy: 0.9609 - val_loss: 0.1332\n",
      "Epoch 73/100\n",
      "\u001b[1m64/64\u001b[0m \u001b[32m━━━━━━━━━━━━━━━━━━━━\u001b[0m\u001b[37m\u001b[0m \u001b[1m1s\u001b[0m 10ms/step - accuracy: 0.9495 - loss: 0.1640 - val_accuracy: 0.9570 - val_loss: 0.1123\n",
      "Epoch 74/100\n",
      "\u001b[1m64/64\u001b[0m \u001b[32m━━━━━━━━━━━━━━━━━━━━\u001b[0m\u001b[37m\u001b[0m \u001b[1m1s\u001b[0m 9ms/step - accuracy: 0.9374 - loss: 0.1777 - val_accuracy: 0.9473 - val_loss: 0.1541\n",
      "Epoch 75/100\n",
      "\u001b[1m64/64\u001b[0m \u001b[32m━━━━━━━━━━━━━━━━━━━━\u001b[0m\u001b[37m\u001b[0m \u001b[1m1s\u001b[0m 10ms/step - accuracy: 0.9505 - loss: 0.1608 - val_accuracy: 0.9570 - val_loss: 0.1240\n",
      "Epoch 76/100\n",
      "\u001b[1m64/64\u001b[0m \u001b[32m━━━━━━━━━━━━━━━━━━━━\u001b[0m\u001b[37m\u001b[0m \u001b[1m1s\u001b[0m 10ms/step - accuracy: 0.9404 - loss: 0.1596 - val_accuracy: 0.9590 - val_loss: 0.1204\n",
      "Epoch 77/100\n",
      "\u001b[1m64/64\u001b[0m \u001b[32m━━━━━━━━━━━━━━━━━━━━\u001b[0m\u001b[37m\u001b[0m \u001b[1m1s\u001b[0m 9ms/step - accuracy: 0.9553 - loss: 0.1330 - val_accuracy: 0.9648 - val_loss: 0.1127\n",
      "Epoch 78/100\n",
      "\u001b[1m64/64\u001b[0m \u001b[32m━━━━━━━━━━━━━━━━━━━━\u001b[0m\u001b[37m\u001b[0m \u001b[1m1s\u001b[0m 9ms/step - accuracy: 0.9455 - loss: 0.1654 - val_accuracy: 0.9648 - val_loss: 0.1146\n",
      "Epoch 79/100\n",
      "\u001b[1m64/64\u001b[0m \u001b[32m━━━━━━━━━━━━━━━━━━━━\u001b[0m\u001b[37m\u001b[0m \u001b[1m1s\u001b[0m 10ms/step - accuracy: 0.9504 - loss: 0.1538 - val_accuracy: 0.9629 - val_loss: 0.1215\n",
      "Epoch 80/100\n",
      "\u001b[1m64/64\u001b[0m \u001b[32m━━━━━━━━━━━━━━━━━━━━\u001b[0m\u001b[37m\u001b[0m \u001b[1m1s\u001b[0m 9ms/step - accuracy: 0.9507 - loss: 0.1422 - val_accuracy: 0.9551 - val_loss: 0.1156\n",
      "Epoch 81/100\n",
      "\u001b[1m64/64\u001b[0m \u001b[32m━━━━━━━━━━━━━━━━━━━━\u001b[0m\u001b[37m\u001b[0m \u001b[1m1s\u001b[0m 10ms/step - accuracy: 0.9561 - loss: 0.1333 - val_accuracy: 0.9473 - val_loss: 0.1367\n",
      "Epoch 82/100\n",
      "\u001b[1m64/64\u001b[0m \u001b[32m━━━━━━━━━━━━━━━━━━━━\u001b[0m\u001b[37m\u001b[0m \u001b[1m1s\u001b[0m 10ms/step - accuracy: 0.9689 - loss: 0.1226 - val_accuracy: 0.9551 - val_loss: 0.1282\n",
      "Epoch 83/100\n",
      "\u001b[1m64/64\u001b[0m \u001b[32m━━━━━━━━━━━━━━━━━━━━\u001b[0m\u001b[37m\u001b[0m \u001b[1m1s\u001b[0m 10ms/step - accuracy: 0.9541 - loss: 0.1429 - val_accuracy: 0.9590 - val_loss: 0.1149\n",
      "Epoch 84/100\n",
      "\u001b[1m64/64\u001b[0m \u001b[32m━━━━━━━━━━━━━━━━━━━━\u001b[0m\u001b[37m\u001b[0m \u001b[1m1s\u001b[0m 11ms/step - accuracy: 0.9567 - loss: 0.1372 - val_accuracy: 0.9609 - val_loss: 0.1171\n",
      "Epoch 85/100\n",
      "\u001b[1m64/64\u001b[0m \u001b[32m━━━━━━━━━━━━━━━━━━━━\u001b[0m\u001b[37m\u001b[0m \u001b[1m1s\u001b[0m 12ms/step - accuracy: 0.9669 - loss: 0.1166 - val_accuracy: 0.9609 - val_loss: 0.1063\n",
      "Epoch 86/100\n",
      "\u001b[1m64/64\u001b[0m \u001b[32m━━━━━━━━━━━━━━━━━━━━\u001b[0m\u001b[37m\u001b[0m \u001b[1m1s\u001b[0m 11ms/step - accuracy: 0.9512 - loss: 0.1285 - val_accuracy: 0.9648 - val_loss: 0.1030\n",
      "Epoch 87/100\n",
      "\u001b[1m64/64\u001b[0m \u001b[32m━━━━━━━━━━━━━━━━━━━━\u001b[0m\u001b[37m\u001b[0m \u001b[1m1s\u001b[0m 10ms/step - accuracy: 0.9583 - loss: 0.1171 - val_accuracy: 0.9648 - val_loss: 0.0989\n",
      "Epoch 88/100\n",
      "\u001b[1m64/64\u001b[0m \u001b[32m━━━━━━━━━━━━━━━━━━━━\u001b[0m\u001b[37m\u001b[0m \u001b[1m1s\u001b[0m 10ms/step - accuracy: 0.9648 - loss: 0.1117 - val_accuracy: 0.9648 - val_loss: 0.0921\n",
      "Epoch 89/100\n",
      "\u001b[1m64/64\u001b[0m \u001b[32m━━━━━━━━━━━━━━━━━━━━\u001b[0m\u001b[37m\u001b[0m \u001b[1m1s\u001b[0m 9ms/step - accuracy: 0.9588 - loss: 0.1331 - val_accuracy: 0.9609 - val_loss: 0.1122\n",
      "Epoch 90/100\n",
      "\u001b[1m64/64\u001b[0m \u001b[32m━━━━━━━━━━━━━━━━━━━━\u001b[0m\u001b[37m\u001b[0m \u001b[1m1s\u001b[0m 9ms/step - accuracy: 0.9698 - loss: 0.1015 - val_accuracy: 0.9570 - val_loss: 0.1209\n",
      "Epoch 91/100\n",
      "\u001b[1m64/64\u001b[0m \u001b[32m━━━━━━━━━━━━━━━━━━━━\u001b[0m\u001b[37m\u001b[0m \u001b[1m1s\u001b[0m 10ms/step - accuracy: 0.9560 - loss: 0.1293 - val_accuracy: 0.9609 - val_loss: 0.1145\n",
      "Epoch 92/100\n",
      "\u001b[1m64/64\u001b[0m \u001b[32m━━━━━━━━━━━━━━━━━━━━\u001b[0m\u001b[37m\u001b[0m \u001b[1m1s\u001b[0m 10ms/step - accuracy: 0.9557 - loss: 0.1173 - val_accuracy: 0.9590 - val_loss: 0.1050\n",
      "Epoch 93/100\n",
      "\u001b[1m64/64\u001b[0m \u001b[32m━━━━━━━━━━━━━━━━━━━━\u001b[0m\u001b[37m\u001b[0m \u001b[1m1s\u001b[0m 13ms/step - accuracy: 0.9578 - loss: 0.1397 - val_accuracy: 0.9629 - val_loss: 0.1010\n",
      "Epoch 94/100\n",
      "\u001b[1m64/64\u001b[0m \u001b[32m━━━━━━━━━━━━━━━━━━━━\u001b[0m\u001b[37m\u001b[0m \u001b[1m1s\u001b[0m 9ms/step - accuracy: 0.9563 - loss: 0.1449 - val_accuracy: 0.9629 - val_loss: 0.1138\n",
      "Epoch 95/100\n",
      "\u001b[1m64/64\u001b[0m \u001b[32m━━━━━━━━━━━━━━━━━━━━\u001b[0m\u001b[37m\u001b[0m \u001b[1m1s\u001b[0m 9ms/step - accuracy: 0.9498 - loss: 0.1390 - val_accuracy: 0.9609 - val_loss: 0.1140\n",
      "Epoch 96/100\n",
      "\u001b[1m64/64\u001b[0m \u001b[32m━━━━━━━━━━━━━━━━━━━━\u001b[0m\u001b[37m\u001b[0m \u001b[1m1s\u001b[0m 11ms/step - accuracy: 0.9548 - loss: 0.1479 - val_accuracy: 0.9609 - val_loss: 0.1083\n",
      "Epoch 97/100\n",
      "\u001b[1m64/64\u001b[0m \u001b[32m━━━━━━━━━━━━━━━━━━━━\u001b[0m\u001b[37m\u001b[0m \u001b[1m1s\u001b[0m 11ms/step - accuracy: 0.9559 - loss: 0.1317 - val_accuracy: 0.9648 - val_loss: 0.1081\n",
      "Epoch 98/100\n",
      "\u001b[1m64/64\u001b[0m \u001b[32m━━━━━━━━━━━━━━━━━━━━\u001b[0m\u001b[37m\u001b[0m \u001b[1m1s\u001b[0m 12ms/step - accuracy: 0.9595 - loss: 0.1126 - val_accuracy: 0.9648 - val_loss: 0.1062\n",
      "Epoch 99/100\n",
      "\u001b[1m64/64\u001b[0m \u001b[32m━━━━━━━━━━━━━━━━━━━━\u001b[0m\u001b[37m\u001b[0m \u001b[1m1s\u001b[0m 10ms/step - accuracy: 0.9678 - loss: 0.1022 - val_accuracy: 0.9648 - val_loss: 0.1000\n",
      "Epoch 100/100\n",
      "\u001b[1m64/64\u001b[0m \u001b[32m━━━━━━━━━━━━━━━━━━━━\u001b[0m\u001b[37m\u001b[0m \u001b[1m1s\u001b[0m 12ms/step - accuracy: 0.9611 - loss: 0.1057 - val_accuracy: 0.9609 - val_loss: 0.1127\n",
      "\u001b[1m16/16\u001b[0m \u001b[32m━━━━━━━━━━━━━━━━━━━━\u001b[0m\u001b[37m\u001b[0m \u001b[1m0s\u001b[0m 7ms/step - accuracy: 0.9560 - loss: 0.1052\n",
      "\n",
      "Test Accuracy: 96.09%\n"
     ]
    }
   ],
   "source": [
    "from tensorflow.keras.models import Sequential\n",
    "from tensorflow.keras.layers import Conv2D, MaxPooling2D, Flatten, Dense, Dropout\n",
    "import numpy as np # Pastikan numpy diimpor jika num_classes dihitung di sini\n",
    "\n",
    "# Pastikan num_classes dihitung dari data y yang sudah ada\n",
    "# Jika y belum didefinisikan di sel ini, pastikan sel sebelumnya (pengumpulan data) sudah dijalankan.\n",
    "if 'y' not in locals():\n",
    "    raise NameError(\"Variabel 'y' (label data) belum didefinisikan. Pastikan sel pengumpulan data telah dijalankan.\")\n",
    "\n",
    "num_classes = len(np.unique(y))\n",
    "\n",
    "# Bangun model CNN dengan padding 'same'\n",
    "model = Sequential([\n",
    "    Conv2D(32, (3, 3), activation='relu', padding='same', input_shape=(11, 6, 1)),\n",
    "    MaxPooling2D((2, 2)),\n",
    "    Conv2D(64, (3, 3), activation='relu', padding='same'),\n",
    "    Flatten(),\n",
    "    Dense(128, activation='relu'),\n",
    "    Dropout(0.5),\n",
    "    Dense(num_classes, activation='softmax')\n",
    "])\n",
    "\n",
    "# Kompilasi model\n",
    "model.compile(optimizer='adam', loss='sparse_categorical_crossentropy', metrics=['accuracy'])\n",
    "model.summary() # Hapus karakter 'a' di sini\n",
    "\n",
    "# Training\n",
    "history = model.fit(\n",
    "    X_train, y_train,\n",
    "    validation_data=(X_test, y_test),\n",
    "    epochs=100,\n",
    "    batch_size=32\n",
    ")\n",
    "\n",
    "# Evaluasi\n",
    "loss, accuracy = model.evaluate(X_test, y_test)\n",
    "print(f\"\\nTest Accuracy: {accuracy * 100:.2f}%\")"
   ]
  },
  {
   "cell_type": "code",
   "execution_count": 49,
   "metadata": {
    "colab": {
     "base_uri": "https://localhost:8080/"
    },
    "executionInfo": {
     "elapsed": 35,
     "status": "ok",
     "timestamp": 1750785196831,
     "user": {
      "displayName": "Agit Saputra",
      "userId": "06617746144594588797"
     },
     "user_tz": -420
    },
    "id": "32HM8n5K6qWz",
    "outputId": "b65dced5-e957-40d6-f78b-c55a6e79e963"
   },
   "outputs": [
    {
     "name": "stderr",
     "output_type": "stream",
     "text": [
      "WARNING:absl:You are saving your model as an HDF5 file via `model.save()` or `keras.saving.save_model(model)`. This file format is considered legacy. We recommend using instead the native Keras format, e.g. `model.save('my_model.keras')` or `keras.saving.save_model(model, 'my_model.keras')`. \n"
     ]
    }
   ],
   "source": [
    "# Simpan model\n",
    "model.save(\"D:\\Semester 6\\PEMROGRAMAN SISTEM CERDAS 2\\capstone_mp_model\\model2\\pose_cnn_model.h5\")"
   ]
  },
  {
   "cell_type": "code",
   "execution_count": 50,
   "metadata": {
    "colab": {
     "base_uri": "https://localhost:8080/"
    },
    "executionInfo": {
     "elapsed": 880,
     "status": "ok",
     "timestamp": 1750785295177,
     "user": {
      "displayName": "Agit Saputra",
      "userId": "06617746144594588797"
     },
     "user_tz": -420
    },
    "id": "wC4SXuyu7J8t",
    "outputId": "c96d4bc2-fc9a-4ad3-c29b-e23cd0aa6958"
   },
   "outputs": [
    {
     "name": "stdout",
     "output_type": "stream",
     "text": [
      "INFO:tensorflow:Assets written to: C:\\Users\\skymo\\AppData\\Local\\Temp\\tmp52g32s1n\\assets\n"
     ]
    },
    {
     "name": "stderr",
     "output_type": "stream",
     "text": [
      "INFO:tensorflow:Assets written to: C:\\Users\\skymo\\AppData\\Local\\Temp\\tmp52g32s1n\\assets\n"
     ]
    },
    {
     "name": "stdout",
     "output_type": "stream",
     "text": [
      "Saved artifact at 'C:\\Users\\skymo\\AppData\\Local\\Temp\\tmp52g32s1n'. The following endpoints are available:\n",
      "\n",
      "* Endpoint 'serve'\n",
      "  args_0 (POSITIONAL_ONLY): TensorSpec(shape=(None, 11, 6, 1), dtype=tf.float32, name='keras_tensor_55')\n",
      "Output Type:\n",
      "  TensorSpec(shape=(None, 15), dtype=tf.float32, name=None)\n",
      "Captures:\n",
      "  2941128114592: TensorSpec(shape=(), dtype=tf.resource, name=None)\n",
      "  2941128114944: TensorSpec(shape=(), dtype=tf.resource, name=None)\n",
      "  2941128126912: TensorSpec(shape=(), dtype=tf.resource, name=None)\n",
      "  2941037944976: TensorSpec(shape=(), dtype=tf.resource, name=None)\n",
      "  2941037944096: TensorSpec(shape=(), dtype=tf.resource, name=None)\n",
      "  2941037940224: TensorSpec(shape=(), dtype=tf.resource, name=None)\n",
      "  2941037944624: TensorSpec(shape=(), dtype=tf.resource, name=None)\n",
      "  2941037945328: TensorSpec(shape=(), dtype=tf.resource, name=None)\n"
     ]
    }
   ],
   "source": [
    "import tensorflow as tf\n",
    "\n",
    "converter = tf.lite.TFLiteConverter.from_keras_model(model)\n",
    "tflite_model = converter.convert()\n",
    "\n",
    "with open(\"D:\\Semester 6\\PEMROGRAMAN SISTEM CERDAS 2\\capstone_mp_model\\model2\\model.tflite\", \"wb\") as f:\n",
    "    f.write(tflite_model)\n"
   ]
  }
 ],
 "metadata": {
  "accelerator": "GPU",
  "colab": {
   "authorship_tag": "ABX9TyOd4xt5WBX/HpIgJd7zBx3k",
   "collapsed_sections": [
    "4O5BrTRTmsKM",
    "C98o1tnBnEHx",
    "ZZE0BRdznMVj",
    "-MUq93rKnXbR",
    "r3ETmWNSnd5t",
    "BuUhT5r1nl2l"
   ],
   "gpuType": "T4",
   "mount_file_id": "1FL6UMeqzVhXOEYKncf0eCoysNHmv4wvG",
   "provenance": []
  },
  "kernelspec": {
   "display_name": "Python 3",
   "name": "python3"
  },
  "language_info": {
   "codemirror_mode": {
    "name": "ipython",
    "version": 3
   },
   "file_extension": ".py",
   "mimetype": "text/x-python",
   "name": "python",
   "nbconvert_exporter": "python",
   "pygments_lexer": "ipython3",
   "version": "3.10.0"
  }
 },
 "nbformat": 4,
 "nbformat_minor": 0
}
